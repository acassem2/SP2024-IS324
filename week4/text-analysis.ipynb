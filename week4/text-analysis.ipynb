{
 "cells": [
  {
   "cell_type": "markdown",
   "metadata": {},
   "source": [
    "> * Text analysis is an essential part of social network analysis.\n",
    "> * Imagine you have a social media dataset with tweets. You want to analyze text to find nodes and edges as well as what they are talking about.\n",
    "> * You can use text analysis to find the most frequent words, hashtags, and mentions."
   ]
  },
  {
   "cell_type": "code",
   "execution_count": 1,
   "metadata": {},
   "outputs": [],
   "source": [
    "import pandas as pd\n",
    "from nltk.tokenize import word_tokenize\n",
    "from nltk.tokenize import TweetTokenizer\n",
    "from nltk.corpus import stopwords\n",
    "from nltk.util import ngrams"
   ]
  },
  {
   "cell_type": "markdown",
   "metadata": {},
   "source": [
    "> * We are going to use the `nltk` library to analyze text.\n",
    "> * `from` is telling Python to import a library called `nltk`.\n",
    "> * `import` is used to import a specific module from a library."
   ]
  },
  {
   "cell_type": "code",
   "execution_count": 2,
   "metadata": {},
   "outputs": [],
   "source": [
    "data=pd.read_csv('../week3/Political-media-DFE.csv', encoding='latin1')"
   ]
  },
  {
   "cell_type": "markdown",
   "metadata": {},
   "source": [
    "> * Let's import the data from week 3."
   ]
  },
  {
   "cell_type": "code",
   "execution_count": 3,
   "metadata": {},
   "outputs": [
    {
     "data": {
      "text/plain": [
       "Index(['_unit_id', '_golden', '_unit_state', '_trusted_judgments',\n",
       "       '_last_judgment_at', 'audience', 'audience:confidence', 'bias',\n",
       "       'bias:confidence', 'message', 'message:confidence', 'orig__golden',\n",
       "       'audience_gold', 'bias_gold', 'bioid', 'embed', 'id', 'label',\n",
       "       'message_gold', 'source', 'text'],\n",
       "      dtype='object')"
      ]
     },
     "execution_count": 3,
     "metadata": {},
     "output_type": "execute_result"
    }
   ],
   "source": [
    "data.columns"
   ]
  },
  {
   "cell_type": "code",
   "execution_count": 4,
   "metadata": {},
   "outputs": [
    {
     "data": {
      "text/plain": [
       "_unit_id                 int64\n",
       "_golden                   bool\n",
       "_unit_state             object\n",
       "_trusted_judgments       int64\n",
       "_last_judgment_at       object\n",
       "audience                object\n",
       "audience:confidence    float64\n",
       "bias                    object\n",
       "bias:confidence        float64\n",
       "message                 object\n",
       "message:confidence     float64\n",
       "orig__golden           float64\n",
       "audience_gold          float64\n",
       "bias_gold              float64\n",
       "bioid                   object\n",
       "embed                   object\n",
       "id                      object\n",
       "label                   object\n",
       "message_gold           float64\n",
       "source                  object\n",
       "text                    object\n",
       "dtype: object"
      ]
     },
     "execution_count": 4,
     "metadata": {},
     "output_type": "execute_result"
    }
   ],
   "source": [
    "data.dtypes"
   ]
  },
  {
   "cell_type": "markdown",
   "metadata": {},
   "source": [
    "> * `.dtypes` is used to check the data type of each column."
   ]
  },
  {
   "cell_type": "markdown",
   "metadata": {},
   "source": [
    "> * Let's subset the data to have who posted, where they posted (social media platform), and what they posted."
   ]
  },
  {
   "cell_type": "code",
   "execution_count": 21,
   "metadata": {},
   "outputs": [],
   "source": [
    "content=data[['label', 'source', 'text']]"
   ]
  },
  {
   "cell_type": "code",
   "execution_count": 6,
   "metadata": {},
   "outputs": [
    {
     "data": {
      "text/html": [
       "<div>\n",
       "<style scoped>\n",
       "    .dataframe tbody tr th:only-of-type {\n",
       "        vertical-align: middle;\n",
       "    }\n",
       "\n",
       "    .dataframe tbody tr th {\n",
       "        vertical-align: top;\n",
       "    }\n",
       "\n",
       "    .dataframe thead th {\n",
       "        text-align: right;\n",
       "    }\n",
       "</style>\n",
       "<table border=\"1\" class=\"dataframe\">\n",
       "  <thead>\n",
       "    <tr style=\"text-align: right;\">\n",
       "      <th></th>\n",
       "      <th>label</th>\n",
       "      <th>source</th>\n",
       "      <th>text</th>\n",
       "    </tr>\n",
       "  </thead>\n",
       "  <tbody>\n",
       "    <tr>\n",
       "      <th>0</th>\n",
       "      <td>From: Trey Radel (Representative from Florida)</td>\n",
       "      <td>twitter</td>\n",
       "      <td>RT @nowthisnews: Rep. Trey Radel (R- #FL) slam...</td>\n",
       "    </tr>\n",
       "    <tr>\n",
       "      <th>1</th>\n",
       "      <td>From: Mitch McConnell (Senator from Kentucky)</td>\n",
       "      <td>twitter</td>\n",
       "      <td>VIDEO - #Obamacare:  Full of Higher Costs and ...</td>\n",
       "    </tr>\n",
       "    <tr>\n",
       "      <th>2</th>\n",
       "      <td>From: Kurt Schrader (Representative from Oregon)</td>\n",
       "      <td>twitter</td>\n",
       "      <td>Please join me today in remembering our fallen...</td>\n",
       "    </tr>\n",
       "    <tr>\n",
       "      <th>3</th>\n",
       "      <td>From: Michael Crapo (Senator from Idaho)</td>\n",
       "      <td>twitter</td>\n",
       "      <td>RT @SenatorLeahy: 1st step toward Senate debat...</td>\n",
       "    </tr>\n",
       "    <tr>\n",
       "      <th>4</th>\n",
       "      <td>From: Mark Udall (Senator from Colorado)</td>\n",
       "      <td>twitter</td>\n",
       "      <td>.@amazon delivery #drones show need to update ...</td>\n",
       "    </tr>\n",
       "    <tr>\n",
       "      <th>...</th>\n",
       "      <td>...</td>\n",
       "      <td>...</td>\n",
       "      <td>...</td>\n",
       "    </tr>\n",
       "    <tr>\n",
       "      <th>4995</th>\n",
       "      <td>From: Ted Yoho (Representative from Florida)</td>\n",
       "      <td>facebook</td>\n",
       "      <td>I applaud Governor PerryÛªs recent decision t...</td>\n",
       "    </tr>\n",
       "    <tr>\n",
       "      <th>4996</th>\n",
       "      <td>From: Ted Yoho (Representative from Florida)</td>\n",
       "      <td>facebook</td>\n",
       "      <td>Today, I voted in favor of H.R. 5016 - Financi...</td>\n",
       "    </tr>\n",
       "    <tr>\n",
       "      <th>4997</th>\n",
       "      <td>From: Ted Yoho (Representative from Florida)</td>\n",
       "      <td>facebook</td>\n",
       "      <td>(Taken from posted WOKV interview)   Congressm...</td>\n",
       "    </tr>\n",
       "    <tr>\n",
       "      <th>4998</th>\n",
       "      <td>From: Ted Yoho (Representative from Florida)</td>\n",
       "      <td>facebook</td>\n",
       "      <td>Join me next week for a town hall in Ocala! I'...</td>\n",
       "    </tr>\n",
       "    <tr>\n",
       "      <th>4999</th>\n",
       "      <td>From: Ted Yoho (Representative from Florida)</td>\n",
       "      <td>facebook</td>\n",
       "      <td>Foreign Affairs Committee Hearing on Syria. I ...</td>\n",
       "    </tr>\n",
       "  </tbody>\n",
       "</table>\n",
       "<p>5000 rows × 3 columns</p>\n",
       "</div>"
      ],
      "text/plain": [
       "                                                 label    source  \\\n",
       "0       From: Trey Radel (Representative from Florida)   twitter   \n",
       "1        From: Mitch McConnell (Senator from Kentucky)   twitter   \n",
       "2     From: Kurt Schrader (Representative from Oregon)   twitter   \n",
       "3             From: Michael Crapo (Senator from Idaho)   twitter   \n",
       "4             From: Mark Udall (Senator from Colorado)   twitter   \n",
       "...                                                ...       ...   \n",
       "4995      From: Ted Yoho (Representative from Florida)  facebook   \n",
       "4996      From: Ted Yoho (Representative from Florida)  facebook   \n",
       "4997      From: Ted Yoho (Representative from Florida)  facebook   \n",
       "4998      From: Ted Yoho (Representative from Florida)  facebook   \n",
       "4999      From: Ted Yoho (Representative from Florida)  facebook   \n",
       "\n",
       "                                                   text  \n",
       "0     RT @nowthisnews: Rep. Trey Radel (R- #FL) slam...  \n",
       "1     VIDEO - #Obamacare:  Full of Higher Costs and ...  \n",
       "2     Please join me today in remembering our fallen...  \n",
       "3     RT @SenatorLeahy: 1st step toward Senate debat...  \n",
       "4     .@amazon delivery #drones show need to update ...  \n",
       "...                                                 ...  \n",
       "4995  I applaud Governor PerryÛªs recent decision t...  \n",
       "4996  Today, I voted in favor of H.R. 5016 - Financi...  \n",
       "4997  (Taken from posted WOKV interview)   Congressm...  \n",
       "4998  Join me next week for a town hall in Ocala! I'...  \n",
       "4999  Foreign Affairs Committee Hearing on Syria. I ...  \n",
       "\n",
       "[5000 rows x 3 columns]"
      ]
     },
     "execution_count": 6,
     "metadata": {},
     "output_type": "execute_result"
    }
   ],
   "source": [
    "content"
   ]
  },
  {
   "cell_type": "markdown",
   "metadata": {},
   "source": [
    "> * We have contents from both twitter and facebook and have a text column for the contents."
   ]
  },
  {
   "cell_type": "code",
   "execution_count": 7,
   "metadata": {},
   "outputs": [
    {
     "data": {
      "text/plain": [
       "array(['twitter', 'facebook'], dtype=object)"
      ]
     },
     "execution_count": 7,
     "metadata": {},
     "output_type": "execute_result"
    }
   ],
   "source": [
    "content['source'].unique()"
   ]
  },
  {
   "cell_type": "markdown",
   "metadata": {},
   "source": [
    "> * Let's print out some of the contents."
   ]
  },
  {
   "cell_type": "code",
   "execution_count": 8,
   "metadata": {},
   "outputs": [
    {
     "data": {
      "text/plain": [
       "'RT @nowthisnews: Rep. Trey Radel (R- #FL) slams #Obamacare. #politics https://t.co/zvywMG8yIH'"
      ]
     },
     "execution_count": 8,
     "metadata": {},
     "output_type": "execute_result"
    }
   ],
   "source": [
    "content['text'].iloc[0]"
   ]
  },
  {
   "cell_type": "code",
   "execution_count": 9,
   "metadata": {},
   "outputs": [
    {
     "data": {
      "text/plain": [
       "'VIDEO - #Obamacare:  Full of Higher Costs and Broken Promises: http://t.co/dn3vzqIrWF'"
      ]
     },
     "execution_count": 9,
     "metadata": {},
     "output_type": "execute_result"
    }
   ],
   "source": [
    "content['text'].iloc[1]"
   ]
  },
  {
   "cell_type": "code",
   "execution_count": 20,
   "metadata": {},
   "outputs": [
    {
     "data": {
      "text/plain": [
       "'Please join me today in remembering our fallen heroes and honoring the men and women currently in military service for their sacrifices.'"
      ]
     },
     "execution_count": 20,
     "metadata": {},
     "output_type": "execute_result"
    }
   ],
   "source": [
    "content['text'].iloc[2]"
   ]
  },
  {
   "cell_type": "markdown",
   "metadata": {},
   "source": [
    "> * Q. What additional type of text do you see in the contents?"
   ]
  },
  {
   "cell_type": "markdown",
   "metadata": {},
   "source": [
    "```YOUR ANSWER HERE```"
   ]
  },
  {
   "cell_type": "markdown",
   "metadata": {},
   "source": [
    "> * Yes, we see hashtags, retweets, mentions, and URLs.\n",
    "> * In the third row, we see an example of a content only with text."
   ]
  },
  {
   "cell_type": "markdown",
   "metadata": {},
   "source": [
    "> * In text analysis, it is important to make the text clean (remove unnecessary words, symbols, etc.) and to make the text uniform (lowercase, no punctuation, etc.)."
   ]
  },
  {
   "cell_type": "markdown",
   "metadata": {},
   "source": [
    "> * Let's lowercase all the text."
   ]
  },
  {
   "cell_type": "code",
   "execution_count": 23,
   "metadata": {},
   "outputs": [],
   "source": [
    "pd.options.mode.chained_assignment = None  # default='warn'\n",
    "\n",
    "content['text-lower']=content['text'].str.lower()"
   ]
  },
  {
   "cell_type": "code",
   "execution_count": 24,
   "metadata": {},
   "outputs": [
    {
     "data": {
      "text/plain": [
       "'please join me today in remembering our fallen heroes and honoring the men and women currently in military service for their sacrifices.'"
      ]
     },
     "execution_count": 24,
     "metadata": {},
     "output_type": "execute_result"
    }
   ],
   "source": [
    "content['text-lower'].iloc[2]"
   ]
  },
  {
   "cell_type": "markdown",
   "metadata": {},
   "source": [
    "> * We can seperate the entire contents into tokens (words, hashtags, mentions, etc.).\n",
    "> * Seperating the contents into tokens is called tokenization.\n",
    "> * We can use the `word_tokenize` function from the `nltk` library to tokenize the contents.\n",
    "> * There is also a `TweetTokenizer` function in the `nltk` library that is specifically for tweets."
   ]
  },
  {
   "cell_type": "markdown",
   "metadata": {},
   "source": [
    "> * `.apply` is used to apply a function to a column. You don't have to use a for loop to apply a function to each row."
   ]
  },
  {
   "cell_type": "markdown",
   "metadata": {},
   "source": [
    "> * There are two ways to tokenize the contents. One is to use `apply()` function to tokenize the lowercased text. \n",
    "> * `apply()` function allows you to apply a function along the axis of a DataFrame.\n",
    "> * Another way is to iterate through the lowercased text and tokenize each content."
   ]
  },
  {
   "cell_type": "code",
   "execution_count": 25,
   "metadata": {},
   "outputs": [],
   "source": [
    "content['tokenized_unigrams']=content['text-lower'].apply(word_tokenize)"
   ]
  },
  {
   "cell_type": "code",
   "execution_count": 26,
   "metadata": {},
   "outputs": [],
   "source": [
    "iterated_unigrams=[]\n",
    "for idx, row in content.iterrows():\n",
    "    iterated_unigrams.append(word_tokenize(row['text-lower']))"
   ]
  },
  {
   "cell_type": "code",
   "execution_count": 27,
   "metadata": {},
   "outputs": [],
   "source": [
    "content['iterated_unigrams']=iterated_unigrams "
   ]
  },
  {
   "cell_type": "markdown",
   "metadata": {},
   "source": [
    "> * The results of iterating through each row and applying the `word_tokenize` function is a list of lists are identical."
   ]
  },
  {
   "cell_type": "code",
   "execution_count": 28,
   "metadata": {},
   "outputs": [
    {
     "data": {
      "text/plain": [
       "True"
      ]
     },
     "execution_count": 28,
     "metadata": {},
     "output_type": "execute_result"
    }
   ],
   "source": [
    "content.loc[0,'iterated_unigrams'] == content.loc[0,'tokenized_unigrams']"
   ]
  },
  {
   "cell_type": "markdown",
   "metadata": {},
   "source": [
    "> * One token is called a unigram.\n",
    "> * We can try to find bigrams (two tokens) and trigrams (three tokens) as well. \n",
    "> * All of these tokens are called n-grams.\n"
   ]
  },
  {
   "cell_type": "code",
   "execution_count": 29,
   "metadata": {},
   "outputs": [],
   "source": [
    "#bigrams lambda function\n",
    "content['tokenized_bigrams']=content['text-lower'].apply(TweetTokenizer().tokenize).apply(lambda x: list(ngrams(x, 2)))\n",
    "#It first applies the 'tokenize' method of the TweetTokenizer class to the 'text-lower' column,\n",
    "#and then applies the lambda function to the resulting list of bigrams."
   ]
  },
  {
   "cell_type": "markdown",
   "metadata": {},
   "source": [
    "> * Lambda function is created using the `lambda` keyword, followed by the input variable(s), a colon, and the function code.\n",
    "> * Lambda is a small, anonymous, and inline function.\n",
    "> * `lambda arguments : expression`\n",
    "> * e.g., `lambda x: x+1`"
   ]
  },
  {
   "cell_type": "code",
   "execution_count": 30,
   "metadata": {},
   "outputs": [],
   "source": [
    "#practicing lambda functions\n",
    "def square(x):\n",
    "    return x**2"
   ]
  },
  {
   "cell_type": "code",
   "execution_count": 31,
   "metadata": {},
   "outputs": [],
   "source": [
    "#equivalent lambda function\n",
    "square_lambda = lambda x: x**2"
   ]
  },
  {
   "cell_type": "code",
   "execution_count": 32,
   "metadata": {},
   "outputs": [],
   "source": [
    "function_result = square(5)\n",
    "lambda_result = square_lambda(5)"
   ]
  },
  {
   "cell_type": "code",
   "execution_count": 33,
   "metadata": {},
   "outputs": [
    {
     "name": "stdout",
     "output_type": "stream",
     "text": [
      "25\n",
      "25\n"
     ]
    }
   ],
   "source": [
    "print(function_result)\n",
    "print(lambda_result)"
   ]
  },
  {
   "cell_type": "markdown",
   "metadata": {},
   "source": [
    "> * The result of the lambda function and regular function is the same."
   ]
  },
  {
   "cell_type": "code",
   "execution_count": 34,
   "metadata": {},
   "outputs": [],
   "source": [
    "#bigram iteration\n",
    "iterated_bigrams=[]\n",
    "for idx, row in content.iterrows():\n",
    "    iterated_bigrams.append(list(ngrams(row['tokenized_unigrams'], 2)))"
   ]
  },
  {
   "cell_type": "code",
   "execution_count": 35,
   "metadata": {},
   "outputs": [],
   "source": [
    "content['iterated_bigrams']=iterated_bigrams"
   ]
  },
  {
   "cell_type": "markdown",
   "metadata": {},
   "source": [
    "> * We are importing another library called `collections` to count the frequency of the tokens."
   ]
  },
  {
   "cell_type": "code",
   "execution_count": 36,
   "metadata": {},
   "outputs": [],
   "source": [
    "from collections import Counter"
   ]
  },
  {
   "cell_type": "markdown",
   "metadata": {},
   "source": [
    "> * Let's see how bigrams and unigrams are saved in each column."
   ]
  },
  {
   "cell_type": "code",
   "execution_count": 37,
   "metadata": {},
   "outputs": [
    {
     "data": {
      "text/plain": [
       "0       [(rt, @nowthisnews), (@nowthisnews, :), (:, re...\n",
       "1       [(video, -), (-, #obamacare), (#obamacare, :),...\n",
       "2       [(please, join), (join, me), (me, today), (tod...\n",
       "3       [(rt, @senatorleahy), (@senatorleahy, :), (:, ...\n",
       "4       [(., @amazon), (@amazon, delivery), (delivery,...\n",
       "                              ...                        \n",
       "4995    [(i, applaud), (applaud, governor), (governor,...\n",
       "4996    [(today, ,), (,, i), (i, voted), (voted, in), ...\n",
       "4997    [((, taken), (taken, from), (from, posted), (p...\n",
       "4998    [(join, me), (me, next), (next, week), (week, ...\n",
       "4999    [(foreign, affairs), (affairs, committee), (co...\n",
       "Name: tokenized_bigrams, Length: 5000, dtype: object"
      ]
     },
     "execution_count": 37,
     "metadata": {},
     "output_type": "execute_result"
    }
   ],
   "source": [
    "content['tokenized_bigrams']"
   ]
  },
  {
   "cell_type": "code",
   "execution_count": 38,
   "metadata": {},
   "outputs": [
    {
     "data": {
      "text/plain": [
       "0       [rt, @, nowthisnews, :, rep., trey, radel, (, ...\n",
       "1       [video, -, #, obamacare, :, full, of, higher, ...\n",
       "2       [please, join, me, today, in, remembering, our...\n",
       "3       [rt, @, senatorleahy, :, 1st, step, toward, se...\n",
       "4       [., @, amazon, delivery, #, drones, show, need...\n",
       "                              ...                        \n",
       "4995    [i, applaud, governor, perryûªs, recent, deci...\n",
       "4996    [today, ,, i, voted, in, favor, of, h.r, ., 50...\n",
       "4997    [(, taken, from, posted, wokv, interview, ), c...\n",
       "4998    [join, me, next, week, for, a, town, hall, in,...\n",
       "4999    [foreign, affairs, committee, hearing, on, syr...\n",
       "Name: tokenized_unigrams, Length: 5000, dtype: object"
      ]
     },
     "execution_count": 38,
     "metadata": {},
     "output_type": "execute_result"
    }
   ],
   "source": [
    "content['tokenized_unigrams']"
   ]
  },
  {
   "cell_type": "markdown",
   "metadata": {},
   "source": [
    "> * Let's count the most frequent unigrams."
   ]
  },
  {
   "cell_type": "code",
   "execution_count": 39,
   "metadata": {},
   "outputs": [
    {
     "data": {
      "text/plain": [
       "[('the', 7668),\n",
       " ('.', 6857),\n",
       " ('to', 5913),\n",
       " (',', 4927),\n",
       " (':', 3763),\n",
       " ('and', 3678),\n",
       " ('of', 3371),\n",
       " ('in', 2892),\n",
       " ('#', 2518),\n",
       " ('a', 2508)]"
      ]
     },
     "execution_count": 39,
     "metadata": {},
     "output_type": "execute_result"
    }
   ],
   "source": [
    "Counter([item for row in content['tokenized_unigrams'] for item in row]).most_common(10)"
   ]
  },
  {
   "cell_type": "markdown",
   "metadata": {},
   "source": [
    "> Let's count the most frequent bigrams."
   ]
  },
  {
   "cell_type": "code",
   "execution_count": 40,
   "metadata": {},
   "outputs": [
    {
     "data": {
      "text/plain": [
       "[(('of', 'the'), 766),\n",
       " (('\\x89', 'ûªs'), 684),\n",
       " (('in', 'the'), 547),\n",
       " ((',', 'and'), 547),\n",
       " (('on', 'the'), 416),\n",
       " (('to', 'the'), 398),\n",
       " (('.', 'i'), 328),\n",
       " (('for', 'the'), 307),\n",
       " (('\\x89', 'û'), 305),\n",
       " (('at', 'the'), 305)]"
      ]
     },
     "execution_count": 40,
     "metadata": {},
     "output_type": "execute_result"
    }
   ],
   "source": [
    "Counter([item for row in content['tokenized_bigrams'] for item in row]).most_common(10)"
   ]
  },
  {
   "cell_type": "markdown",
   "metadata": {},
   "source": [
    "> * However, we see frequent words include function words (e.g., the, and, is, etc.) and punctuation.\n",
    "> * We can remove function words and punctuation to find the content words (e.g., nouns, verbs, adjectives, etc.)."
   ]
  },
  {
   "cell_type": "code",
   "execution_count": 41,
   "metadata": {},
   "outputs": [
    {
     "data": {
      "text/html": [
       "<div>\n",
       "<style scoped>\n",
       "    .dataframe tbody tr th:only-of-type {\n",
       "        vertical-align: middle;\n",
       "    }\n",
       "\n",
       "    .dataframe tbody tr th {\n",
       "        vertical-align: top;\n",
       "    }\n",
       "\n",
       "    .dataframe thead th {\n",
       "        text-align: right;\n",
       "    }\n",
       "</style>\n",
       "<table border=\"1\" class=\"dataframe\">\n",
       "  <thead>\n",
       "    <tr style=\"text-align: right;\">\n",
       "      <th></th>\n",
       "      <th>label</th>\n",
       "      <th>source</th>\n",
       "      <th>text</th>\n",
       "      <th>text-lower</th>\n",
       "      <th>tokenized_unigrams</th>\n",
       "      <th>iterated_unigrams</th>\n",
       "      <th>tokenized_bigrams</th>\n",
       "      <th>iterated_bigrams</th>\n",
       "    </tr>\n",
       "  </thead>\n",
       "  <tbody>\n",
       "    <tr>\n",
       "      <th>0</th>\n",
       "      <td>From: Trey Radel (Representative from Florida)</td>\n",
       "      <td>twitter</td>\n",
       "      <td>RT @nowthisnews: Rep. Trey Radel (R- #FL) slam...</td>\n",
       "      <td>rt @nowthisnews: rep. trey radel (r- #fl) slam...</td>\n",
       "      <td>[rt, @, nowthisnews, :, rep., trey, radel, (, ...</td>\n",
       "      <td>[rt, @, nowthisnews, :, rep., trey, radel, (, ...</td>\n",
       "      <td>[(rt, @nowthisnews), (@nowthisnews, :), (:, re...</td>\n",
       "      <td>[(rt, @), (@, nowthisnews), (nowthisnews, :), ...</td>\n",
       "    </tr>\n",
       "    <tr>\n",
       "      <th>1</th>\n",
       "      <td>From: Mitch McConnell (Senator from Kentucky)</td>\n",
       "      <td>twitter</td>\n",
       "      <td>VIDEO - #Obamacare:  Full of Higher Costs and ...</td>\n",
       "      <td>video - #obamacare:  full of higher costs and ...</td>\n",
       "      <td>[video, -, #, obamacare, :, full, of, higher, ...</td>\n",
       "      <td>[video, -, #, obamacare, :, full, of, higher, ...</td>\n",
       "      <td>[(video, -), (-, #obamacare), (#obamacare, :),...</td>\n",
       "      <td>[(video, -), (-, #), (#, obamacare), (obamacar...</td>\n",
       "    </tr>\n",
       "  </tbody>\n",
       "</table>\n",
       "</div>"
      ],
      "text/plain": [
       "                                            label   source  \\\n",
       "0  From: Trey Radel (Representative from Florida)  twitter   \n",
       "1   From: Mitch McConnell (Senator from Kentucky)  twitter   \n",
       "\n",
       "                                                text  \\\n",
       "0  RT @nowthisnews: Rep. Trey Radel (R- #FL) slam...   \n",
       "1  VIDEO - #Obamacare:  Full of Higher Costs and ...   \n",
       "\n",
       "                                          text-lower  \\\n",
       "0  rt @nowthisnews: rep. trey radel (r- #fl) slam...   \n",
       "1  video - #obamacare:  full of higher costs and ...   \n",
       "\n",
       "                                  tokenized_unigrams  \\\n",
       "0  [rt, @, nowthisnews, :, rep., trey, radel, (, ...   \n",
       "1  [video, -, #, obamacare, :, full, of, higher, ...   \n",
       "\n",
       "                                   iterated_unigrams  \\\n",
       "0  [rt, @, nowthisnews, :, rep., trey, radel, (, ...   \n",
       "1  [video, -, #, obamacare, :, full, of, higher, ...   \n",
       "\n",
       "                                   tokenized_bigrams  \\\n",
       "0  [(rt, @nowthisnews), (@nowthisnews, :), (:, re...   \n",
       "1  [(video, -), (-, #obamacare), (#obamacare, :),...   \n",
       "\n",
       "                                    iterated_bigrams  \n",
       "0  [(rt, @), (@, nowthisnews), (nowthisnews, :), ...  \n",
       "1  [(video, -), (-, #), (#, obamacare), (obamacar...  "
      ]
     },
     "execution_count": 41,
     "metadata": {},
     "output_type": "execute_result"
    }
   ],
   "source": [
    "content.head(2)"
   ]
  },
  {
   "cell_type": "markdown",
   "metadata": {},
   "source": [
    "> * In the `nltk` library, there is a list of stopwords (function words) that we can use to remove from the contents."
   ]
  },
  {
   "cell_type": "code",
   "execution_count": 42,
   "metadata": {},
   "outputs": [],
   "source": [
    "stop=stopwords.words('english')"
   ]
  },
  {
   "cell_type": "code",
   "execution_count": 43,
   "metadata": {},
   "outputs": [
    {
     "data": {
      "text/plain": [
       "['me', 'my', 'myself', 'we', 'our', 'ours', 'ourselves', 'you', \"you're\"]"
      ]
     },
     "execution_count": 43,
     "metadata": {},
     "output_type": "execute_result"
    }
   ],
   "source": [
    "stop[1:10] #use slice to show only the first 10 stopwords"
   ]
  },
  {
   "cell_type": "code",
   "execution_count": 44,
   "metadata": {},
   "outputs": [
    {
     "data": {
      "text/plain": [
       "['shouldn',\n",
       " \"shouldn't\",\n",
       " 'wasn',\n",
       " \"wasn't\",\n",
       " 'weren',\n",
       " \"weren't\",\n",
       " 'won',\n",
       " \"won't\",\n",
       " 'wouldn',\n",
       " \"wouldn't\"]"
      ]
     },
     "execution_count": 44,
     "metadata": {},
     "output_type": "execute_result"
    }
   ],
   "source": [
    "stop[-10:] #use negative index to slice the last 10 stopwords"
   ]
  },
  {
   "cell_type": "markdown",
   "metadata": {},
   "source": [
    "> * We want to remove the stopwords from the text-lower column"
   ]
  },
  {
   "cell_type": "code",
   "execution_count": 45,
   "metadata": {},
   "outputs": [],
   "source": [
    "content['stopword']=content['text-lower'].apply(lambda x: ' '.join([word for word in x.split() if word not in stop]))\n",
    "#The lambda function takes each row of the 'text-lower' column, splits it into a list of words, \n",
    "#and then joins the words back together into a string, excluding any words that are in the 'stop' list.\n",
    "    "
   ]
  },
  {
   "cell_type": "markdown",
   "metadata": {},
   "source": [
    "> * Let's compare the result of removing stopwords and the original text-lower column"
   ]
  },
  {
   "cell_type": "code",
   "execution_count": 46,
   "metadata": {},
   "outputs": [
    {
     "data": {
      "text/plain": [
       "0       rt @nowthisnews: rep. trey radel (r- #fl) slam...\n",
       "1       video - #obamacare: full higher costs broken p...\n",
       "2       please join today remembering fallen heroes ho...\n",
       "3       rt @senatorleahy: 1st step toward senate debat...\n",
       "4       .@amazon delivery #drones show need update law...\n",
       "                              ...                        \n",
       "4995    applaud governor perryûªs recent decision dep...\n",
       "4996    today, voted favor h.r. 5016 - financial servi...\n",
       "4997    (taken posted wokv interview) congressman yoho...\n",
       "4998    join next week town hall ocala! i'll answer qu...\n",
       "4999    foreign affairs committee hearing syria. remai...\n",
       "Name: stopword, Length: 5000, dtype: object"
      ]
     },
     "execution_count": 46,
     "metadata": {},
     "output_type": "execute_result"
    }
   ],
   "source": [
    "content['stopword']"
   ]
  },
  {
   "cell_type": "code",
   "execution_count": 47,
   "metadata": {},
   "outputs": [
    {
     "data": {
      "text/plain": [
       "0       rt @nowthisnews: rep. trey radel (r- #fl) slam...\n",
       "1       video - #obamacare:  full of higher costs and ...\n",
       "2       please join me today in remembering our fallen...\n",
       "3       rt @senatorleahy: 1st step toward senate debat...\n",
       "4       .@amazon delivery #drones show need to update ...\n",
       "                              ...                        \n",
       "4995    i applaud governor perryûªs recent decision t...\n",
       "4996    today, i voted in favor of h.r. 5016 - financi...\n",
       "4997    (taken from posted wokv interview)   congressm...\n",
       "4998    join me next week for a town hall in ocala! i'...\n",
       "4999    foreign affairs committee hearing on syria. i ...\n",
       "Name: text-lower, Length: 5000, dtype: object"
      ]
     },
     "execution_count": 47,
     "metadata": {},
     "output_type": "execute_result"
    }
   ],
   "source": [
    "content['text-lower']"
   ]
  },
  {
   "cell_type": "markdown",
   "metadata": {},
   "source": [
    "> * We'll get unigrams for the text after we remove function words."
   ]
  },
  {
   "cell_type": "code",
   "execution_count": 48,
   "metadata": {},
   "outputs": [],
   "source": [
    "content['stop_tokenized_unigrams']=content['stopword'].apply(word_tokenize)"
   ]
  },
  {
   "cell_type": "markdown",
   "metadata": {},
   "source": [
    "> * We'll get bigrams for the text after we remove function words."
   ]
  },
  {
   "cell_type": "code",
   "execution_count": 49,
   "metadata": {},
   "outputs": [],
   "source": [
    "content['stop_tokenized_bigrams']=content['stopword'].apply(TweetTokenizer().tokenize).apply(lambda x: list(ngrams(x, 2)))"
   ]
  },
  {
   "cell_type": "markdown",
   "metadata": {},
   "source": [
    "> * Here are the most frequent unigrams and bigrams after removing function words."
   ]
  },
  {
   "cell_type": "code",
   "execution_count": 50,
   "metadata": {},
   "outputs": [
    {
     "data": {
      "text/plain": [
       "[('.', 6863),\n",
       " (',', 4927),\n",
       " (':', 3763),\n",
       " ('#', 2518),\n",
       " ('http', 2162),\n",
       " ('@', 1877),\n",
       " ('!', 995),\n",
       " (\"'s\", 812),\n",
       " ('today', 784),\n",
       " ('&', 589)]"
      ]
     },
     "execution_count": 50,
     "metadata": {},
     "output_type": "execute_result"
    }
   ],
   "source": [
    "Counter([item for row in content['stop_tokenized_unigrams'] for item in row]).most_common(10)"
   ]
  },
  {
   "cell_type": "code",
   "execution_count": 51,
   "metadata": {},
   "outputs": [
    {
     "data": {
      "text/plain": [
       "[(('\\x89', 'ûªs'), 684),\n",
       " (('\\x89', 'û'), 305),\n",
       " (('û', '\\x9d'), 249),\n",
       " (('.', '\\x89'), 198),\n",
       " (('s', '.'), 193),\n",
       " (('u', '.'), 192),\n",
       " (('.', 's'), 190),\n",
       " (('here', ':'), 183),\n",
       " (('.', '\"'), 154),\n",
       " (('\\x89', 'ûò'), 149)]"
      ]
     },
     "execution_count": 51,
     "metadata": {},
     "output_type": "execute_result"
    }
   ],
   "source": [
    "Counter([item for row in content['stop_tokenized_bigrams'] for item in row]).most_common(10)"
   ]
  },
  {
   "cell_type": "markdown",
   "metadata": {},
   "source": [
    "> * We still see irrelevant punctuations. Let's get rid of them.\n"
   ]
  },
  {
   "cell_type": "code",
   "execution_count": 52,
   "metadata": {},
   "outputs": [],
   "source": [
    "content['punct_tokenized_unigrams']=content['stop_tokenized_unigrams'].apply(lambda x: [word for word in x if word.isalnum()])"
   ]
  },
  {
   "cell_type": "code",
   "execution_count": 53,
   "metadata": {},
   "outputs": [],
   "source": [
    "punct_iterated_bigrams=[]\n",
    "for idx, row in content.iterrows():\n",
    "    punct_iterated_bigrams.append(list(ngrams(row['punct_tokenized_unigrams'], 2)))"
   ]
  },
  {
   "cell_type": "code",
   "execution_count": 54,
   "metadata": {},
   "outputs": [],
   "source": [
    "content['punct_tokenized_bigrams']=punct_iterated_bigrams"
   ]
  },
  {
   "cell_type": "markdown",
   "metadata": {},
   "source": [
    "> * Let's count the most frequent unigrams and bigrams after removing punctuation."
   ]
  },
  {
   "cell_type": "code",
   "execution_count": 55,
   "metadata": {},
   "outputs": [
    {
     "data": {
      "text/plain": [
       "[('http', 2162),\n",
       " ('today', 784),\n",
       " ('house', 435),\n",
       " ('amp', 431),\n",
       " ('great', 396),\n",
       " ('new', 361),\n",
       " ('bill', 324),\n",
       " ('president', 317),\n",
       " ('act', 294),\n",
       " ('congress', 289)]"
      ]
     },
     "execution_count": 55,
     "metadata": {},
     "output_type": "execute_result"
    }
   ],
   "source": [
    "Counter([item for row in content['punct_tokenized_unigrams'] for item in row]).most_common(10)"
   ]
  },
  {
   "cell_type": "code",
   "execution_count": 56,
   "metadata": {},
   "outputs": [
    {
     "data": {
      "text/plain": [
       "[(('here', 'http'), 159),\n",
       " (('health', 'care'), 97),\n",
       " (('president', 'obama'), 83),\n",
       " (('united', 'states'), 75),\n",
       " (('town', 'hall'), 67),\n",
       " (('high', 'school'), 66),\n",
       " (('immigration', 'reform'), 61),\n",
       " (('small', 'business'), 47),\n",
       " (('last', 'night'), 46),\n",
       " (('make', 'sure'), 46)]"
      ]
     },
     "execution_count": 56,
     "metadata": {},
     "output_type": "execute_result"
    }
   ],
   "source": [
    "Counter([item for row in content['punct_tokenized_bigrams'] for item in row]).most_common(10)"
   ]
  },
  {
   "cell_type": "markdown",
   "metadata": {},
   "source": [
    "> * But we want to do additional cleaning. \n",
    "> * When counting the most frequent words, past and present tense of the same word are counted as different words.\n",
    "> * For example, \"run\" and \"running\" are counted as different words.\n",
    "> * We can use lemmatization to convert words to their base form."
   ]
  },
  {
   "cell_type": "code",
   "execution_count": 57,
   "metadata": {},
   "outputs": [],
   "source": [
    "import nltk\n",
    "from nltk.stem import WordNetLemmatizer\n",
    "lemmatizer=WordNetLemmatizer() #Initialize lemmatizer\n",
    "from nltk.corpus import wordnet"
   ]
  },
  {
   "cell_type": "code",
   "execution_count": 58,
   "metadata": {},
   "outputs": [],
   "source": [
    "content['lemma']=content['punct_tokenized_unigrams'].apply(lambda x: [lemmatizer.lemmatize(word) for word in x])"
   ]
  },
  {
   "cell_type": "code",
   "execution_count": 59,
   "metadata": {},
   "outputs": [],
   "source": [
    "content['lemma_str']=content['lemma'].apply(lambda x: ' '.join(x))"
   ]
  },
  {
   "cell_type": "markdown",
   "metadata": {},
   "source": [
    "> * Let's compare the results of lemmatization and without lemmatization."
   ]
  },
  {
   "cell_type": "code",
   "execution_count": 60,
   "metadata": {},
   "outputs": [
    {
     "data": {
      "text/plain": [
       "'called usdotfra release info inspection casseltonderailment review quality rail'"
      ]
     },
     "execution_count": 60,
     "metadata": {},
     "output_type": "execute_result"
    }
   ],
   "source": [
    "content.loc[5, 'lemma_str']"
   ]
  },
  {
   "cell_type": "code",
   "execution_count": 61,
   "metadata": {},
   "outputs": [
    {
     "data": {
      "text/plain": [
       "'called on the @usdotfra to release info about inspections before the #casseltonderailment to review quality of rails. (1/2)'"
      ]
     },
     "execution_count": 61,
     "metadata": {},
     "output_type": "execute_result"
    }
   ],
   "source": [
    "content.loc[5, 'text-lower']"
   ]
  },
  {
   "cell_type": "markdown",
   "metadata": {},
   "source": [
    "> * Q. Do you see any different results? What tokens have changed after lemmatization?"
   ]
  },
  {
   "cell_type": "markdown",
   "metadata": {},
   "source": [
    "The punctuation, symbols, and stopwords have been removed so that the lemmatized string is limited to relevant words"
   ]
  },
  {
   "cell_type": "code",
   "execution_count": 62,
   "metadata": {},
   "outputs": [
    {
     "data": {
      "text/plain": [
       "'better'"
      ]
     },
     "execution_count": 62,
     "metadata": {},
     "output_type": "execute_result"
    }
   ],
   "source": [
    "lemmatizer.lemmatize('better')"
   ]
  },
  {
   "cell_type": "code",
   "execution_count": 63,
   "metadata": {},
   "outputs": [
    {
     "data": {
      "text/plain": [
       "'good'"
      ]
     },
     "execution_count": 63,
     "metadata": {},
     "output_type": "execute_result"
    }
   ],
   "source": [
    "lemmatizer.lemmatize('better', pos=wordnet.ADJ)"
   ]
  },
  {
   "cell_type": "code",
   "execution_count": 64,
   "metadata": {},
   "outputs": [
    {
     "data": {
      "text/plain": [
       "'car'"
      ]
     },
     "execution_count": 64,
     "metadata": {},
     "output_type": "execute_result"
    }
   ],
   "source": [
    "lemmatizer.lemmatize('cars')"
   ]
  },
  {
   "cell_type": "code",
   "execution_count": 65,
   "metadata": {},
   "outputs": [
    {
     "data": {
      "text/plain": [
       "'cars'"
      ]
     },
     "execution_count": 65,
     "metadata": {},
     "output_type": "execute_result"
    }
   ],
   "source": [
    "lemmatizer.lemmatize('cars', pos=wordnet.VERB)"
   ]
  },
  {
   "cell_type": "markdown",
   "metadata": {},
   "source": [
    "> * Interestingly enough, NLTK's WordNetLemmatizer is not perfect.\n",
    "> * By default, it only lemmatize nouns.\n",
    "> * Therefore, we need to specify the part of speech (POS) for each token."
   ]
  },
  {
   "cell_type": "code",
   "execution_count": 66,
   "metadata": {},
   "outputs": [],
   "source": [
    "def nltk_tag_to_wordnet_tag(nltk_tag):\n",
    "    if nltk_tag.startswith('J'): #ADJECTIVE\n",
    "        return wordnet.ADJ\n",
    "    elif nltk_tag.startswith('V'): #VERN\n",
    "        return wordnet.VERB\n",
    "    elif nltk_tag.startswith('N'): #NOUN        \n",
    "        return wordnet.NOUN\n",
    "    elif nltk_tag.startswith('R'): #ADVERB\n",
    "        return wordnet.ADV\n",
    "    else:          \n",
    "        return None"
   ]
  },
  {
   "cell_type": "code",
   "execution_count": 67,
   "metadata": {},
   "outputs": [],
   "source": [
    "def lemmatize_sentence(sentence):\n",
    "    # Tokenize the sentence and find the POS tag for each token\n",
    "    nltk_tagged = nltk.pos_tag(nltk.word_tokenize(sentence))  \n",
    "    # Tuple of (token, wordnet_tag)\n",
    "    wordnet_tagged = map(lambda x: (x[0], nltk_tag_to_wordnet_tag(x[1])), nltk_tagged) \n",
    "    lemmatized_sentence = []\n",
    "    for word, tag in wordnet_tagged:\n",
    "        if tag is None:\n",
    "            # If no tag was found, then use the word as is\n",
    "            lemmatized_sentence.append(word)\n",
    "        else:        \n",
    "            # Else use the tag to lemmatize the word\n",
    "            lemmatized_sentence.append(lemmatizer.lemmatize(word, tag))\n",
    "    return \" \".join(lemmatized_sentence)"
   ]
  },
  {
   "cell_type": "code",
   "execution_count": 68,
   "metadata": {},
   "outputs": [],
   "source": [
    "content['lemmatizer_str']=content['lemma'].apply(lambda x: lemmatize_sentence(' '.join(x)))"
   ]
  },
  {
   "cell_type": "code",
   "execution_count": 69,
   "metadata": {},
   "outputs": [
    {
     "data": {
      "text/plain": [
       "'called usdotfra release info inspection casseltonderailment review quality rail'"
      ]
     },
     "execution_count": 69,
     "metadata": {},
     "output_type": "execute_result"
    }
   ],
   "source": [
    "content.loc[5, 'lemma_str']"
   ]
  },
  {
   "cell_type": "code",
   "execution_count": 70,
   "metadata": {},
   "outputs": [
    {
     "data": {
      "text/plain": [
       "'call usdotfra release info inspection casseltonderailment review quality rail'"
      ]
     },
     "execution_count": 70,
     "metadata": {},
     "output_type": "execute_result"
    }
   ],
   "source": [
    "content.loc[5, 'lemmatizer_str']"
   ]
  },
  {
   "cell_type": "markdown",
   "metadata": {},
   "source": [
    "> * Let's extract hashtags and mentions from the contents.\n",
    "> * We have to use regular expressions to extract hashtags and mentions."
   ]
  },
  {
   "cell_type": "code",
   "execution_count": 71,
   "metadata": {},
   "outputs": [],
   "source": [
    "import re"
   ]
  },
  {
   "cell_type": "markdown",
   "metadata": {},
   "source": [
    "> * There are three useful regex functions in Python: `findall`, `search`, and `match`.\n",
    "\n",
    "> * `findall` is used to find all matches of a pattern in a string.\n",
    "> * `search` is used to find the first match of a pattern in a string.\n",
    "> * `match` is used to match a pattern at the beginning of a string.\n",
    "\n",
    "> * In this class, we are mostly going to use `findall` to extract hashtags and mentions."
   ]
  },
  {
   "cell_type": "markdown",
   "metadata": {},
   "source": [
    "> * The result of `findall` is a list of strings."
   ]
  },
  {
   "cell_type": "markdown",
   "metadata": {},
   "source": [
    "> * Basic regex patterns:\n",
    "> * `.` matches any character except a newline.\n",
    "> * `*` matches 0 or more repetitions of the preceding regex pattern.\n",
    "> * `+` matches 1 or more repetitions of the preceding regex pattern.\n",
    "> * `?` matches 0 or 1 repetition of the preceding regex pattern.\n",
    "> * `^` matches the start of a string.\n",
    "> * `$` matches the end of a string.\n",
    "> * `[]` matches any one of the characters inside the square brackets.\n",
    "> * `\\` is used to escape special characters.\n",
    "> * `|` is used to match either the regex pattern on the left or the right.\n",
    "\n",
    "> * `[a-z]` matches any lowercase letter.\n",
    "> * `[A-Z]` matches any uppercase letter.\n",
    "> * `[0-9]` matches any digit.\n",
    "> * `\\d` matches any digit.\n",
    "> * `\\D` matches any non-digit.\n",
    "> * `\\w` matches any word character (alphanumeric and underscore).\n",
    "> * `\\W` matches any non-word character.\n",
    "> * `\\s` matches any whitespace character.\n",
    "> * `\\S` matches any non-whitespace character.\n",
    "\n",
    "> * `[a-zA-Z]` matches any alphabet character.\n",
    "> * `[a-zA-Z0-9]` matches any alphanumeric character.\n"
   ]
  },
  {
   "cell_type": "markdown",
   "metadata": {},
   "source": [
    "<img src=\"../week4/Regex-Cheat-Sheet.png\" width=500px height=800px />"
   ]
  },
  {
   "cell_type": "markdown",
   "metadata": {},
   "source": [
    "> * Let's practice regex with the `findall` function.\n",
    "> * Return all non-overlapping matches of pattern in string, as a list of strongs or tuples. The string is scanned left-to-right, and matches are returned in the order found."
   ]
  },
  {
   "cell_type": "code",
   "execution_count": 72,
   "metadata": {},
   "outputs": [
    {
     "name": "stdout",
     "output_type": "stream",
     "text": [
      "['2', '3']\n"
     ]
    }
   ],
   "source": [
    "pattern = re.compile(r'\\d+') # \\d+ is the pattern to search for, it means any digit 0-9 and the + means one or more times\n",
    "sample1='I have 2 dogs and 3 cats'\n",
    "result=re.findall(pattern, sample1)\n",
    "print(result)"
   ]
  },
  {
   "cell_type": "code",
   "execution_count": 73,
   "metadata": {},
   "outputs": [
    {
     "name": "stdout",
     "output_type": "stream",
     "text": [
      "['is324socialnetworkanalysis@illinois.edu', 'jaihyunpark@illinois.edu']\n"
     ]
    }
   ],
   "source": [
    "pattern = re.compile(r'[a-zA-Z0-9._%+-]+@[a-zA-Z0-9.-]+\\.[a-zA-Z]{2,}') \n",
    "#[a-zA-Z0-9._%+-]+ is the pattern to search for, it means any letter a-z or A-Z, \n",
    "#any digit 0-9, and the characters ._%+-, and the + means one or more times\n",
    "#@ is the pattern to search for, it means the character @\n",
    "#[a-zA-Z0-9.-]+ is the pattern to search for, it means any letter a-z or A-Z, \n",
    "#any digit 0-9, and the characters .-, and the + means one or more times\n",
    "#\\ is the escape character, it is used to escape the . character, so it is not interpreted as a special character\n",
    "#[a-zA-Z]{2,} is the pattern to search for, it means any letter a-z or A-Z, and the {2,} means two or more times\n",
    "sample2='''My primary email is is324socialnetworkanalysis@illinois.edu. Please contact me! \n",
    "If I am not replying, you can contact me at jaihyunpark@illinois.edu'''\n",
    "result=re.findall(pattern, sample2)\n",
    "print(result)"
   ]
  },
  {
   "cell_type": "code",
   "execution_count": 74,
   "metadata": {},
   "outputs": [
    {
     "name": "stdout",
     "output_type": "stream",
     "text": [
      "['https://is324.com']\n"
     ]
    }
   ],
   "source": [
    "pattern = re.compile(r'https?://\\S+')\n",
    "#http is the pattern to search for, it means the characters http\n",
    "#s? is the pattern to search for, it means the character s, and the ? means zero or one time\n",
    "#:// is the pattern to search for, it means the characters ://\n",
    "#\\S+ is the pattern to search for, it means any character that is not a white space, and the + means one or more times\n",
    "sample3='Look at what is happening in Washington! https://is324.com'\n",
    "result=re.findall(pattern, sample3)\n",
    "print(result)"
   ]
  },
  {
   "cell_type": "code",
   "execution_count": 75,
   "metadata": {},
   "outputs": [
    {
     "name": "stdout",
     "output_type": "stream",
     "text": [
      "['#IS324']\n"
     ]
    }
   ],
   "source": [
    "pattern = re.compile(r'#[a-zA-Z0-9]+')\n",
    "## is the pattern to search for, it means the character #\n",
    "#[a-zA-Z0-9]+ is the pattern to search for, it means any letter a-z or A-Z, \n",
    "#any digit 0-9, and the + means one or more times\n",
    "sample4='I am so excited for the class #IS324'\n",
    "result=re.findall(pattern, sample4)\n",
    "print(result)"
   ]
  },
  {
   "cell_type": "code",
   "execution_count": 76,
   "metadata": {},
   "outputs": [
    {
     "name": "stdout",
     "output_type": "stream",
     "text": [
      "['@jaihyunpark']\n"
     ]
    }
   ],
   "source": [
    "pattern = re.compile(r'@[a-zA-Z0-9]+')\n",
    "#@ is the pattern to search for, it means the character @\n",
    "#[a-zA-Z0-9]+ is the pattern to search for, it means any letter a-z or A-Z, \n",
    "#any digit 0-9, and the + means one or more times\n",
    "sample5='@jaihyunpark is the instructor for #IS324'\n",
    "result=re.findall(pattern, sample5)\n",
    "print(result)"
   ]
  },
  {
   "cell_type": "code",
   "execution_count": 77,
   "metadata": {},
   "outputs": [
    {
     "name": "stdout",
     "output_type": "stream",
     "text": [
      "[' @jaihyunpark', ' @socialmedia']\n"
     ]
    }
   ],
   "source": [
    "pattern = re.compile(r'(rt\\s+@[a-zA-Z0-9]+ | @[a-zA-Z0-9]+)')\n",
    "#The pattern is composed of two subpatterns, separated by the | character, \n",
    "#which means \"or\" and grouped by parentheses.\n",
    "#rt is the pattern to search for, it means the characters rt\n",
    "#\\s+ is the pattern to search for, it means any white space, and the + means one or more times\n",
    "#@ is the pattern to search for, it means the character @\n",
    "#[a-zA-Z0-9]+ is the pattern to search for, it means any letter a-z or A-Z, \n",
    "#any digit 0-9, and the + means one or more times\n",
    "\n",
    "#Another subpattern is looking for mentions without the rt prefix\n",
    "#@ is the pattern to search for, it means the character @\n",
    "#[a-zA-Z0-9]+ is the pattern to search for, it means any letter a-z or A-Z, \n",
    "#any digit 0-9, and the + means one or more times\n",
    "sample6='rt @jaihyunpark: I am so excited for the class #IS324 @socialmedia'\n",
    "result=re.findall(pattern, sample6)\n",
    "print(result)"
   ]
  },
  {
   "cell_type": "markdown",
   "metadata": {},
   "source": [
    "> * Let's practice regex with the `search` function.\n",
    "> * Scan through the string looking for the first location where the regular expression pattern produces a match, and return a corresponding match object."
   ]
  },
  {
   "cell_type": "code",
   "execution_count": 78,
   "metadata": {},
   "outputs": [
    {
     "name": "stdout",
     "output_type": "stream",
     "text": [
      "<re.Match object; span=(7, 8), match='2'>\n"
     ]
    }
   ],
   "source": [
    "pattern = re.compile(r'\\d+') # \\d+ is the pattern to search for, it means \n",
    "#any digit 0-9 and the + means one or more times\n",
    "sample1='I have 2 dogs and 3 cats'\n",
    "result=re.search(pattern, sample1) #search method returns the index of the first match\n",
    "print(result)\n",
    "# span=(7, 8) means that the match was found from the 7th to the 8th character of the string"
   ]
  },
  {
   "cell_type": "code",
   "execution_count": 79,
   "metadata": {},
   "outputs": [
    {
     "name": "stdout",
     "output_type": "stream",
     "text": [
      "2\n"
     ]
    }
   ],
   "source": [
    "print(sample1[result.span()[0]:result.span()[1]])"
   ]
  },
  {
   "cell_type": "code",
   "execution_count": 80,
   "metadata": {},
   "outputs": [
    {
     "name": "stdout",
     "output_type": "stream",
     "text": [
      "<re.Match object; span=(20, 59), match='is324socialnetworkanalysis@illinois.edu'>\n"
     ]
    }
   ],
   "source": [
    "pattern = re.compile(r'[a-zA-Z0-9._%+-]+@[a-zA-Z0-9.-]+\\.[a-zA-Z]{2,}') \n",
    "#Matches one or more alphanumeric characters, dots, underscores, percent signs, plus signs, or hyphens. \n",
    "#The @ symbol is also matched.\n",
    "sample2='''My primary email is is324socialnetworkanalysis@illinois.edu. \n",
    "Please contact me! If I am not replying, you can contact me at jaihyunpark@illinois.edu'''\n",
    "result=re.search(pattern, sample2)\n",
    "print(result)"
   ]
  },
  {
   "cell_type": "code",
   "execution_count": 81,
   "metadata": {},
   "outputs": [
    {
     "name": "stdout",
     "output_type": "stream",
     "text": [
      "is324socialnetworkanalysis@illinois.edu\n"
     ]
    }
   ],
   "source": [
    "print(sample2[result.span()[0]:result.span()[1]])"
   ]
  },
  {
   "cell_type": "code",
   "execution_count": 82,
   "metadata": {},
   "outputs": [
    {
     "name": "stdout",
     "output_type": "stream",
     "text": [
      "<re.Match object; span=(41, 58), match='https://is324.com'>\n"
     ]
    }
   ],
   "source": [
    "pattern = re.compile(r'https?://\\S+')\n",
    "#Matches http or https, followed by ://, followed by any non-whitespace characters.\n",
    "sample3='Look at what is happening in Washington! https://is324.com'\n",
    "result=re.search(pattern, sample3)\n",
    "print(result)"
   ]
  },
  {
   "cell_type": "code",
   "execution_count": 83,
   "metadata": {},
   "outputs": [
    {
     "name": "stdout",
     "output_type": "stream",
     "text": [
      "https://is324.com\n"
     ]
    }
   ],
   "source": [
    "print(sample3[result.span()[0]:result.span()[1]])"
   ]
  },
  {
   "cell_type": "code",
   "execution_count": 84,
   "metadata": {},
   "outputs": [
    {
     "name": "stdout",
     "output_type": "stream",
     "text": [
      "<re.Match object; span=(30, 36), match='#IS324'>\n"
     ]
    }
   ],
   "source": [
    "pattern = re.compile(r'#[a-zA-Z0-9]+')\n",
    "#Matches hashtags that start with #, followed by one or more alphanumeric characters.\n",
    "sample4='I am so excited for the class #IS324'\n",
    "result=re.search(pattern, sample4)\n",
    "print(result)"
   ]
  },
  {
   "cell_type": "code",
   "execution_count": 85,
   "metadata": {},
   "outputs": [
    {
     "name": "stdout",
     "output_type": "stream",
     "text": [
      "#IS324\n"
     ]
    }
   ],
   "source": [
    "print(sample4[result.span()[0]:result.span()[1]])"
   ]
  },
  {
   "cell_type": "code",
   "execution_count": 86,
   "metadata": {},
   "outputs": [
    {
     "name": "stdout",
     "output_type": "stream",
     "text": [
      "<re.Match object; span=(0, 12), match='@jaihyunpark'>\n"
     ]
    }
   ],
   "source": [
    "pattern = re.compile(r'@[a-zA-Z0-9]+')\n",
    "#Matches mentions that start with @, followed by one or more alphanumeric characters.\n",
    "sample5='@jaihyunpark is the instructor for #IS324'\n",
    "result=re.search(pattern, sample5) #search method returns the index of the first match\n",
    "print(result)"
   ]
  },
  {
   "cell_type": "code",
   "execution_count": 87,
   "metadata": {},
   "outputs": [
    {
     "name": "stdout",
     "output_type": "stream",
     "text": [
      "@jaihyunpark\n"
     ]
    }
   ],
   "source": [
    "print(sample5[result.span()[0]:result.span()[1]])"
   ]
  },
  {
   "cell_type": "code",
   "execution_count": 88,
   "metadata": {},
   "outputs": [
    {
     "name": "stdout",
     "output_type": "stream",
     "text": [
      "<re.Match object; span=(2, 15), match=' @jaihyunpark'>\n"
     ]
    }
   ],
   "source": [
    "pattern = re.compile(r'(rt\\s+@[a-zA-Z0-9]+ | @[a-zA-Z0-9]+)')\n",
    "#Matches retweets that start with rt, followed by one or more white spaces, \n",
    "#followed by @, followed by one or more alphanumeric characters.\n",
    "sample6='rt @jaihyunpark: I am so excited for the class #IS324 @socialmedia'\n",
    "result=re.search(pattern, sample6)\n",
    "print(result)"
   ]
  },
  {
   "cell_type": "code",
   "execution_count": 89,
   "metadata": {},
   "outputs": [
    {
     "name": "stdout",
     "output_type": "stream",
     "text": [
      " @jaihyunpark\n"
     ]
    }
   ],
   "source": [
    "print(sample6[result.span()[0]:result.span()[1]])"
   ]
  },
  {
   "cell_type": "markdown",
   "metadata": {},
   "source": [
    "> * Let's practice regex with `match` function.\n",
    "> * If zero or more characters at the beginning of string match the regular expression pattern, return a corresponding match object."
   ]
  },
  {
   "cell_type": "code",
   "execution_count": 90,
   "metadata": {},
   "outputs": [
    {
     "name": "stdout",
     "output_type": "stream",
     "text": [
      "None\n"
     ]
    }
   ],
   "source": [
    "pattern = re.compile(r'\\d+') # \\d+ is the pattern to search for, \n",
    "#it means any digit 0-9 and the + means one or more times\n",
    "sample1='I have 2 dogs and 3 cats'\n",
    "result=re.match(pattern, sample1) #check if the pattern is at the beginning of the string\n",
    "print(result)"
   ]
  },
  {
   "cell_type": "markdown",
   "metadata": {},
   "source": [
    "> * Let's extract hashtags and mentions from the content DataFrame."
   ]
  },
  {
   "cell_type": "markdown",
   "metadata": {},
   "source": [
    "> * First, we are extracting mentions."
   ]
  },
  {
   "cell_type": "code",
   "execution_count": 91,
   "metadata": {},
   "outputs": [],
   "source": [
    "pattern = re.compile(r'@[a-zA-Z0-9]+')\n",
    "content['mentions']=content['text-lower'].apply(lambda x: re.findall(pattern, x))"
   ]
  },
  {
   "cell_type": "markdown",
   "metadata": {},
   "source": [
    "> * Let's check if mention is extracted correctly."
   ]
  },
  {
   "cell_type": "code",
   "execution_count": 92,
   "metadata": {},
   "outputs": [
    {
     "data": {
      "text/plain": [
       "'rt @nowthisnews: rep. trey radel (r- #fl) slams #obamacare. #politics https://t.co/zvywmg8yih'"
      ]
     },
     "execution_count": 92,
     "metadata": {},
     "output_type": "execute_result"
    }
   ],
   "source": [
    "content['text-lower'].iloc[0]"
   ]
  },
  {
   "cell_type": "code",
   "execution_count": 93,
   "metadata": {},
   "outputs": [
    {
     "data": {
      "text/plain": [
       "['@nowthisnews']"
      ]
     },
     "execution_count": 93,
     "metadata": {},
     "output_type": "execute_result"
    }
   ],
   "source": [
    "content['mentions'].iloc[0]"
   ]
  },
  {
   "cell_type": "code",
   "execution_count": 94,
   "metadata": {},
   "outputs": [
    {
     "data": {
      "text/plain": [
       "'video - #obamacare:  full of higher costs and broken promises: http://t.co/dn3vzqirwf'"
      ]
     },
     "execution_count": 94,
     "metadata": {},
     "output_type": "execute_result"
    }
   ],
   "source": [
    "content['text-lower'].iloc[1]"
   ]
  },
  {
   "cell_type": "code",
   "execution_count": 95,
   "metadata": {},
   "outputs": [
    {
     "data": {
      "text/plain": [
       "[]"
      ]
     },
     "execution_count": 95,
     "metadata": {},
     "output_type": "execute_result"
    }
   ],
   "source": [
    "content['mentions'].iloc[1]"
   ]
  },
  {
   "cell_type": "markdown",
   "metadata": {},
   "source": [
    "> * Let's extract hashtags."
   ]
  },
  {
   "cell_type": "code",
   "execution_count": 96,
   "metadata": {},
   "outputs": [],
   "source": [
    "pattern = re.compile(r'#([a-zA-Z0-9]+)')\n",
    "content['hashtags']=content['text-lower'].apply(lambda x: re.findall(pattern, x))"
   ]
  },
  {
   "cell_type": "code",
   "execution_count": 97,
   "metadata": {},
   "outputs": [
    {
     "data": {
      "text/plain": [
       "'rt @nowthisnews: rep. trey radel (r- #fl) slams #obamacare. #politics https://t.co/zvywmg8yih'"
      ]
     },
     "execution_count": 97,
     "metadata": {},
     "output_type": "execute_result"
    }
   ],
   "source": [
    "content['text-lower'].iloc[0]"
   ]
  },
  {
   "cell_type": "code",
   "execution_count": 98,
   "metadata": {},
   "outputs": [
    {
     "data": {
      "text/plain": [
       "['fl', 'obamacare', 'politics']"
      ]
     },
     "execution_count": 98,
     "metadata": {},
     "output_type": "execute_result"
    }
   ],
   "source": [
    "content['hashtags'].iloc[0]"
   ]
  },
  {
   "cell_type": "code",
   "execution_count": 99,
   "metadata": {},
   "outputs": [
    {
     "data": {
      "text/plain": [
       "'video - #obamacare:  full of higher costs and broken promises: http://t.co/dn3vzqirwf'"
      ]
     },
     "execution_count": 99,
     "metadata": {},
     "output_type": "execute_result"
    }
   ],
   "source": [
    "content['text-lower'].iloc[1]"
   ]
  },
  {
   "cell_type": "code",
   "execution_count": 100,
   "metadata": {},
   "outputs": [
    {
     "data": {
      "text/plain": [
       "['obamacare']"
      ]
     },
     "execution_count": 100,
     "metadata": {},
     "output_type": "execute_result"
    }
   ],
   "source": [
    "content['hashtags'].iloc[1]"
   ]
  },
  {
   "cell_type": "markdown",
   "metadata": {},
   "source": [
    "> * We can further extract https links "
   ]
  },
  {
   "cell_type": "code",
   "execution_count": 101,
   "metadata": {},
   "outputs": [],
   "source": [
    "pattern=re.compile(r'https?://\\S+')\n",
    "content['http']=content['text-lower'].apply(lambda x: re.findall(pattern, x))"
   ]
  },
  {
   "cell_type": "code",
   "execution_count": 102,
   "metadata": {},
   "outputs": [
    {
     "data": {
      "text/plain": [
       "'rt @nowthisnews: rep. trey radel (r- #fl) slams #obamacare. #politics https://t.co/zvywmg8yih'"
      ]
     },
     "execution_count": 102,
     "metadata": {},
     "output_type": "execute_result"
    }
   ],
   "source": [
    "content['text-lower'].iloc[0]"
   ]
  },
  {
   "cell_type": "code",
   "execution_count": 103,
   "metadata": {},
   "outputs": [
    {
     "data": {
      "text/plain": [
       "['https://t.co/zvywmg8yih']"
      ]
     },
     "execution_count": 103,
     "metadata": {},
     "output_type": "execute_result"
    }
   ],
   "source": [
    "content['http'].iloc[0]"
   ]
  },
  {
   "cell_type": "markdown",
   "metadata": {},
   "source": [
    ">* Pandas Series also has a `str` attribute to apply string methods.\n",
    ">* The useful built-in functions are `str.contains`,  `str.replace`, and `str.findall`"
   ]
  },
  {
   "cell_type": "markdown",
   "metadata": {},
   "source": [
    "> * `str.contains` is used to check if a pattern is contained in each string of the Series."
   ]
  },
  {
   "cell_type": "code",
   "execution_count": 104,
   "metadata": {},
   "outputs": [
    {
     "data": {
      "text/plain": [
       "0        True\n",
       "1        True\n",
       "2       False\n",
       "3       False\n",
       "4        True\n",
       "        ...  \n",
       "4995    False\n",
       "4996    False\n",
       "4997     True\n",
       "4998    False\n",
       "4999    False\n",
       "Name: text-lower, Length: 5000, dtype: bool"
      ]
     },
     "execution_count": 104,
     "metadata": {},
     "output_type": "execute_result"
    }
   ],
   "source": [
    "content['text-lower'].str.contains('http')"
   ]
  },
  {
   "cell_type": "markdown",
   "metadata": {},
   "source": [
    "> * How many tweets contain a URL?"
   ]
  },
  {
   "cell_type": "code",
   "execution_count": 105,
   "metadata": {},
   "outputs": [
    {
     "data": {
      "text/plain": [
       "(2171, 19)"
      ]
     },
     "execution_count": 105,
     "metadata": {},
     "output_type": "execute_result"
    }
   ],
   "source": [
    "content[content['text-lower'].str.contains('http')].shape"
   ]
  },
  {
   "cell_type": "markdown",
   "metadata": {},
   "source": [
    ">* `str.replace` is used to replace a pattern with another pattern in each string of the Series."
   ]
  },
  {
   "cell_type": "code",
   "execution_count": 106,
   "metadata": {},
   "outputs": [],
   "source": [
    "content['no-url']=content['text-lower'].str.replace(r'http[s]?://(?:[a-zA-Z]|[0-9]|[$-_@.&+]|[!*\\\\(\\\\),]|(?:%[0-9a-fA-F][0-9a-fA-F]))+', '', regex=True)"
   ]
  },
  {
   "cell_type": "code",
   "execution_count": 107,
   "metadata": {},
   "outputs": [
    {
     "data": {
      "text/plain": [
       "'rt @nowthisnews: rep. trey radel (r- #fl) slams #obamacare. #politics https://t.co/zvywmg8yih'"
      ]
     },
     "execution_count": 107,
     "metadata": {},
     "output_type": "execute_result"
    }
   ],
   "source": [
    "content['text-lower'].iloc[0]"
   ]
  },
  {
   "cell_type": "code",
   "execution_count": 108,
   "metadata": {},
   "outputs": [
    {
     "data": {
      "text/plain": [
       "'rt @nowthisnews: rep. trey radel (r- #fl) slams #obamacare. #politics '"
      ]
     },
     "execution_count": 108,
     "metadata": {},
     "output_type": "execute_result"
    }
   ],
   "source": [
    "content['no-url'].iloc[0]"
   ]
  },
  {
   "cell_type": "markdown",
   "metadata": {},
   "source": [
    ">* `str.findall` is used to find all matches of a pattern in each string of the Series."
   ]
  },
  {
   "cell_type": "code",
   "execution_count": 109,
   "metadata": {},
   "outputs": [],
   "source": [
    "content['mentions-str']=content['text-lower'].str.findall(r'@([a-zA-Z0-9]+)')"
   ]
  },
  {
   "cell_type": "markdown",
   "metadata": {},
   "source": [
    "> * The result of `str.findall` in Pandas is identical to the regular expression `findall` function."
   ]
  },
  {
   "cell_type": "code",
   "execution_count": 110,
   "metadata": {},
   "outputs": [
    {
     "data": {
      "text/plain": [
       "['huckabeeshow',\n",
       " 'foxnews',\n",
       " 'huckabeeshow',\n",
       " 'grahamblog',\n",
       " 'replankford',\n",
       " 'kimguilfoyle',\n",
       " 'markgeragos',\n",
       " 'gopblackchick',\n",
       " 'rcamposduffy']"
      ]
     },
     "execution_count": 110,
     "metadata": {},
     "output_type": "execute_result"
    }
   ],
   "source": [
    "content['mentions-str'].iloc[2277]"
   ]
  },
  {
   "cell_type": "code",
   "execution_count": 111,
   "metadata": {},
   "outputs": [
    {
     "data": {
      "text/plain": [
       "['@huckabeeshow',\n",
       " '@foxnews',\n",
       " '@huckabeeshow',\n",
       " '@grahamblog',\n",
       " '@replankford',\n",
       " '@kimguilfoyle',\n",
       " '@markgeragos',\n",
       " '@gopblackchick',\n",
       " '@rcamposduffy']"
      ]
     },
     "execution_count": 111,
     "metadata": {},
     "output_type": "execute_result"
    }
   ],
   "source": [
    "content['mentions'].iloc[2277]"
   ]
  },
  {
   "cell_type": "markdown",
   "metadata": {},
   "source": [
    "Practice"
   ]
  },
  {
   "cell_type": "markdown",
   "metadata": {},
   "source": [
    "**Let's rename the column name for 'label' into 'from'**"
   ]
  },
  {
   "cell_type": "code",
   "execution_count": 117,
   "metadata": {},
   "outputs": [
    {
     "data": {
      "text/html": [
       "<div>\n",
       "<style scoped>\n",
       "    .dataframe tbody tr th:only-of-type {\n",
       "        vertical-align: middle;\n",
       "    }\n",
       "\n",
       "    .dataframe tbody tr th {\n",
       "        vertical-align: top;\n",
       "    }\n",
       "\n",
       "    .dataframe thead th {\n",
       "        text-align: right;\n",
       "    }\n",
       "</style>\n",
       "<table border=\"1\" class=\"dataframe\">\n",
       "  <thead>\n",
       "    <tr style=\"text-align: right;\">\n",
       "      <th></th>\n",
       "      <th>from</th>\n",
       "      <th>source</th>\n",
       "      <th>text</th>\n",
       "      <th>text-lower</th>\n",
       "      <th>tokenized_unigrams</th>\n",
       "      <th>iterated_unigrams</th>\n",
       "      <th>tokenized_bigrams</th>\n",
       "      <th>iterated_bigrams</th>\n",
       "      <th>stopword</th>\n",
       "      <th>stop_tokenized_unigrams</th>\n",
       "      <th>...</th>\n",
       "      <th>punct_tokenized_unigrams</th>\n",
       "      <th>punct_tokenized_bigrams</th>\n",
       "      <th>lemma</th>\n",
       "      <th>lemma_str</th>\n",
       "      <th>lemmatizer_str</th>\n",
       "      <th>mentions</th>\n",
       "      <th>hashtags</th>\n",
       "      <th>http</th>\n",
       "      <th>no-url</th>\n",
       "      <th>mentions-str</th>\n",
       "    </tr>\n",
       "  </thead>\n",
       "  <tbody>\n",
       "    <tr>\n",
       "      <th>0</th>\n",
       "      <td>From: Trey Radel (Representative from Florida)</td>\n",
       "      <td>twitter</td>\n",
       "      <td>RT @nowthisnews: Rep. Trey Radel (R- #FL) slam...</td>\n",
       "      <td>rt @nowthisnews: rep. trey radel (r- #fl) slam...</td>\n",
       "      <td>[rt, @, nowthisnews, :, rep., trey, radel, (, ...</td>\n",
       "      <td>[rt, @, nowthisnews, :, rep., trey, radel, (, ...</td>\n",
       "      <td>[(rt, @nowthisnews), (@nowthisnews, :), (:, re...</td>\n",
       "      <td>[(rt, @), (@, nowthisnews), (nowthisnews, :), ...</td>\n",
       "      <td>rt @nowthisnews: rep. trey radel (r- #fl) slam...</td>\n",
       "      <td>[rt, @, nowthisnews, :, rep., trey, radel, (, ...</td>\n",
       "      <td>...</td>\n",
       "      <td>[rt, nowthisnews, trey, radel, fl, slams, obam...</td>\n",
       "      <td>[(rt, nowthisnews), (nowthisnews, trey), (trey...</td>\n",
       "      <td>[rt, nowthisnews, trey, radel, fl, slam, obama...</td>\n",
       "      <td>rt nowthisnews trey radel fl slam obamacare po...</td>\n",
       "      <td>rt nowthisnews trey radel fl slam obamacare po...</td>\n",
       "      <td>[@nowthisnews]</td>\n",
       "      <td>[fl, obamacare, politics]</td>\n",
       "      <td>[https://t.co/zvywmg8yih]</td>\n",
       "      <td>rt @nowthisnews: rep. trey radel (r- #fl) slam...</td>\n",
       "      <td>[nowthisnews]</td>\n",
       "    </tr>\n",
       "    <tr>\n",
       "      <th>1</th>\n",
       "      <td>From: Mitch McConnell (Senator from Kentucky)</td>\n",
       "      <td>twitter</td>\n",
       "      <td>VIDEO - #Obamacare:  Full of Higher Costs and ...</td>\n",
       "      <td>video - #obamacare:  full of higher costs and ...</td>\n",
       "      <td>[video, -, #, obamacare, :, full, of, higher, ...</td>\n",
       "      <td>[video, -, #, obamacare, :, full, of, higher, ...</td>\n",
       "      <td>[(video, -), (-, #obamacare), (#obamacare, :),...</td>\n",
       "      <td>[(video, -), (-, #), (#, obamacare), (obamacar...</td>\n",
       "      <td>video - #obamacare: full higher costs broken p...</td>\n",
       "      <td>[video, -, #, obamacare, :, full, higher, cost...</td>\n",
       "      <td>...</td>\n",
       "      <td>[video, obamacare, full, higher, costs, broken...</td>\n",
       "      <td>[(video, obamacare), (obamacare, full), (full,...</td>\n",
       "      <td>[video, obamacare, full, higher, cost, broken,...</td>\n",
       "      <td>video obamacare full higher cost broken promis...</td>\n",
       "      <td>video obamacare full high cost broken promise ...</td>\n",
       "      <td>[]</td>\n",
       "      <td>[obamacare]</td>\n",
       "      <td>[http://t.co/dn3vzqirwf]</td>\n",
       "      <td>video - #obamacare:  full of higher costs and ...</td>\n",
       "      <td>[]</td>\n",
       "    </tr>\n",
       "    <tr>\n",
       "      <th>2</th>\n",
       "      <td>From: Kurt Schrader (Representative from Oregon)</td>\n",
       "      <td>twitter</td>\n",
       "      <td>Please join me today in remembering our fallen...</td>\n",
       "      <td>please join me today in remembering our fallen...</td>\n",
       "      <td>[please, join, me, today, in, remembering, our...</td>\n",
       "      <td>[please, join, me, today, in, remembering, our...</td>\n",
       "      <td>[(please, join), (join, me), (me, today), (tod...</td>\n",
       "      <td>[(please, join), (join, me), (me, today), (tod...</td>\n",
       "      <td>please join today remembering fallen heroes ho...</td>\n",
       "      <td>[please, join, today, remembering, fallen, her...</td>\n",
       "      <td>...</td>\n",
       "      <td>[please, join, today, remembering, fallen, her...</td>\n",
       "      <td>[(please, join), (join, today), (today, rememb...</td>\n",
       "      <td>[please, join, today, remembering, fallen, her...</td>\n",
       "      <td>please join today remembering fallen hero hono...</td>\n",
       "      <td>please join today remember fall hero honor men...</td>\n",
       "      <td>[]</td>\n",
       "      <td>[]</td>\n",
       "      <td>[]</td>\n",
       "      <td>please join me today in remembering our fallen...</td>\n",
       "      <td>[]</td>\n",
       "    </tr>\n",
       "    <tr>\n",
       "      <th>3</th>\n",
       "      <td>From: Michael Crapo (Senator from Idaho)</td>\n",
       "      <td>twitter</td>\n",
       "      <td>RT @SenatorLeahy: 1st step toward Senate debat...</td>\n",
       "      <td>rt @senatorleahy: 1st step toward senate debat...</td>\n",
       "      <td>[rt, @, senatorleahy, :, 1st, step, toward, se...</td>\n",
       "      <td>[rt, @, senatorleahy, :, 1st, step, toward, se...</td>\n",
       "      <td>[(rt, @senatorleahy), (@senatorleahy, :), (:, ...</td>\n",
       "      <td>[(rt, @), (@, senatorleahy), (senatorleahy, :)...</td>\n",
       "      <td>rt @senatorleahy: 1st step toward senate debat...</td>\n",
       "      <td>[rt, @, senatorleahy, :, 1st, step, toward, se...</td>\n",
       "      <td>...</td>\n",
       "      <td>[rt, senatorleahy, 1st, step, toward, senate, ...</td>\n",
       "      <td>[(rt, senatorleahy), (senatorleahy, 1st), (1st...</td>\n",
       "      <td>[rt, senatorleahy, 1st, step, toward, senate, ...</td>\n",
       "      <td>rt senatorleahy 1st step toward senate debate ...</td>\n",
       "      <td>rt senatorleahy 1st step toward senate debate ...</td>\n",
       "      <td>[@senatorleahy]</td>\n",
       "      <td>[vawa]</td>\n",
       "      <td>[]</td>\n",
       "      <td>rt @senatorleahy: 1st step toward senate debat...</td>\n",
       "      <td>[senatorleahy]</td>\n",
       "    </tr>\n",
       "    <tr>\n",
       "      <th>4</th>\n",
       "      <td>From: Mark Udall (Senator from Colorado)</td>\n",
       "      <td>twitter</td>\n",
       "      <td>.@amazon delivery #drones show need to update ...</td>\n",
       "      <td>.@amazon delivery #drones show need to update ...</td>\n",
       "      <td>[., @, amazon, delivery, #, drones, show, need...</td>\n",
       "      <td>[., @, amazon, delivery, #, drones, show, need...</td>\n",
       "      <td>[(., @amazon), (@amazon, delivery), (delivery,...</td>\n",
       "      <td>[(., @), (@, amazon), (amazon, delivery), (del...</td>\n",
       "      <td>.@amazon delivery #drones show need update law...</td>\n",
       "      <td>[., @, amazon, delivery, #, drones, show, need...</td>\n",
       "      <td>...</td>\n",
       "      <td>[amazon, delivery, drones, show, need, update,...</td>\n",
       "      <td>[(amazon, delivery), (delivery, drones), (dron...</td>\n",
       "      <td>[amazon, delivery, drone, show, need, update, ...</td>\n",
       "      <td>amazon delivery drone show need update law pro...</td>\n",
       "      <td>amazon delivery drone show need update law pro...</td>\n",
       "      <td>[@amazon]</td>\n",
       "      <td>[drones, innovation, privacy, uas]</td>\n",
       "      <td>[http://t.co/l9ta5skq6u]</td>\n",
       "      <td>.@amazon delivery #drones show need to update ...</td>\n",
       "      <td>[amazon]</td>\n",
       "    </tr>\n",
       "    <tr>\n",
       "      <th>...</th>\n",
       "      <td>...</td>\n",
       "      <td>...</td>\n",
       "      <td>...</td>\n",
       "      <td>...</td>\n",
       "      <td>...</td>\n",
       "      <td>...</td>\n",
       "      <td>...</td>\n",
       "      <td>...</td>\n",
       "      <td>...</td>\n",
       "      <td>...</td>\n",
       "      <td>...</td>\n",
       "      <td>...</td>\n",
       "      <td>...</td>\n",
       "      <td>...</td>\n",
       "      <td>...</td>\n",
       "      <td>...</td>\n",
       "      <td>...</td>\n",
       "      <td>...</td>\n",
       "      <td>...</td>\n",
       "      <td>...</td>\n",
       "      <td>...</td>\n",
       "    </tr>\n",
       "    <tr>\n",
       "      <th>4995</th>\n",
       "      <td>From: Ted Yoho (Representative from Florida)</td>\n",
       "      <td>facebook</td>\n",
       "      <td>I applaud Governor PerryÛªs recent decision t...</td>\n",
       "      <td>i applaud governor perryûªs recent decision t...</td>\n",
       "      <td>[i, applaud, governor, perryûªs, recent, deci...</td>\n",
       "      <td>[i, applaud, governor, perryûªs, recent, deci...</td>\n",
       "      <td>[(i, applaud), (applaud, governor), (governor,...</td>\n",
       "      <td>[(i, applaud), (applaud, governor), (governor,...</td>\n",
       "      <td>applaud governor perryûªs recent decision dep...</td>\n",
       "      <td>[applaud, governor, perryûªs, recent, decisio...</td>\n",
       "      <td>...</td>\n",
       "      <td>[applaud, governor, recent, decision, deploy, ...</td>\n",
       "      <td>[(applaud, governor), (governor, recent), (rec...</td>\n",
       "      <td>[applaud, governor, recent, decision, deploy, ...</td>\n",
       "      <td>applaud governor recent decision deploy nation...</td>\n",
       "      <td>applaud governor recent decision deploy nation...</td>\n",
       "      <td>[]</td>\n",
       "      <td>[]</td>\n",
       "      <td>[]</td>\n",
       "      <td>i applaud governor perryûªs recent decision t...</td>\n",
       "      <td>[]</td>\n",
       "    </tr>\n",
       "    <tr>\n",
       "      <th>4996</th>\n",
       "      <td>From: Ted Yoho (Representative from Florida)</td>\n",
       "      <td>facebook</td>\n",
       "      <td>Today, I voted in favor of H.R. 5016 - Financi...</td>\n",
       "      <td>today, i voted in favor of h.r. 5016 - financi...</td>\n",
       "      <td>[today, ,, i, voted, in, favor, of, h.r, ., 50...</td>\n",
       "      <td>[today, ,, i, voted, in, favor, of, h.r, ., 50...</td>\n",
       "      <td>[(today, ,), (,, i), (i, voted), (voted, in), ...</td>\n",
       "      <td>[(today, ,), (,, i), (i, voted), (voted, in), ...</td>\n",
       "      <td>today, voted favor h.r. 5016 - financial servi...</td>\n",
       "      <td>[today, ,, voted, favor, h.r, ., 5016, -, fina...</td>\n",
       "      <td>...</td>\n",
       "      <td>[today, voted, favor, 5016, financial, service...</td>\n",
       "      <td>[(today, voted), (voted, favor), (favor, 5016)...</td>\n",
       "      <td>[today, voted, favor, 5016, financial, service...</td>\n",
       "      <td>today voted favor 5016 financial service gener...</td>\n",
       "      <td>today vote favor 5016 financial service genera...</td>\n",
       "      <td>[]</td>\n",
       "      <td>[]</td>\n",
       "      <td>[]</td>\n",
       "      <td>today, i voted in favor of h.r. 5016 - financi...</td>\n",
       "      <td>[]</td>\n",
       "    </tr>\n",
       "    <tr>\n",
       "      <th>4997</th>\n",
       "      <td>From: Ted Yoho (Representative from Florida)</td>\n",
       "      <td>facebook</td>\n",
       "      <td>(Taken from posted WOKV interview)   Congressm...</td>\n",
       "      <td>(taken from posted wokv interview)   congressm...</td>\n",
       "      <td>[(, taken, from, posted, wokv, interview, ), c...</td>\n",
       "      <td>[(, taken, from, posted, wokv, interview, ), c...</td>\n",
       "      <td>[((, taken), (taken, from), (from, posted), (p...</td>\n",
       "      <td>[((, taken), (taken, from), (from, posted), (p...</td>\n",
       "      <td>(taken posted wokv interview) congressman yoho...</td>\n",
       "      <td>[(, taken, posted, wokv, interview, ), congres...</td>\n",
       "      <td>...</td>\n",
       "      <td>[taken, posted, wokv, interview, congressman, ...</td>\n",
       "      <td>[(taken, posted), (posted, wokv), (wokv, inter...</td>\n",
       "      <td>[taken, posted, wokv, interview, congressman, ...</td>\n",
       "      <td>taken posted wokv interview congressman yoho s...</td>\n",
       "      <td>take post wokv interview congressman yoho say ...</td>\n",
       "      <td>[]</td>\n",
       "      <td>[]</td>\n",
       "      <td>[http://www.wokv.com/news/news/local/yoho-airs...</td>\n",
       "      <td>(taken from posted wokv interview)   congressm...</td>\n",
       "      <td>[]</td>\n",
       "    </tr>\n",
       "    <tr>\n",
       "      <th>4998</th>\n",
       "      <td>From: Ted Yoho (Representative from Florida)</td>\n",
       "      <td>facebook</td>\n",
       "      <td>Join me next week for a town hall in Ocala! I'...</td>\n",
       "      <td>join me next week for a town hall in ocala! i'...</td>\n",
       "      <td>[join, me, next, week, for, a, town, hall, in,...</td>\n",
       "      <td>[join, me, next, week, for, a, town, hall, in,...</td>\n",
       "      <td>[(join, me), (me, next), (next, week), (week, ...</td>\n",
       "      <td>[(join, me), (me, next), (next, week), (week, ...</td>\n",
       "      <td>join next week town hall ocala! i'll answer qu...</td>\n",
       "      <td>[join, next, week, town, hall, ocala, !, i, 'l...</td>\n",
       "      <td>...</td>\n",
       "      <td>[join, next, week, town, hall, ocala, i, answe...</td>\n",
       "      <td>[(join, next), (next, week), (week, town), (to...</td>\n",
       "      <td>[join, next, week, town, hall, ocala, i, answe...</td>\n",
       "      <td>join next week town hall ocala i answer questi...</td>\n",
       "      <td>join next week town hall ocala i answer questi...</td>\n",
       "      <td>[]</td>\n",
       "      <td>[]</td>\n",
       "      <td>[]</td>\n",
       "      <td>join me next week for a town hall in ocala! i'...</td>\n",
       "      <td>[]</td>\n",
       "    </tr>\n",
       "    <tr>\n",
       "      <th>4999</th>\n",
       "      <td>From: Ted Yoho (Representative from Florida)</td>\n",
       "      <td>facebook</td>\n",
       "      <td>Foreign Affairs Committee Hearing on Syria. I ...</td>\n",
       "      <td>foreign affairs committee hearing on syria. i ...</td>\n",
       "      <td>[foreign, affairs, committee, hearing, on, syr...</td>\n",
       "      <td>[foreign, affairs, committee, hearing, on, syr...</td>\n",
       "      <td>[(foreign, affairs), (affairs, committee), (co...</td>\n",
       "      <td>[(foreign, affairs), (affairs, committee), (co...</td>\n",
       "      <td>foreign affairs committee hearing syria. remai...</td>\n",
       "      <td>[foreign, affairs, committee, hearing, syria, ...</td>\n",
       "      <td>...</td>\n",
       "      <td>[foreign, affairs, committee, hearing, syria, ...</td>\n",
       "      <td>[(foreign, affairs), (affairs, committee), (co...</td>\n",
       "      <td>[foreign, affair, committee, hearing, syria, r...</td>\n",
       "      <td>foreign affair committee hearing syria remain ...</td>\n",
       "      <td>foreign affair committee hear syria remain opp...</td>\n",
       "      <td>[]</td>\n",
       "      <td>[]</td>\n",
       "      <td>[]</td>\n",
       "      <td>foreign affairs committee hearing on syria. i ...</td>\n",
       "      <td>[]</td>\n",
       "    </tr>\n",
       "  </tbody>\n",
       "</table>\n",
       "<p>5000 rows × 21 columns</p>\n",
       "</div>"
      ],
      "text/plain": [
       "                                                  from    source  \\\n",
       "0       From: Trey Radel (Representative from Florida)   twitter   \n",
       "1        From: Mitch McConnell (Senator from Kentucky)   twitter   \n",
       "2     From: Kurt Schrader (Representative from Oregon)   twitter   \n",
       "3             From: Michael Crapo (Senator from Idaho)   twitter   \n",
       "4             From: Mark Udall (Senator from Colorado)   twitter   \n",
       "...                                                ...       ...   \n",
       "4995      From: Ted Yoho (Representative from Florida)  facebook   \n",
       "4996      From: Ted Yoho (Representative from Florida)  facebook   \n",
       "4997      From: Ted Yoho (Representative from Florida)  facebook   \n",
       "4998      From: Ted Yoho (Representative from Florida)  facebook   \n",
       "4999      From: Ted Yoho (Representative from Florida)  facebook   \n",
       "\n",
       "                                                   text  \\\n",
       "0     RT @nowthisnews: Rep. Trey Radel (R- #FL) slam...   \n",
       "1     VIDEO - #Obamacare:  Full of Higher Costs and ...   \n",
       "2     Please join me today in remembering our fallen...   \n",
       "3     RT @SenatorLeahy: 1st step toward Senate debat...   \n",
       "4     .@amazon delivery #drones show need to update ...   \n",
       "...                                                 ...   \n",
       "4995  I applaud Governor PerryÛªs recent decision t...   \n",
       "4996  Today, I voted in favor of H.R. 5016 - Financi...   \n",
       "4997  (Taken from posted WOKV interview)   Congressm...   \n",
       "4998  Join me next week for a town hall in Ocala! I'...   \n",
       "4999  Foreign Affairs Committee Hearing on Syria. I ...   \n",
       "\n",
       "                                             text-lower  \\\n",
       "0     rt @nowthisnews: rep. trey radel (r- #fl) slam...   \n",
       "1     video - #obamacare:  full of higher costs and ...   \n",
       "2     please join me today in remembering our fallen...   \n",
       "3     rt @senatorleahy: 1st step toward senate debat...   \n",
       "4     .@amazon delivery #drones show need to update ...   \n",
       "...                                                 ...   \n",
       "4995  i applaud governor perryûªs recent decision t...   \n",
       "4996  today, i voted in favor of h.r. 5016 - financi...   \n",
       "4997  (taken from posted wokv interview)   congressm...   \n",
       "4998  join me next week for a town hall in ocala! i'...   \n",
       "4999  foreign affairs committee hearing on syria. i ...   \n",
       "\n",
       "                                     tokenized_unigrams  \\\n",
       "0     [rt, @, nowthisnews, :, rep., trey, radel, (, ...   \n",
       "1     [video, -, #, obamacare, :, full, of, higher, ...   \n",
       "2     [please, join, me, today, in, remembering, our...   \n",
       "3     [rt, @, senatorleahy, :, 1st, step, toward, se...   \n",
       "4     [., @, amazon, delivery, #, drones, show, need...   \n",
       "...                                                 ...   \n",
       "4995  [i, applaud, governor, perryûªs, recent, deci...   \n",
       "4996  [today, ,, i, voted, in, favor, of, h.r, ., 50...   \n",
       "4997  [(, taken, from, posted, wokv, interview, ), c...   \n",
       "4998  [join, me, next, week, for, a, town, hall, in,...   \n",
       "4999  [foreign, affairs, committee, hearing, on, syr...   \n",
       "\n",
       "                                      iterated_unigrams  \\\n",
       "0     [rt, @, nowthisnews, :, rep., trey, radel, (, ...   \n",
       "1     [video, -, #, obamacare, :, full, of, higher, ...   \n",
       "2     [please, join, me, today, in, remembering, our...   \n",
       "3     [rt, @, senatorleahy, :, 1st, step, toward, se...   \n",
       "4     [., @, amazon, delivery, #, drones, show, need...   \n",
       "...                                                 ...   \n",
       "4995  [i, applaud, governor, perryûªs, recent, deci...   \n",
       "4996  [today, ,, i, voted, in, favor, of, h.r, ., 50...   \n",
       "4997  [(, taken, from, posted, wokv, interview, ), c...   \n",
       "4998  [join, me, next, week, for, a, town, hall, in,...   \n",
       "4999  [foreign, affairs, committee, hearing, on, syr...   \n",
       "\n",
       "                                      tokenized_bigrams  \\\n",
       "0     [(rt, @nowthisnews), (@nowthisnews, :), (:, re...   \n",
       "1     [(video, -), (-, #obamacare), (#obamacare, :),...   \n",
       "2     [(please, join), (join, me), (me, today), (tod...   \n",
       "3     [(rt, @senatorleahy), (@senatorleahy, :), (:, ...   \n",
       "4     [(., @amazon), (@amazon, delivery), (delivery,...   \n",
       "...                                                 ...   \n",
       "4995  [(i, applaud), (applaud, governor), (governor,...   \n",
       "4996  [(today, ,), (,, i), (i, voted), (voted, in), ...   \n",
       "4997  [((, taken), (taken, from), (from, posted), (p...   \n",
       "4998  [(join, me), (me, next), (next, week), (week, ...   \n",
       "4999  [(foreign, affairs), (affairs, committee), (co...   \n",
       "\n",
       "                                       iterated_bigrams  \\\n",
       "0     [(rt, @), (@, nowthisnews), (nowthisnews, :), ...   \n",
       "1     [(video, -), (-, #), (#, obamacare), (obamacar...   \n",
       "2     [(please, join), (join, me), (me, today), (tod...   \n",
       "3     [(rt, @), (@, senatorleahy), (senatorleahy, :)...   \n",
       "4     [(., @), (@, amazon), (amazon, delivery), (del...   \n",
       "...                                                 ...   \n",
       "4995  [(i, applaud), (applaud, governor), (governor,...   \n",
       "4996  [(today, ,), (,, i), (i, voted), (voted, in), ...   \n",
       "4997  [((, taken), (taken, from), (from, posted), (p...   \n",
       "4998  [(join, me), (me, next), (next, week), (week, ...   \n",
       "4999  [(foreign, affairs), (affairs, committee), (co...   \n",
       "\n",
       "                                               stopword  \\\n",
       "0     rt @nowthisnews: rep. trey radel (r- #fl) slam...   \n",
       "1     video - #obamacare: full higher costs broken p...   \n",
       "2     please join today remembering fallen heroes ho...   \n",
       "3     rt @senatorleahy: 1st step toward senate debat...   \n",
       "4     .@amazon delivery #drones show need update law...   \n",
       "...                                                 ...   \n",
       "4995  applaud governor perryûªs recent decision dep...   \n",
       "4996  today, voted favor h.r. 5016 - financial servi...   \n",
       "4997  (taken posted wokv interview) congressman yoho...   \n",
       "4998  join next week town hall ocala! i'll answer qu...   \n",
       "4999  foreign affairs committee hearing syria. remai...   \n",
       "\n",
       "                                stop_tokenized_unigrams  ...  \\\n",
       "0     [rt, @, nowthisnews, :, rep., trey, radel, (, ...  ...   \n",
       "1     [video, -, #, obamacare, :, full, higher, cost...  ...   \n",
       "2     [please, join, today, remembering, fallen, her...  ...   \n",
       "3     [rt, @, senatorleahy, :, 1st, step, toward, se...  ...   \n",
       "4     [., @, amazon, delivery, #, drones, show, need...  ...   \n",
       "...                                                 ...  ...   \n",
       "4995  [applaud, governor, perryûªs, recent, decisio...  ...   \n",
       "4996  [today, ,, voted, favor, h.r, ., 5016, -, fina...  ...   \n",
       "4997  [(, taken, posted, wokv, interview, ), congres...  ...   \n",
       "4998  [join, next, week, town, hall, ocala, !, i, 'l...  ...   \n",
       "4999  [foreign, affairs, committee, hearing, syria, ...  ...   \n",
       "\n",
       "                               punct_tokenized_unigrams  \\\n",
       "0     [rt, nowthisnews, trey, radel, fl, slams, obam...   \n",
       "1     [video, obamacare, full, higher, costs, broken...   \n",
       "2     [please, join, today, remembering, fallen, her...   \n",
       "3     [rt, senatorleahy, 1st, step, toward, senate, ...   \n",
       "4     [amazon, delivery, drones, show, need, update,...   \n",
       "...                                                 ...   \n",
       "4995  [applaud, governor, recent, decision, deploy, ...   \n",
       "4996  [today, voted, favor, 5016, financial, service...   \n",
       "4997  [taken, posted, wokv, interview, congressman, ...   \n",
       "4998  [join, next, week, town, hall, ocala, i, answe...   \n",
       "4999  [foreign, affairs, committee, hearing, syria, ...   \n",
       "\n",
       "                                punct_tokenized_bigrams  \\\n",
       "0     [(rt, nowthisnews), (nowthisnews, trey), (trey...   \n",
       "1     [(video, obamacare), (obamacare, full), (full,...   \n",
       "2     [(please, join), (join, today), (today, rememb...   \n",
       "3     [(rt, senatorleahy), (senatorleahy, 1st), (1st...   \n",
       "4     [(amazon, delivery), (delivery, drones), (dron...   \n",
       "...                                                 ...   \n",
       "4995  [(applaud, governor), (governor, recent), (rec...   \n",
       "4996  [(today, voted), (voted, favor), (favor, 5016)...   \n",
       "4997  [(taken, posted), (posted, wokv), (wokv, inter...   \n",
       "4998  [(join, next), (next, week), (week, town), (to...   \n",
       "4999  [(foreign, affairs), (affairs, committee), (co...   \n",
       "\n",
       "                                                  lemma  \\\n",
       "0     [rt, nowthisnews, trey, radel, fl, slam, obama...   \n",
       "1     [video, obamacare, full, higher, cost, broken,...   \n",
       "2     [please, join, today, remembering, fallen, her...   \n",
       "3     [rt, senatorleahy, 1st, step, toward, senate, ...   \n",
       "4     [amazon, delivery, drone, show, need, update, ...   \n",
       "...                                                 ...   \n",
       "4995  [applaud, governor, recent, decision, deploy, ...   \n",
       "4996  [today, voted, favor, 5016, financial, service...   \n",
       "4997  [taken, posted, wokv, interview, congressman, ...   \n",
       "4998  [join, next, week, town, hall, ocala, i, answe...   \n",
       "4999  [foreign, affair, committee, hearing, syria, r...   \n",
       "\n",
       "                                              lemma_str  \\\n",
       "0     rt nowthisnews trey radel fl slam obamacare po...   \n",
       "1     video obamacare full higher cost broken promis...   \n",
       "2     please join today remembering fallen hero hono...   \n",
       "3     rt senatorleahy 1st step toward senate debate ...   \n",
       "4     amazon delivery drone show need update law pro...   \n",
       "...                                                 ...   \n",
       "4995  applaud governor recent decision deploy nation...   \n",
       "4996  today voted favor 5016 financial service gener...   \n",
       "4997  taken posted wokv interview congressman yoho s...   \n",
       "4998  join next week town hall ocala i answer questi...   \n",
       "4999  foreign affair committee hearing syria remain ...   \n",
       "\n",
       "                                         lemmatizer_str         mentions  \\\n",
       "0     rt nowthisnews trey radel fl slam obamacare po...   [@nowthisnews]   \n",
       "1     video obamacare full high cost broken promise ...               []   \n",
       "2     please join today remember fall hero honor men...               []   \n",
       "3     rt senatorleahy 1st step toward senate debate ...  [@senatorleahy]   \n",
       "4     amazon delivery drone show need update law pro...        [@amazon]   \n",
       "...                                                 ...              ...   \n",
       "4995  applaud governor recent decision deploy nation...               []   \n",
       "4996  today vote favor 5016 financial service genera...               []   \n",
       "4997  take post wokv interview congressman yoho say ...               []   \n",
       "4998  join next week town hall ocala i answer questi...               []   \n",
       "4999  foreign affair committee hear syria remain opp...               []   \n",
       "\n",
       "                                hashtags  \\\n",
       "0              [fl, obamacare, politics]   \n",
       "1                            [obamacare]   \n",
       "2                                     []   \n",
       "3                                 [vawa]   \n",
       "4     [drones, innovation, privacy, uas]   \n",
       "...                                  ...   \n",
       "4995                                  []   \n",
       "4996                                  []   \n",
       "4997                                  []   \n",
       "4998                                  []   \n",
       "4999                                  []   \n",
       "\n",
       "                                                   http  \\\n",
       "0                             [https://t.co/zvywmg8yih]   \n",
       "1                              [http://t.co/dn3vzqirwf]   \n",
       "2                                                    []   \n",
       "3                                                    []   \n",
       "4                              [http://t.co/l9ta5skq6u]   \n",
       "...                                                 ...   \n",
       "4995                                                 []   \n",
       "4996                                                 []   \n",
       "4997  [http://www.wokv.com/news/news/local/yoho-airs...   \n",
       "4998                                                 []   \n",
       "4999                                                 []   \n",
       "\n",
       "                                                 no-url    mentions-str  \n",
       "0     rt @nowthisnews: rep. trey radel (r- #fl) slam...   [nowthisnews]  \n",
       "1     video - #obamacare:  full of higher costs and ...              []  \n",
       "2     please join me today in remembering our fallen...              []  \n",
       "3     rt @senatorleahy: 1st step toward senate debat...  [senatorleahy]  \n",
       "4     .@amazon delivery #drones show need to update ...        [amazon]  \n",
       "...                                                 ...             ...  \n",
       "4995  i applaud governor perryûªs recent decision t...              []  \n",
       "4996  today, i voted in favor of h.r. 5016 - financi...              []  \n",
       "4997  (taken from posted wokv interview)   congressm...              []  \n",
       "4998  join me next week for a town hall in ocala! i'...              []  \n",
       "4999  foreign affairs committee hearing on syria. i ...              []  \n",
       "\n",
       "[5000 rows x 21 columns]"
      ]
     },
     "execution_count": 117,
     "metadata": {},
     "output_type": "execute_result"
    }
   ],
   "source": [
    "#YOUR CODE HERE\n",
    "content.rename(columns={\"label\" : \"from\"})"
   ]
  },
  {
   "cell_type": "markdown",
   "metadata": {},
   "source": [
    "**We created the column that contains the mentions in 'mentions' column. How many unique accounts have been mentioned?**"
   ]
  },
  {
   "cell_type": "markdown",
   "metadata": {},
   "source": [
    "> * You might want to flatten the list of mentions and then count the frequency of each mention.\n",
    "> * This code below will flatten the list of mentions.\n",
    "> * `[item for sublist in content['mentions'] for item in sublist]`"
   ]
  },
  {
   "cell_type": "code",
   "execution_count": 118,
   "metadata": {},
   "outputs": [
    {
     "data": {
      "text/plain": [
       "['@nowthisnews',\n",
       " '@senatorleahy',\n",
       " '@amazon',\n",
       " '@usdotfra',\n",
       " '@bbcworld',\n",
       " '@mha',\n",
       " '@genevrapittman',\n",
       " '@medcitynews',\n",
       " '@skitchp',\n",
       " '@corybooker',\n",
       " '@senbookerofc',\n",
       " '@accesshealthct',\n",
       " '@ktvb',\n",
       " '@senatorreid',\n",
       " '@marcthiessen',\n",
       " '@uscapitol',\n",
       " '@houseofcards',\n",
       " '@flxwinecountry',\n",
       " '@niagwinetrail',\n",
       " '@politico',\n",
       " '@ftmeademd',\n",
       " '@askgeorge',\n",
       " '@edworkforcedems',\n",
       " '@grahamblog',\n",
       " '@lyndawoolard',\n",
       " '@aaas',\n",
       " '@fanniemae',\n",
       " '@fixthedebt',\n",
       " '@thecankicksback',\n",
       " '@whitehouse',\n",
       " '@repjoegarcia',\n",
       " '@wolfblitzer',\n",
       " '@changinghands',\n",
       " '@foxmorningnews',\n",
       " '@jaketapper',\n",
       " '@freebeacon',\n",
       " '@rtenews',\n",
       " '@haroldmeyerson',\n",
       " '@washingtonpost',\n",
       " '@househomeland',\n",
       " '@mccaulpressshop',\n",
       " '@cbsthismorning',\n",
       " '@mayornoak',\n",
       " '@lewisuniversity',\n",
       " '@seanhannity',\n",
       " '@wyoguard',\n",
       " '@washingtonpost',\n",
       " '@mydesert',\n",
       " '@utahpoliticohub',\n",
       " '@matthewwymt',\n",
       " '@michellewymt',\n",
       " '@wymt',\n",
       " '@repsusandavis',\n",
       " '@tenygross',\n",
       " '@hanscom',\n",
       " '@kevinscholla',\n",
       " '@repdavid',\n",
       " '@sarahnetradio',\n",
       " '@robbhanrahancbs',\n",
       " '@cbs21news',\n",
       " '@johnerardi',\n",
       " '@reds',\n",
       " '@usmc',\n",
       " '@senatebanking',\n",
       " '@sen',\n",
       " '@elizabethforma',\n",
       " '@senatorheitkamp',\n",
       " '@tomcoburn',\n",
       " '@sendeanheller',\n",
       " '@rainn01',\n",
       " '@kerrywashington',\n",
       " '@ellemagazine',\n",
       " '@scottafb',\n",
       " '@theobserver',\n",
       " '@fwhcc',\n",
       " '@uani',\n",
       " '@ladybigmac',\n",
       " '@speakerboehner',\n",
       " '@virginiafoxx',\n",
       " '@reptomreed',\n",
       " '@keithrothfus',\n",
       " '@repkevincramer',\n",
       " '@gillespie',\n",
       " '@interior',\n",
       " '@madisoncollege',\n",
       " '@gopleader',\n",
       " '@onecampaign',\n",
       " '@stabenow',\n",
       " '@ct4adream',\n",
       " '@deltadiva3',\n",
       " '@sendancoats',\n",
       " '@antiochpolice',\n",
       " '@usatoday',\n",
       " '@athomepundit',\n",
       " '@attyabdul',\n",
       " '@replarrybucshon',\n",
       " '@93wibc',\n",
       " '@mayorballard',\n",
       " '@newyorkobserver',\n",
       " '@golfchannel',\n",
       " '@washingtonpost',\n",
       " '@yubasutterarts',\n",
       " '@senrandpaul',\n",
       " '@horizonbeverage',\n",
       " '@dwaynebenji',\n",
       " '@perkasieborough',\n",
       " '@wtcommunities',\n",
       " '@algore',\n",
       " '@et',\n",
       " '@nnedv',\n",
       " '@sbagov',\n",
       " '@dennisdmz',\n",
       " '@christiandmz',\n",
       " '@ncfarmbureau',\n",
       " '@j',\n",
       " '@corybooker',\n",
       " '@living',\n",
       " '@whitehouse',\n",
       " '@hascrepublicans',\n",
       " '@theclimatehawk',\n",
       " '@southwestair',\n",
       " '@dallaslovefield',\n",
       " '@ccintairport',\n",
       " '@austinairport',\n",
       " '@cnn',\n",
       " '@senwarren',\n",
       " '@mayortommenino',\n",
       " '@nomorenames',\n",
       " '@cdcgov',\n",
       " '@keysoffaith',\n",
       " '@nrecaintl',\n",
       " '@senmarkpryor',\n",
       " '@highleyunlikely',\n",
       " '@melfly1',\n",
       " '@ghostreconlee',\n",
       " '@replindasanchez',\n",
       " '@housegop',\n",
       " '@appropsdems',\n",
       " '@repdavideprice',\n",
       " '@nbc6',\n",
       " '@yaliberty',\n",
       " '@aaogcnewark',\n",
       " '@egpvokpvalleyok',\n",
       " '@dentpressshop',\n",
       " '@repduckworth',\n",
       " '@natresources',\n",
       " '@mikeroweworks',\n",
       " '@tperkins',\n",
       " '@crainschicago',\n",
       " '@americasvoice',\n",
       " '@senatorbarb',\n",
       " '@senblumenthal',\n",
       " '@maziehirono',\n",
       " '@wecanwait',\n",
       " '@huffpostparents',\n",
       " '@flotus',\n",
       " '@senatorshaheen',\n",
       " '@robportman',\n",
       " '@bluebagnews',\n",
       " '@gabbygiffords',\n",
       " '@victoriafinkle',\n",
       " '@pjnet',\n",
       " '@repfinchertn08',\n",
       " '@ianhainline',\n",
       " '@univision',\n",
       " '@wsj',\n",
       " '@cfpb',\n",
       " '@senatedems',\n",
       " '@provcm',\n",
       " '@billcassidy',\n",
       " '@armywarcollege',\n",
       " '@startupweekend',\n",
       " '@tigernbham',\n",
       " '@kkeejj',\n",
       " '@bctimes',\n",
       " '@consol',\n",
       " '@pitairport',\n",
       " '@flysjc',\n",
       " '@tnfarmbureau',\n",
       " '@tweetinallnight',\n",
       " '@swetalk',\n",
       " '@foxnews',\n",
       " '@teamcavuto',\n",
       " '@repchrissmith',\n",
       " '@ntn24',\n",
       " '@cgurisattintn24',\n",
       " '@peenymcneeny',\n",
       " '@repjeffduncan',\n",
       " '@pilotnews',\n",
       " '@eximbankus',\n",
       " '@thehartford',\n",
       " '@stewsays',\n",
       " '@mikecrapo',\n",
       " '@jallman971',\n",
       " '@ufwf',\n",
       " '@ufwupdates',\n",
       " '@luisgutierrez',\n",
       " '@repzoelofgren',\n",
       " '@amtrakcareers',\n",
       " '@repjeffdenham',\n",
       " '@repfredupton',\n",
       " '@sendonnelly',\n",
       " '@spacekscblog',\n",
       " '@housescience',\n",
       " '@adamslane17',\n",
       " '@repstevestivers',\n",
       " '@hanscom',\n",
       " '@brettonwoodscom',\n",
       " '@msnbc',\n",
       " '@aadorableana',\n",
       " '@repsamfarr',\n",
       " '@provphoenix',\n",
       " '@crainschicago',\n",
       " '@governorquinn',\n",
       " '@indians',\n",
       " '@financialcmte',\n",
       " '@loudobbsnews',\n",
       " '@susanlisovicz',\n",
       " '@congressfdn',\n",
       " '@mayordanrizzo',\n",
       " '@repraulgrijalva',\n",
       " '@marcorubio',\n",
       " '@nolabelsorg',\n",
       " '@manchester',\n",
       " '@md',\n",
       " '@whiphoyer',\n",
       " '@annearundelcc',\n",
       " '@pmason03',\n",
       " '@ventower',\n",
       " '@fox5sandiego',\n",
       " '@huffpostpol',\n",
       " '@tomroten',\n",
       " '@repcartwright',\n",
       " '@washingtonpost',\n",
       " '@markandrewscm',\n",
       " '@newsmaxtv',\n",
       " '@theforum',\n",
       " '@aldotcom',\n",
       " '@mattley',\n",
       " '@mayorbillfinch',\n",
       " '@danmalloyct',\n",
       " '@nihdirector',\n",
       " '@senateapprops',\n",
       " '@senatorbarb',\n",
       " '@nasa',\n",
       " '@washingtonpost',\n",
       " '@rihospital',\n",
       " '@rihealth',\n",
       " '@pawsox',\n",
       " '@houseagnews',\n",
       " '@knowyourix',\n",
       " '@nwlc',\n",
       " '@aauw',\n",
       " '@trooprewards',\n",
       " '@trademeansjobs',\n",
       " '@repboustany',\n",
       " '@uschamber',\n",
       " '@chamberglobal',\n",
       " '@disastersafety',\n",
       " '@remieconomics',\n",
       " '@sarahpatte',\n",
       " '@speakerboehner',\n",
       " '@themainepain',\n",
       " '@medicaregov',\n",
       " '@telemundonews',\n",
       " '@roslehtinen',\n",
       " '@nsf',\n",
       " '@kmart',\n",
       " '@mentor',\n",
       " '@senatorkirk',\n",
       " '@dmogahed',\n",
       " '@93wibc',\n",
       " '@housegop',\n",
       " '@reperikpaulsen',\n",
       " '@senjohnbarrasso',\n",
       " '@vindicator',\n",
       " '@hfacdemocrats',\n",
       " '@metodijakoloski',\n",
       " '@therealmrtim',\n",
       " '@nato',\n",
       " '@washpost',\n",
       " '@sfareachamber',\n",
       " '@repkristinoem',\n",
       " '@davita',\n",
       " '@usdol',\n",
       " '@progressagent',\n",
       " '@ramya',\n",
       " '@washingtonpost',\n",
       " '@aldocella1',\n",
       " '@smartnonprofits',\n",
       " '@unitedwaytc',\n",
       " '@wsbtv',\n",
       " '@senatorisakson',\n",
       " '@aarondiamant',\n",
       " '@jasoninthehouse',\n",
       " '@bernade87545622',\n",
       " '@fwd',\n",
       " '@columbuszoo',\n",
       " '@stillmankbeer',\n",
       " '@gabf',\n",
       " '@oleharold',\n",
       " '@ap',\n",
       " '@biscaynenps',\n",
       " '@cerritospatch',\n",
       " '@rancho',\n",
       " '@washingtonpost',\n",
       " '@jasoncollins34',\n",
       " '@foodwithpurpose',\n",
       " '@ambassadororen',\n",
       " '@ambshapiro',\n",
       " '@repeliotengel',\n",
       " '@senrandpaul',\n",
       " '@repthomasmassie',\n",
       " '@appropsdems',\n",
       " '@wjrradio',\n",
       " '@paulwjr',\n",
       " '@msstate',\n",
       " '@massgovernor',\n",
       " '@senchapinrose',\n",
       " '@willlewiswfmz',\n",
       " '@scrab8448',\n",
       " '@kuhlslbi',\n",
       " '@makuhls',\n",
       " '@stewsays',\n",
       " '@djheakin',\n",
       " '@mnaflcio',\n",
       " '@minnesotadfl',\n",
       " '@larry',\n",
       " '@77wabcradio',\n",
       " '@miamidadecounty',\n",
       " '@friendslibrary',\n",
       " '@statedept',\n",
       " '@cbseveningnews',\n",
       " '@toqc',\n",
       " '@jfkucinich',\n",
       " '@posttv',\n",
       " '@barackobama',\n",
       " '@ww2vethal',\n",
       " '@mcconnellpress',\n",
       " '@hfacrepublicans',\n",
       " '@speakerboehner',\n",
       " '@cnnsitroom',\n",
       " '@lowellfolkfest',\n",
       " '@facebook',\n",
       " '@chrysler',\n",
       " '@ronwyden',\n",
       " '@senatorbarb',\n",
       " '@markudall',\n",
       " '@peoplesworld',\n",
       " '@azpm',\n",
       " '@uofa',\n",
       " '@coachsalemmsu',\n",
       " '@ou',\n",
       " '@markpoloncarz',\n",
       " '@caoeriecounty',\n",
       " '@smallbizgop',\n",
       " '@nationaljournal',\n",
       " '@techamerica',\n",
       " '@dgfohio',\n",
       " '@mrclean2012',\n",
       " '@usatoday',\n",
       " '@mattmackowiak',\n",
       " '@hughhewitt',\n",
       " '@speakerboehner',\n",
       " '@marksteynonline',\n",
       " '@byronyork',\n",
       " '@housevetaffairs',\n",
       " '@markdavis',\n",
       " '@660ksky',\n",
       " '@roxanneconlin',\n",
       " '@foxbusiness',\n",
       " '@theheraldtimes',\n",
       " '@govtracker',\n",
       " '@repgutierrez',\n",
       " '@repjoseserrano',\n",
       " '@clancycnn',\n",
       " '@gburg',\n",
       " '@cmsgov',\n",
       " '@jerrybrowngov',\n",
       " '@replipinski',\n",
       " '@wsjhealth',\n",
       " '@stevemtalk',\n",
       " '@transport',\n",
       " '@epa',\n",
       " '@leecruse',\n",
       " '@wvlk',\n",
       " '@pueblochieftain',\n",
       " '@deltas',\n",
       " '@meetthepress',\n",
       " '@epwrepublicans',\n",
       " '@katg4',\n",
       " '@repjimmcdermott',\n",
       " '@darrellissa',\n",
       " '@financialcmte',\n",
       " '@thehill',\n",
       " '@usnews',\n",
       " '@scottlpa',\n",
       " '@repmiketurner',\n",
       " '@replynnjenkins',\n",
       " '@repmikepompeo',\n",
       " '@usatoday',\n",
       " '@russellstinger',\n",
       " '@beckylockhart',\n",
       " '@mayorbenmcadams',\n",
       " '@foxnews',\n",
       " '@ryanoferguson',\n",
       " '@repjoekennedy',\n",
       " '@janelernerny',\n",
       " '@govchristie',\n",
       " '@sandynjrelief',\n",
       " '@nationaldineout',\n",
       " '@rephensarling',\n",
       " '@lamarsmithtx21',\n",
       " '@mccaulpressshop',\n",
       " '@petesessions',\n",
       " '@interior',\n",
       " '@uflorida',\n",
       " '@markdotdo',\n",
       " '@treyradel',\n",
       " '@colsgachamber',\n",
       " '@arkbusiness',\n",
       " '@repchrissmith',\n",
       " '@benaffleck',\n",
       " '@easterncongo',\n",
       " '@cindymccain',\n",
       " '@foxnews',\n",
       " '@financialcmte',\n",
       " '@cfpb',\n",
       " '@foxnewssunday',\n",
       " '@theobserver',\n",
       " '@repduckworth',\n",
       " '@foodlifeline',\n",
       " '@secnav',\n",
       " '@kstate',\n",
       " '@kuhoops',\n",
       " '@northsnohomish',\n",
       " '@heraldnetsports',\n",
       " '@cspanwj',\n",
       " '@alicewaters',\n",
       " '@time',\n",
       " '@uinations',\n",
       " '@infarmbureau',\n",
       " '@sdcaltrans',\n",
       " '@barbrhondi',\n",
       " '@repdonaldpayne',\n",
       " '@repbeatty',\n",
       " '@crowdhall',\n",
       " '@repmcclintock',\n",
       " '@leeterryne',\n",
       " '@repfredupton',\n",
       " '@migrainediva',\n",
       " '@speakerboehner',\n",
       " '@presenteorg',\n",
       " '@banuaba',\n",
       " '@stevescalise',\n",
       " '@financialcmte',\n",
       " '@fanniemae',\n",
       " '@freddiemac',\n",
       " '@10',\n",
       " '@senatebanking',\n",
       " '@repjimmatheson',\n",
       " '@buckmckeon',\n",
       " '@repmckinley',\n",
       " '@greggharper',\n",
       " '@repfredupton',\n",
       " '@repmartharoby',\n",
       " '@susanwbrooks',\n",
       " '@sengillibrand',\n",
       " '@trishlaird',\n",
       " '@repdesantis',\n",
       " '@billclinton',\n",
       " '@agschneiderman',\n",
       " '@mumfordandsons',\n",
       " '@cityofottumwa',\n",
       " '@senatebudget',\n",
       " '@aipac',\n",
       " '@heraldnews',\n",
       " '@corybooker',\n",
       " '@robrobinson',\n",
       " '@usatoday',\n",
       " '@morrow',\n",
       " '@indytribune',\n",
       " '@arfishinhole',\n",
       " '@conwayschools',\n",
       " '@wkbw',\n",
       " '@senblumenthal',\n",
       " '@kystatefop',\n",
       " '@interior',\n",
       " '@ford',\n",
       " '@usdol',\n",
       " '@watchdogorg',\n",
       " '@barackobama',\n",
       " '@americanlegion',\n",
       " '@whitehouse',\n",
       " '@senate',\n",
       " '@pittsburghpg',\n",
       " '@wsj',\n",
       " '@repjeffdenham',\n",
       " '@keloland',\n",
       " '@darrellissa',\n",
       " '@rephartzler',\n",
       " '@davidcicilline',\n",
       " '@hfacdemocrats',\n",
       " '@repmikerogers',\n",
       " '@repswalwell',\n",
       " '@elainenekritz',\n",
       " '@meganmitchell',\n",
       " '@johncornyn',\n",
       " '@presssec',\n",
       " '@americanroyal',\n",
       " '@thisweekabc',\n",
       " '@ksatnews',\n",
       " '@pryan',\n",
       " '@wafflehouse',\n",
       " '@youngstownstate',\n",
       " '@newsconnoisseur',\n",
       " '@barackobama',\n",
       " '@aldotcom',\n",
       " '@waysandmeansgop',\n",
       " '@repdavecamp',\n",
       " '@simplertaxes',\n",
       " '@27sow',\n",
       " '@senateapprops',\n",
       " '@duckdynastyae',\n",
       " '@williebosshog',\n",
       " '@siduckdynasty',\n",
       " '@huffingtonpost',\n",
       " '@longbeachcity',\n",
       " '@charliecrist',\n",
       " '@americanair',\n",
       " '@hdmaconnect',\n",
       " '@970wfla',\n",
       " '@jstj88',\n",
       " '@fwd',\n",
       " '@cspan',\n",
       " '@housedemocrats',\n",
       " '@republicanstudy',\n",
       " '@repdavidscott',\n",
       " '@repmikequigley',\n",
       " '@jaredpolis',\n",
       " '@newsnation',\n",
       " '@tamronhall',\n",
       " '@pandorumizator',\n",
       " '@huffpostpol',\n",
       " '@speakerboehner',\n",
       " '@erinhamlin',\n",
       " '@umich',\n",
       " '@dcexaminer',\n",
       " '@12am',\n",
       " '@khonnews',\n",
       " '@nwf',\n",
       " '@usgao',\n",
       " '@montefrank1',\n",
       " '@jameshohmann',\n",
       " '@gretawire',\n",
       " '@usatoday',\n",
       " '@davidgregory',\n",
       " '@miamiherald',\n",
       " '@reuterspolitics',\n",
       " '@reuters',\n",
       " '@cmkoslowitz',\n",
       " '@brianschatz',\n",
       " '@kevinbuist',\n",
       " '@repjustinamash',\n",
       " '@deathsquadgr420',\n",
       " '@realcmnicholson',\n",
       " '@edpartnerships',\n",
       " '@salon',\n",
       " '@nasa',\n",
       " '@astroillini',\n",
       " '@cityofhayward',\n",
       " '@dochastings',\n",
       " '@senatorcardin',\n",
       " '@steph',\n",
       " '@rifoodbank',\n",
       " '@kacoppola',\n",
       " '@secretaryfoxx',\n",
       " '@sahilkapur',\n",
       " '@martincountygov',\n",
       " '@nikkibama',\n",
       " '@peterroskam',\n",
       " '@ronwyden',\n",
       " '@senatorleahy',\n",
       " '@senrandpaul',\n",
       " '@senblumenthal',\n",
       " '@martinheinrich',\n",
       " '@seanhannity',\n",
       " '@mlivedetroit',\n",
       " '@burlcotimes',\n",
       " '@deptvetaffairs',\n",
       " '@seungminkim',\n",
       " '@andiezd',\n",
       " '@roslehtinen',\n",
       " '@houstonchron',\n",
       " '@speakerboehner',\n",
       " '@theellenshow',\n",
       " '@georgefwill',\n",
       " '@washingtonpost',\n",
       " '@federalreserve',\n",
       " '@financialcmte',\n",
       " '@meridianstar',\n",
       " '@greggharper',\n",
       " '@gopleader',\n",
       " '@chrisbob',\n",
       " '@juddpdeere',\n",
       " '@spoonboy42',\n",
       " '@billhemmer',\n",
       " '@lee',\n",
       " '@edshow',\n",
       " '@secretaryjewell',\n",
       " '@martinheinrich',\n",
       " '@senatortomudall',\n",
       " '@chuckgrassley',\n",
       " '@noprisoners1',\n",
       " '@supertalk997',\n",
       " '@noh8campaign',\n",
       " '@morningbriefing',\n",
       " '@washingtonpost',\n",
       " '@nygovcuomo',\n",
       " '@billclinton',\n",
       " '@teambraley',\n",
       " '@iowademocrats',\n",
       " '@uscoastguard',\n",
       " '@riovideo',\n",
       " '@usda',\n",
       " '@bwdistilling',\n",
       " '@business',\n",
       " '@ummc',\n",
       " '@ltgovbrown',\n",
       " '@senatorbarb',\n",
       " '@senatorcardin',\n",
       " '@repmikehonda',\n",
       " '@repgaramendi',\n",
       " '@repsamfarr',\n",
       " '@peacecorps',\n",
       " '@pcorpsconnect',\n",
       " '@wnyt',\n",
       " '@caracol1260',\n",
       " '@mariodb',\n",
       " '@yolycuello',\n",
       " '@icareeguns',\n",
       " '@cattypatriot',\n",
       " '@wdharrisjr',\n",
       " '@wbkotv',\n",
       " '@repkevinbrady',\n",
       " '@americanlegion',\n",
       " '@iava',\n",
       " '@amvetsnational',\n",
       " '@concernedvets',\n",
       " '@voices4service',\n",
       " '@americorps',\n",
       " '@deptvetaffairs',\n",
       " '@cirelafaro',\n",
       " '@earthjustice',\n",
       " '@lclaa',\n",
       " '@lclaasacramento',\n",
       " '@cflclaa',\n",
       " '@panerabread',\n",
       " '@theatlantic',\n",
       " '@housecommerce',\n",
       " '@eddavis3',\n",
       " '@undeerc',\n",
       " '@banksisme',\n",
       " '@irishdavee',\n",
       " '@eleanornorton',\n",
       " '@wsj',\n",
       " '@komendetroit',\n",
       " '@vaminneapolis',\n",
       " '@michaellambe',\n",
       " '@triblive',\n",
       " '@garrisonradio',\n",
       " '@93wibc',\n",
       " '@itds',\n",
       " '@sharonday',\n",
       " '@courierjournal',\n",
       " '@jrcarrollcj',\n",
       " '@ywcausa',\n",
       " '@niawapo',\n",
       " '@posttv',\n",
       " '@aliciamenendez',\n",
       " '@usatoday',\n",
       " '@huffpostlive',\n",
       " '@uconnwbb',\n",
       " '@amyklobuchar',\n",
       " '@gsfoundation',\n",
       " '@toniatkins',\n",
       " '@albanybizreview',\n",
       " '@ups',\n",
       " '@goulaglenn',\n",
       " '@congpalazzo',\n",
       " '@hiindustries',\n",
       " '@senangusking',\n",
       " '@espn',\n",
       " '@chrislhayes',\n",
       " '@thehill',\n",
       " '@uschamber',\n",
       " '@deciminyan',\n",
       " '@nwtc',\n",
       " '@jaylow',\n",
       " '@mustikhan',\n",
       " '@nasastennis',\n",
       " '@sunherald',\n",
       " '@thishour',\n",
       " '@cnn',\n",
       " '@wolfblitzer',\n",
       " '@cnn',\n",
       " '@ericnakagawa',\n",
       " '@changetip',\n",
       " '@repwalorski',\n",
       " '@mecopower',\n",
       " '@repjoeheck',\n",
       " '@powerhrg',\n",
       " '@aecfkidscount',\n",
       " '@recoveringpol',\n",
       " '@nolabelsorg',\n",
       " '@brianthomas1',\n",
       " '@55krc',\n",
       " '@foxnews',\n",
       " '@repdavecamp',\n",
       " '@ncaa',\n",
       " '@msnbc',\n",
       " '@ohiostate',\n",
       " '@edshow',\n",
       " '@charactersunite',\n",
       " '@calinnovates',\n",
       " '@housescience',\n",
       " '@senleepresssec',\n",
       " '@senmikelee',\n",
       " '@tobinwilliamson',\n",
       " '@usatoday',\n",
       " '@patriotmom61',\n",
       " '@crankynursenj',\n",
       " '@southwesteagles',\n",
       " '@westmiamimiddle',\n",
       " '@mdcps',\n",
       " '@leswinan',\n",
       " '@kentuckybaeo',\n",
       " '@lakeareatech',\n",
       " '@aspeninstitute',\n",
       " '@cnnkyra',\n",
       " '@ac360',\n",
       " '@hispaniccaucus',\n",
       " '@raylahood',\n",
       " '@usdotfra',\n",
       " '@comfoodjustice',\n",
       " '@repjimcosta',\n",
       " '@cliff',\n",
       " '@senshelby',\n",
       " '@senrandpaul',\n",
       " '@gorman',\n",
       " '@wegoted',\n",
       " '@jpdtiga',\n",
       " '@afpnc',\n",
       " '@gop',\n",
       " '@houseappropsgop',\n",
       " '@rephalrogers',\n",
       " '@us',\n",
       " '@cerebralguild',\n",
       " '@greenmtncollege',\n",
       " '@sschwarz07',\n",
       " '@cspan',\n",
       " '@izzysroses',\n",
       " '@bostonglobe',\n",
       " '@livecut',\n",
       " '@katheinemann',\n",
       " '@marybonomack',\n",
       " '@danarohrabacher',\n",
       " '@darrellissa',\n",
       " '@natresources',\n",
       " '@appropsdems',\n",
       " '@sanfordbishop',\n",
       " '@senatorcardin',\n",
       " '@ziayusuf',\n",
       " '@kpcc',\n",
       " '@repjeffdenham',\n",
       " '@darrellissa',\n",
       " '@tsa',\n",
       " '@matthewkalish',\n",
       " '@daddies',\n",
       " '@daddies',\n",
       " '@houseforeign',\n",
       " '@aldotcom',\n",
       " '@repgaramendi',\n",
       " '@waplanfinder',\n",
       " '@waplanfinder',\n",
       " '@pscspeaks',\n",
       " '@senatorisakson',\n",
       " '@ussoccer',\n",
       " '@melodyvacc',\n",
       " '@inspectorlawyer',\n",
       " '@alldailyrepnews',\n",
       " '@senjohnthune',\n",
       " '@michaelpacholek',\n",
       " '@harvard',\n",
       " '@westerncaucus',\n",
       " '@barackobama',\n",
       " '@msnbc',\n",
       " '@tjholmes',\n",
       " '@alyeskapipeline',\n",
       " '@senatorboxer',\n",
       " '@nolabelsorg',\n",
       " '@kusi',\n",
       " '@us',\n",
       " '@mlive',\n",
       " '@rmazetns',\n",
       " '@repmiketurner',\n",
       " '@solonschools',\n",
       " '@solonchamberoh',\n",
       " '@repmaloney',\n",
       " '@senatormenendez',\n",
       " '@ddwv12',\n",
       " '@franklautenberg',\n",
       " '@reuters',\n",
       " '@thecnsunion',\n",
       " '@speakerboehner',\n",
       " '@closeup',\n",
       " '@waysandmeansgop',\n",
       " '@buzzfeed',\n",
       " '@amyklobuchar',\n",
       " '@iowademocrats',\n",
       " '@teambraley',\n",
       " '@aafb',\n",
       " '@pattymurray',\n",
       " '@broncos',\n",
       " '@pautrat',\n",
       " '@fcc',\n",
       " '@mikkijenson',\n",
       " '@gallupnews',\n",
       " '@peacecorps',\n",
       " '@salemstate',\n",
       " '@reptierney',\n",
       " '@ssupresidentpat',\n",
       " '@samanthakinney',\n",
       " '@copeland',\n",
       " '@desjarlaistn04',\n",
       " '@gretawire',\n",
       " '@foxnews',\n",
       " '@rosadelauro',\n",
       " '@usarmy',\n",
       " '@postreid',\n",
       " '@housecommerce',\n",
       " '@lorettasanchez',\n",
       " '@barackobama',\n",
       " '@boyscounts',\n",
       " '@davidcarroll3',\n",
       " '@tnaquarium',\n",
       " '@olivegarden',\n",
       " '@gfherald',\n",
       " '@financialcmte',\n",
       " '@secburwell',\n",
       " '@nihdirector',\n",
       " '@us',\n",
       " '@fastercures',\n",
       " '@firstweets',\n",
       " '@mpiresearch',\n",
       " '@cocancercenter',\n",
       " '@politifactri',\n",
       " '@nytimes',\n",
       " '@hardball',\n",
       " '@piersmorganlive',\n",
       " '@megynkelly',\n",
       " '@virginiafoxx',\n",
       " '@repkenmarchant',\n",
       " '@buckmckeon',\n",
       " '@replukemesser',\n",
       " '@drphilroe',\n",
       " '@repmattsalmon',\n",
       " '@repstevestivers',\n",
       " '@spotify',\n",
       " '@senatorcollins',\n",
       " '@lisamurkowski',\n",
       " '@todayshow',\n",
       " '@foxnews',\n",
       " '@housevetaffairs',\n",
       " '@thedemocrats',\n",
       " '@aarp',\n",
       " '@mikecrapo',\n",
       " '@aarpidaho',\n",
       " '@aarp',\n",
       " '@usarmy',\n",
       " '@repgwenmoore',\n",
       " '@fscdems',\n",
       " '@maxinewaters',\n",
       " '@repjoeheck',\n",
       " '@marylandrieu',\n",
       " '@stpetefl',\n",
       " '@stpetefl',\n",
       " '@stevekornell',\n",
       " '@wsj',\n",
       " '@amtrak',\n",
       " '@speakerboehner',\n",
       " '@aei',\n",
       " '@dotinspectorgen',\n",
       " '@msnbc',\n",
       " '@wegoted',\n",
       " '@biggerpicturemn',\n",
       " '@nitalowey',\n",
       " '@interior',\n",
       " '@secretaryjewell',\n",
       " '@antunezcuba',\n",
       " '@utaustin',\n",
       " '@mentorschools',\n",
       " '@boyscouts',\n",
       " '@housejudiciary',\n",
       " '@goupstate',\n",
       " '@cmt',\n",
       " '@bdcory',\n",
       " '@repjustinamash',\n",
       " '@repthomasmassie',\n",
       " '@mitchellreports',\n",
       " '@avemarialaw',\n",
       " '@thegardenisland',\n",
       " '@freebeacon',\n",
       " '@whitehouse',\n",
       " '@bennyjohnson',\n",
       " '@buzzfeedpol',\n",
       " '@drphilroe',\n",
       " '@kylacampbelldc',\n",
       " '@rollcall',\n",
       " '@markeymemo',\n",
       " '@reploiscapps',\n",
       " '@repgracemeng',\n",
       " '@thedemocrats',\n",
       " '@ahri',\n",
       " '@whitehouse',\n",
       " '@ca',\n",
       " '@uscismedianynj',\n",
       " '@repgracemeng',\n",
       " '@davcomcj',\n",
       " '@nbcthevoice',\n",
       " '@cedupdate',\n",
       " '@dropoutnation',\n",
       " '@ediblesofla',\n",
       " '@historymiami',\n",
       " '@callruby',\n",
       " '@repbonamici',\n",
       " '@ferc',\n",
       " '@senatefinance',\n",
       " '@repdankildee',\n",
       " '@hhsgov',\n",
       " '@stewsays',\n",
       " '@senwarren',\n",
       " '@sd',\n",
       " '@visitthecapitol',\n",
       " '@thevaliumsofa',\n",
       " '@usatoday',\n",
       " '@conventionla',\n",
       " '@tscwny',\n",
       " '@americorps',\n",
       " '@humanesociety',\n",
       " '@univmiami',\n",
       " '@floridastate',\n",
       " '@tjdelsanto',\n",
       " '@wpri',\n",
       " '@jimwallis',\n",
       " '@lisasharper',\n",
       " '@sojourners',\n",
       " '@coryboo',\n",
       " '@senatedems',\n",
       " '@cantwellpress',\n",
       " '@umichfootball',\n",
       " '@bradplumer',\n",
       " '@washingtonpost',\n",
       " '@wsvn',\n",
       " '@blakeburman',\n",
       " '@midwestsarabeth',\n",
       " '@cspan',\n",
       " '@govpencein',\n",
       " '@howardmatis',\n",
       " '@jennmurch',\n",
       " '@hinesvah',\n",
       " '@kusi',\n",
       " '@gianezmusic',\n",
       " '@tobinwilliamson',\n",
       " '@eccures',\n",
       " '@jcrcgw',\n",
       " '@repjohnlewis',\n",
       " '@ijessewilliams',\n",
       " '@whitehouse',\n",
       " '@repdianadegette',\n",
       " '@huffpostpol',\n",
       " '@unlvathletics',\n",
       " '@wkaq580',\n",
       " '@noticel',\n",
       " '@voceropr',\n",
       " '@jslconsulting',\n",
       " '@repkevinbrady',\n",
       " '@replouiegohmert',\n",
       " '@officialjld',\n",
       " '@wsj',\n",
       " '@nolabelsorg',\n",
       " '@saukvalley',\n",
       " '@repjoekennedy',\n",
       " '@rodneydavis',\n",
       " '@repjaredpolis',\n",
       " '@phillipslytle',\n",
       " '@canalsidebflo',\n",
       " '@chrislhayes',\n",
       " '@allinwithchris',\n",
       " '@msnbc',\n",
       " ...]"
      ]
     },
     "execution_count": 118,
     "metadata": {},
     "output_type": "execute_result"
    }
   ],
   "source": [
    "[item for sublist in content['mentions'] for item in sublist]"
   ]
  },
  {
   "cell_type": "markdown",
   "metadata": {},
   "source": [
    "**We created the column that contains hashtags in 'hashtags' column. How many unique hashtags have been used?**"
   ]
  },
  {
   "cell_type": "markdown",
   "metadata": {},
   "source": [
    "> * You might want to flatten the list of hashtags.\n",
    "> * This code below will flatten the list of hashtags.\n",
    "> * `[item for sublist in content['hashtags'] for item in sublist]`"
   ]
  },
  {
   "cell_type": "code",
   "execution_count": 134,
   "metadata": {},
   "outputs": [
    {
     "data": {
      "text/plain": [
       "['fl',\n",
       " 'obamacare',\n",
       " 'politics',\n",
       " 'obamacare',\n",
       " 'vawa',\n",
       " 'drones',\n",
       " 'innovation',\n",
       " 'privacy',\n",
       " 'uas',\n",
       " 'casseltonderailment',\n",
       " 'bringbackourgirls',\n",
       " 'joinrepwilson',\n",
       " 'fmla',\n",
       " 'hoyerheadlines',\n",
       " 'renewui',\n",
       " 'getenrolled',\n",
       " 'defundobamacare',\n",
       " 'idpol',\n",
       " 'idaho150',\n",
       " 'otd',\n",
       " 'actonclimate',\n",
       " 'nca2014',\n",
       " 'yourtime',\n",
       " 'tx32',\n",
       " 'wv',\n",
       " '4jobs',\n",
       " 'energy',\n",
       " 'jobs',\n",
       " 'obamacare',\n",
       " 'renewui',\n",
       " 'trainwreck',\n",
       " 'scnews',\n",
       " 'florida',\n",
       " 'makegovernmentwork',\n",
       " 'problemsolvers',\n",
       " 'fixnotfight',\n",
       " 'jerusalem',\n",
       " 'israel',\n",
       " 'gopbudget',\n",
       " 'wi',\n",
       " 'medicare',\n",
       " 'oped',\n",
       " 'gsereform',\n",
       " 'kxl',\n",
       " 'climatechange',\n",
       " 'kentucky',\n",
       " 'coleg',\n",
       " 'venezuela',\n",
       " 'sonyhack',\n",
       " 'colorado30',\n",
       " 'thirteensoldiers',\n",
       " 'tempe',\n",
       " 'arizona',\n",
       " 'requireaplan',\n",
       " 'va06',\n",
       " 'rke',\n",
       " 'bergdahl',\n",
       " 'irs',\n",
       " 'syria',\n",
       " 'irs',\n",
       " 'irsscandal',\n",
       " 'benghazi',\n",
       " 'strikefastfood',\n",
       " 'boston',\n",
       " 'willcounty',\n",
       " 'fl17',\n",
       " 'sayfie',\n",
       " 'vawa',\n",
       " 'obamacare',\n",
       " 'bahrain',\n",
       " 'cir',\n",
       " 'childcareprotection',\n",
       " 'utpol',\n",
       " 'lasen',\n",
       " 'rxdrugabuse',\n",
       " 'arts',\n",
       " 'landmines',\n",
       " 'tcot',\n",
       " 'womensucceed',\n",
       " 'ebola',\n",
       " 'standup',\n",
       " 'saam',\n",
       " '4jobs',\n",
       " 'senatedems',\n",
       " 'girlpower',\n",
       " 'sfrc',\n",
       " 'benghazi',\n",
       " 'haiti',\n",
       " 'vaaccountability',\n",
       " 'timeisnow',\n",
       " 'iranelection',\n",
       " 'madeinwi',\n",
       " 'snap',\n",
       " 'endhungernow',\n",
       " 'delco',\n",
       " 'weather',\n",
       " 'poverty',\n",
       " 'hunger',\n",
       " 'proddenergy',\n",
       " 'immigrationreform',\n",
       " 'dreamact',\n",
       " 'addiction',\n",
       " 'askdems',\n",
       " 'ryanbudget',\n",
       " 'homemeansnevada',\n",
       " 'battleborn',\n",
       " 'antioch',\n",
       " 'ca9',\n",
       " 'keystone',\n",
       " 'time2build',\n",
       " 'veterans',\n",
       " 'nukes',\n",
       " 'nkorea',\n",
       " 'irstargeting',\n",
       " 'memorialtournament',\n",
       " 'goldenbear',\n",
       " 'marchonwashington',\n",
       " 'mow50',\n",
       " 'art',\n",
       " 'isaac',\n",
       " 'nicaragua',\n",
       " 'venezuela',\n",
       " 'indy',\n",
       " 'keystone',\n",
       " 'eedayri',\n",
       " 'tbt',\n",
       " 'socialsecurity',\n",
       " 'otd',\n",
       " 'gopshutdown',\n",
       " 'smallbusinesses',\n",
       " 'enoughalready',\n",
       " 'farmbill',\n",
       " 'benghazi',\n",
       " 'wioa',\n",
       " 'syria',\n",
       " 'dontdoublemyrate',\n",
       " 'tx27',\n",
       " 'obamacare',\n",
       " 'fairnessforall',\n",
       " 'boston',\n",
       " 'demandaction',\n",
       " 'marriageequality',\n",
       " '26statestogo',\n",
       " 'fairnessforall',\n",
       " 'ny',\n",
       " 'va',\n",
       " 'coopsindc',\n",
       " 'laborday',\n",
       " 'eriecounty',\n",
       " 'waterford',\n",
       " 'renewui',\n",
       " 'earlyed',\n",
       " 'obama',\n",
       " 'congress',\n",
       " 'raisethewage',\n",
       " 'timefor1010',\n",
       " 'northdakota',\n",
       " 'nationaltriviaday',\n",
       " 'yalcon13',\n",
       " 'speechesdonthire',\n",
       " 'equality',\n",
       " 'unemployment',\n",
       " 'getcovered',\n",
       " 'nmwaterinnovation',\n",
       " 'navy',\n",
       " 'osu',\n",
       " 'gonavy',\n",
       " 'aca',\n",
       " 'immigrationreform',\n",
       " 'tucson',\n",
       " 'arizona',\n",
       " 'paycheckfairness',\n",
       " 'andmanymore',\n",
       " 'energyefficiency',\n",
       " 'glitches',\n",
       " 'independenceday',\n",
       " 'hezbollah',\n",
       " 'iran',\n",
       " 'coenergy',\n",
       " 'biogas',\n",
       " 'weldcounty',\n",
       " 'co',\n",
       " 'oh08',\n",
       " 'sotu',\n",
       " 'pjnet',\n",
       " 'stem',\n",
       " 'imarch',\n",
       " 'miami',\n",
       " 'oh14',\n",
       " 'gopshutdown',\n",
       " 'renewui',\n",
       " 'obamacare',\n",
       " 'jobs',\n",
       " 'trainwreck',\n",
       " 'ca43',\n",
       " '2million',\n",
       " 'renewui',\n",
       " 'senate',\n",
       " 'vawa',\n",
       " 'votecassidy',\n",
       " 'gopbudget',\n",
       " 'makeitinamerica',\n",
       " 'askdems',\n",
       " 'obamacare',\n",
       " 'fairnessforall',\n",
       " 'shalegas',\n",
       " 'il',\n",
       " 'stem',\n",
       " 'nosubsidies4congress',\n",
       " 'freesaeed',\n",
       " 'iran',\n",
       " 'christian',\n",
       " '150reasons',\n",
       " 'wv',\n",
       " 'budget',\n",
       " 'mepolitics',\n",
       " 'venezuela',\n",
       " 'libertad',\n",
       " 'pjnet',\n",
       " 'va',\n",
       " 'medicaid',\n",
       " 'obamacare',\n",
       " 'obamacare',\n",
       " 'senatemustact',\n",
       " 'tx25',\n",
       " 'exim4jobs',\n",
       " 'veterans',\n",
       " 'chainedcpi',\n",
       " 'senate',\n",
       " 'budget',\n",
       " 'passenda',\n",
       " 'gaymarriageor',\n",
       " 'equalpay',\n",
       " 'farmworkers',\n",
       " 'petsontrains',\n",
       " 'nationaldogday',\n",
       " 'amtrak',\n",
       " 'brokenpromises',\n",
       " 'abetterbargain',\n",
       " 'taxinversions',\n",
       " 'taxcode',\n",
       " 'morebrokenpromises',\n",
       " 'fracking',\n",
       " 'independenceday',\n",
       " 'musical',\n",
       " 'netneutrality',\n",
       " 'foreignrelations',\n",
       " 'dontdoublemyrate',\n",
       " 'northkorea',\n",
       " 'easter',\n",
       " 'marriageequality',\n",
       " 'nh',\n",
       " 'doddfrank',\n",
       " 'border',\n",
       " 'obamacare',\n",
       " 'payday',\n",
       " 'payday',\n",
       " 'tech',\n",
       " 'democracy',\n",
       " 'aviation',\n",
       " 'tcot',\n",
       " 'nointernettax',\n",
       " 'cte',\n",
       " 'nevada',\n",
       " 'nv03',\n",
       " '2',\n",
       " 'carbontax',\n",
       " 'americanenergy',\n",
       " 'schoolchoice',\n",
       " 'chicagoclimate',\n",
       " 'executiveamnesty',\n",
       " 'superbowlxlviii',\n",
       " 'denverbroncos',\n",
       " 'superbowlsunday',\n",
       " 'problemsolvers',\n",
       " 'fixnotfight',\n",
       " 'prayer',\n",
       " 'expandmedicaidnow',\n",
       " 'studentloanrates',\n",
       " 'nsa',\n",
       " 'immigrationreform',\n",
       " 'bipartisanship',\n",
       " 'dropthatdebt',\n",
       " 'wrrda',\n",
       " 'jobs',\n",
       " 'noranda',\n",
       " 'realairfares',\n",
       " 'noh8onthehill',\n",
       " 'isis',\n",
       " 'duckdynasty',\n",
       " 'memorialday',\n",
       " 'ar2',\n",
       " 'nv03',\n",
       " '2013gc',\n",
       " 'nih',\n",
       " 'economic',\n",
       " 'budget',\n",
       " 'skincancer',\n",
       " '2013farmbill',\n",
       " 'rice',\n",
       " 'ar01',\n",
       " 'tpa4usjobs',\n",
       " 'cirmeansjobs',\n",
       " 'irs',\n",
       " 'surgeongeneral',\n",
       " 'topdocnow',\n",
       " 'tx25',\n",
       " 'forthood',\n",
       " 'reformamigratoria',\n",
       " 'siria',\n",
       " 'stand4science',\n",
       " 'ncpol',\n",
       " 'equality',\n",
       " 'harveymilkstamp',\n",
       " 'oh14',\n",
       " 'karen',\n",
       " 'louisiana',\n",
       " 'fastandfurious',\n",
       " 'fisa',\n",
       " 'sotu',\n",
       " 'skillsact',\n",
       " 'mentalhealth',\n",
       " 'momornings',\n",
       " 'chiff',\n",
       " 'askengel',\n",
       " 'syria',\n",
       " 'yourtime',\n",
       " 'esea',\n",
       " 'nclb',\n",
       " 'coffeewithcongress',\n",
       " 'timeisnow',\n",
       " 'immigration',\n",
       " 'madeinwi',\n",
       " 'townhall',\n",
       " 'uconn',\n",
       " 'bpoilspill',\n",
       " 'obamacare',\n",
       " 'readthebills',\n",
       " 'nsa',\n",
       " 'nsaspeech',\n",
       " 'bsirs',\n",
       " 'irsscandal',\n",
       " 'fairshot',\n",
       " 'nofreelunch',\n",
       " 'budget',\n",
       " 'tcot',\n",
       " 'throwbackthursday',\n",
       " 'tbt',\n",
       " 'usa',\n",
       " 'rememberourvets',\n",
       " 'irs',\n",
       " 'halththeirs',\n",
       " 'teaparty',\n",
       " 'mn',\n",
       " 'passmjia',\n",
       " 'sofl',\n",
       " 'witnify',\n",
       " 'jfk',\n",
       " 'idpol',\n",
       " 'indy',\n",
       " 'jerusalem',\n",
       " 'obamainisrael',\n",
       " 'challenger',\n",
       " 'tcot',\n",
       " 'sequestration',\n",
       " 'oscars2014',\n",
       " 'ukraine',\n",
       " 'raisethewage',\n",
       " 'callwithcruz',\n",
       " 'marketplacefairness',\n",
       " 'il05',\n",
       " 'freedom',\n",
       " 'independenceday',\n",
       " '1is2many',\n",
       " 'shutdown',\n",
       " 'irs',\n",
       " 'repeal16',\n",
       " 'raisethewage',\n",
       " 'ksvr',\n",
       " 'obamacare',\n",
       " 'blackhistorymonth',\n",
       " 'actsofkindness',\n",
       " 'honorwithaction',\n",
       " 'keystonexl',\n",
       " 'timetobuild',\n",
       " 'jobs',\n",
       " 'energysecurity',\n",
       " 'opportunityplan',\n",
       " 'obamacare',\n",
       " 'benghazi',\n",
       " 'stuckinthesenate',\n",
       " 'mentalhealth',\n",
       " 'hr3717',\n",
       " 'sotu',\n",
       " 'randresponds',\n",
       " 'jobs',\n",
       " 'energy',\n",
       " 'keystonexl',\n",
       " 'sotu',\n",
       " 'stem',\n",
       " 'briefbrady',\n",
       " 'kerry',\n",
       " 'az05',\n",
       " 'az',\n",
       " 'kidsfirst',\n",
       " 'obamacare',\n",
       " 'waronpoverty50th',\n",
       " 'lowellfolk',\n",
       " 'nm',\n",
       " 'naias',\n",
       " 'mlkday',\n",
       " 'seattle',\n",
       " 'incomeinequality',\n",
       " 'tucson',\n",
       " 'health',\n",
       " 'medicare',\n",
       " 'headstart',\n",
       " 'smallbiz',\n",
       " 'ny22',\n",
       " '4jobs',\n",
       " 'sotu',\n",
       " 'jobs',\n",
       " 'jobs',\n",
       " 'ecpa',\n",
       " 'emailprivacyact',\n",
       " 'hewitt',\n",
       " 'nra',\n",
       " 'gopshutdown',\n",
       " 'timeisnow',\n",
       " 'vascandal',\n",
       " 'womensucceed',\n",
       " 'briafcliffmanor',\n",
       " 'irs',\n",
       " 'driverless',\n",
       " 'immigrantreform',\n",
       " 'jobs',\n",
       " 'opportunity',\n",
       " 'sochi',\n",
       " 'longbeach',\n",
       " 'sochi2014',\n",
       " 'goteamusa',\n",
       " 'obamacareinthreewords',\n",
       " 'path2cures',\n",
       " 'chibokgirls',\n",
       " 'bringbackourgirls',\n",
       " 'joinrepwilson',\n",
       " 'letsgooakland',\n",
       " 'milhealth',\n",
       " 'smallbusinesssaturday',\n",
       " 'whoyagonnacall',\n",
       " 'isis',\n",
       " 'hjres123',\n",
       " 'isis',\n",
       " 'senatemustact',\n",
       " 'makeitinamerica',\n",
       " 'obamacare',\n",
       " 'waroncoal',\n",
       " 'emailprivacyact',\n",
       " 'religiousfreedom',\n",
       " 'scotus',\n",
       " 'hobbylobby',\n",
       " 'istandwithhobbylobby',\n",
       " 'tax',\n",
       " 'morganzatothegulf',\n",
       " 'kentucky',\n",
       " 'immigration',\n",
       " 'ableact',\n",
       " 'tx23',\n",
       " 'madison',\n",
       " 'guilford',\n",
       " 'ginamccarthy',\n",
       " 'gop',\n",
       " 'obamacare',\n",
       " '37x',\n",
       " 'irs',\n",
       " 'tcot',\n",
       " 'obamacare',\n",
       " 'idpol',\n",
       " 'obamacare',\n",
       " 'mst',\n",
       " 'trainwreck',\n",
       " 'readthereport',\n",
       " 'utpol',\n",
       " 'obamacare',\n",
       " 'mapoli',\n",
       " 'vietnam',\n",
       " 'vet',\n",
       " 'pjnet',\n",
       " 'veterans',\n",
       " 'tiananmen',\n",
       " 'congo',\n",
       " 'dontfundit',\n",
       " 'defundobamacare',\n",
       " 'md02',\n",
       " 'nv03',\n",
       " 'gunviolence',\n",
       " 'ri',\n",
       " 'nobudgetnopay',\n",
       " 'oklahoma',\n",
       " 'netde',\n",
       " 'az05',\n",
       " 'ncpol',\n",
       " 'irs',\n",
       " 'oftheworld',\n",
       " 'cspanwj',\n",
       " 'obamacare',\n",
       " 'la03',\n",
       " 'fixflood',\n",
       " 'klinetth',\n",
       " 'obamacare',\n",
       " 'trainwreck',\n",
       " 'berkeley',\n",
       " 'time100',\n",
       " 'nowisthetime',\n",
       " 'tx25',\n",
       " 'idpol',\n",
       " 'combatmsa',\n",
       " 'thanksgiving',\n",
       " 'grateful4gunsense',\n",
       " 'momsdemandaction',\n",
       " 'happyequalpayday',\n",
       " 'ar2',\n",
       " 'arkansas',\n",
       " 'tcot',\n",
       " 'cutwaste',\n",
       " 'sequester',\n",
       " 'budget',\n",
       " 'bordercrisis',\n",
       " 'vawa',\n",
       " 'keystonexl',\n",
       " 'fhfa',\n",
       " 'renewui',\n",
       " 'budget',\n",
       " 'iran',\n",
       " 'isis',\n",
       " 'israel',\n",
       " 'yearinreview2014',\n",
       " 'ar2',\n",
       " 'medicareadvantage',\n",
       " 'ff',\n",
       " 'gop',\n",
       " 'familyact',\n",
       " 'scotus',\n",
       " 'religiousliberty',\n",
       " 'newhaven',\n",
       " 'obamacare',\n",
       " 'senatemustact',\n",
       " 'capemay',\n",
       " 'hiphop',\n",
       " 'nc08',\n",
       " 'yourtime',\n",
       " 'makinglifework',\n",
       " 'ar2',\n",
       " 'congresstoks',\n",
       " 'sabetha',\n",
       " 'sandyrecovery',\n",
       " 'auto',\n",
       " 'careeronestop',\n",
       " 'vets',\n",
       " 'timetobuild',\n",
       " 'sotu',\n",
       " 'nc09sotu',\n",
       " 'vets',\n",
       " 'obamacare',\n",
       " 'trainwreck',\n",
       " 'bhm',\n",
       " 'keystonexl',\n",
       " 'actonreform',\n",
       " 'cir',\n",
       " 'timeisnow',\n",
       " 'clemson',\n",
       " 'tigerfootball',\n",
       " 'bloodrunnethorange',\n",
       " 'makeitinamerica',\n",
       " 'choiceact',\n",
       " 'schoolchoice',\n",
       " 'opportunityagenda',\n",
       " 'cromnibus',\n",
       " 'aca',\n",
       " 'hr36',\n",
       " 'benghazi',\n",
       " 'pjnet',\n",
       " 'delaydefund',\n",
       " 'lasen',\n",
       " 'presidentobama',\n",
       " 'sandy',\n",
       " 'climatechange',\n",
       " 'oh15',\n",
       " 'shok',\n",
       " 'snap',\n",
       " 'hunger',\n",
       " 'awp2013',\n",
       " 'wi',\n",
       " 'independenceday',\n",
       " 'kc',\n",
       " 'middleclassfirst',\n",
       " 'goplawsuit',\n",
       " 'standwithisrael',\n",
       " 'tcot',\n",
       " 'sugar',\n",
       " 'sanantonio',\n",
       " 'bamericafpi',\n",
       " 'potus',\n",
       " 'az09',\n",
       " 'stopthesequester',\n",
       " 'dontdoublemyrate',\n",
       " 'taxreform',\n",
       " 'notleading',\n",
       " 'mondayreport',\n",
       " 'farmbill',\n",
       " 'clovis',\n",
       " 'duckdynasty',\n",
       " 'icymi',\n",
       " 'renewui',\n",
       " 'p2',\n",
       " 'veterans',\n",
       " 'amtampabay',\n",
       " 'sotu',\n",
       " 'jobs',\n",
       " 'opportunity',\n",
       " 'vawa',\n",
       " 'immigration',\n",
       " 'cir',\n",
       " 'irs',\n",
       " 'obamacare',\n",
       " 'askrsc',\n",
       " 'endalz',\n",
       " 'sbw2013',\n",
       " 'bergdahl',\n",
       " 'pjnet',\n",
       " 'opportunityforall',\n",
       " 'gruber',\n",
       " 'sequestration',\n",
       " 'cny',\n",
       " 'teamusa',\n",
       " 'ny22',\n",
       " 'goblue',\n",
       " 'benghazi',\n",
       " 'or',\n",
       " 'stopthesequester',\n",
       " 'jobs',\n",
       " 'pivot',\n",
       " 'irs',\n",
       " 'medicare',\n",
       " 'ar3',\n",
       " 'nsa',\n",
       " 'veteransadministration',\n",
       " 'arctic',\n",
       " 'irs',\n",
       " 'tweetthepress',\n",
       " 'happyholidays',\n",
       " 'aapi',\n",
       " 'regopark',\n",
       " 'renewui',\n",
       " 'mo',\n",
       " 'madeinwi',\n",
       " 'congressonyourcorner',\n",
       " 'facebook',\n",
       " 'juneteenth',\n",
       " 'il17',\n",
       " 'civilunions',\n",
       " 'obamacare',\n",
       " 'ar3',\n",
       " 'kxl',\n",
       " '4jobs',\n",
       " 'fridaykitty',\n",
       " 'dontdoublemyrate',\n",
       " 'ff',\n",
       " 'nsa',\n",
       " 'endthisdragnet',\n",
       " 'dataact',\n",
       " 'veterans',\n",
       " 'house',\n",
       " 'renewui',\n",
       " 'dreamcruise',\n",
       " 'brentwood',\n",
       " 'la01',\n",
       " 'ar2',\n",
       " 'syria',\n",
       " 'bringbackourgirls',\n",
       " 'joinrepwilson',\n",
       " 'yellen',\n",
       " 'myview',\n",
       " 'dayinthelife',\n",
       " 'cowildfires',\n",
       " 'kidsfirst',\n",
       " 'idpol',\n",
       " 'obamacare',\n",
       " 'idpol',\n",
       " 'southvalley',\n",
       " 'valledeoro',\n",
       " 'ok2',\n",
       " 'earmark',\n",
       " 'ar2',\n",
       " 'tn08',\n",
       " 'equalpay',\n",
       " 'tn04',\n",
       " 'obamacare',\n",
       " 'noh8onthehill',\n",
       " 'equality',\n",
       " 'renewui',\n",
       " 'yourtime',\n",
       " 'fy15',\n",
       " 'budget',\n",
       " 'obamacare',\n",
       " 'trainwreck',\n",
       " 'iagotv',\n",
       " '3days',\n",
       " 'followfriday',\n",
       " 'conservation',\n",
       " 'ff',\n",
       " 'supportchiff',\n",
       " 'domesticviolence',\n",
       " 'oam2014chat',\n",
       " 'nomadmenpay',\n",
       " 'aca',\n",
       " 'getcovered',\n",
       " 'sofl',\n",
       " 'tx',\n",
       " 'braceros',\n",
       " 'smithsonian',\n",
       " 'gored',\n",
       " 'socialsecurity',\n",
       " 'syria',\n",
       " 'iraq',\n",
       " 'rebuildact',\n",
       " 'veteranschoiceact',\n",
       " 'syria',\n",
       " 'gettingthingsdone',\n",
       " 'americorps20',\n",
       " 'tbt',\n",
       " 'jjthelamb',\n",
       " 'defundobamacare',\n",
       " 'rig',\n",
       " 'gunsense',\n",
       " 'snapchallenge',\n",
       " 'obamcareanswers',\n",
       " 'bostonstrong',\n",
       " 'middleclassfirst',\n",
       " 'benghazi',\n",
       " 'tcot',\n",
       " 'southjersey',\n",
       " 'obx',\n",
       " 'lasen',\n",
       " 'breastcancer',\n",
       " 'edenprairie',\n",
       " 'veterans',\n",
       " 'happyvday',\n",
       " 'mn03',\n",
       " 'dontdoublemyrate',\n",
       " 'facebook',\n",
       " 'isil',\n",
       " 'benghazi',\n",
       " 'standagainstracism',\n",
       " 'marchonwashington',\n",
       " 'fathersday',\n",
       " 'bleedblue',\n",
       " 'canines',\n",
       " 'notforsale',\n",
       " 'keystonepipeline',\n",
       " 'timetobuild',\n",
       " 'bostonmarathon',\n",
       " 'santabarbara',\n",
       " 'solar',\n",
       " 'mn08',\n",
       " 'sb48',\n",
       " 'broncos',\n",
       " 'unitedinorange',\n",
       " 'fixthemaze',\n",
       " 'wastebook',\n",
       " '10',\n",
       " 'raisethewage',\n",
       " 'talkpoverty',\n",
       " 'fiscalcliff',\n",
       " 'tcot',\n",
       " 'wi08',\n",
       " 'nsa',\n",
       " 'fridaykitty',\n",
       " 'benghazi',\n",
       " 'keystonexl',\n",
       " 'gopbudget',\n",
       " 'p2',\n",
       " 'nofilter',\n",
       " 'sanramon',\n",
       " 'ca15',\n",
       " 'ukraine',\n",
       " 'mn03',\n",
       " 'tailwaters',\n",
       " 'youth',\n",
       " 'traffic',\n",
       " 'safety',\n",
       " 'teens',\n",
       " 'jobs',\n",
       " 'nv',\n",
       " 'il05',\n",
       " 'fisa',\n",
       " 'hjc113',\n",
       " 'kidscount',\n",
       " 'standwithpeggy',\n",
       " 'spendingistheproblem',\n",
       " 'prekforall',\n",
       " 'opportunityplan',\n",
       " 'investinkids',\n",
       " 'resetthenet',\n",
       " 'debtceiling',\n",
       " 'championship',\n",
       " 'corporatewelfare',\n",
       " 'cropinsurance',\n",
       " 'nasa',\n",
       " 'pridemonth',\n",
       " 'utpol',\n",
       " 'leetownhall',\n",
       " 'immigration',\n",
       " 'timeisnow',\n",
       " 'va',\n",
       " 'waterresource',\n",
       " 'stopatt',\n",
       " 'southside',\n",
       " 'kentucky',\n",
       " 'potus',\n",
       " 'israel',\n",
       " 'fairshot',\n",
       " 'ar1',\n",
       " 'farmbill',\n",
       " 'standwithwomen',\n",
       " 'stopthesequester',\n",
       " 'balancedbudget',\n",
       " 'ny18',\n",
       " 'epa',\n",
       " 'ca49',\n",
       " 'fafsa',\n",
       " 'education',\n",
       " 'marketplacefairnessact',\n",
       " 'transportation',\n",
       " 'fairfarmbill',\n",
       " 'farmbill',\n",
       " 'actonclimate',\n",
       " 'nv04',\n",
       " 'standwithrand',\n",
       " '4thamendment',\n",
       " 'nsa',\n",
       " 'andrewconnollymakeadifferenceday',\n",
       " 'gopshutdown',\n",
       " 'enoughalready',\n",
       " 'farmbill',\n",
       " 'cwa',\n",
       " 'idpol',\n",
       " 'whatmothersneed',\n",
       " 'paidfamilyleave',\n",
       " 'dontdoublemyrate',\n",
       " 'remember911',\n",
       " 'getmoneyout',\n",
       " 'oklahoma',\n",
       " 'cirmeansjobs',\n",
       " 'roevwade',\n",
       " 'prolife',\n",
       " '113th',\n",
       " 'veteransday',\n",
       " 'veterans',\n",
       " 'nonettax',\n",
       " 'keystonexl',\n",
       " 'irony',\n",
       " 'timetodecide',\n",
       " 'lebanon',\n",
       " 'cspan',\n",
       " 'getcovered',\n",
       " 'spokane',\n",
       " 'farmbill',\n",
       " 'ga09',\n",
       " 'standuptoreid',\n",
       " 'defundobamacare',\n",
       " 'senatemustact',\n",
       " 'teamusa',\n",
       " 'ibelieve',\n",
       " 'usmnt',\n",
       " 'colombia',\n",
       " 'miami',\n",
       " 'keystonexl',\n",
       " 'jobs',\n",
       " 'obamacare',\n",
       " 'trainwreck',\n",
       " 'brokenpromises',\n",
       " 'kentucky',\n",
       " 'sequester',\n",
       " 'celebratenvrd',\n",
       " 'alzheimers',\n",
       " 'west',\n",
       " 'mybrotherskeeper',\n",
       " 'obamacare',\n",
       " 'pearlharbor',\n",
       " 'congress',\n",
       " 'latinachat',\n",
       " 'happylaborday',\n",
       " 'colorado',\n",
       " 'hasc',\n",
       " 'harryreidsshutdown',\n",
       " 'oh14',\n",
       " 'zadroga',\n",
       " 'in05',\n",
       " 'spendingistheproblem',\n",
       " 'cutwaste',\n",
       " 'renewui',\n",
       " 'hres573',\n",
       " 'bringbackourgirls',\n",
       " 'keansburg',\n",
       " 'nj',\n",
       " 'taxes',\n",
       " 'healthcarelaw',\n",
       " 'pjnet',\n",
       " 'sb48',\n",
       " 'sorrynotsorry',\n",
       " 'georgehwbush',\n",
       " 'askheidih',\n",
       " 'obamacare',\n",
       " 'brokenpromises',\n",
       " 'stregthenmh',\n",
       " 'fiu',\n",
       " 'israel',\n",
       " 'fpl',\n",
       " 'organandtissuedonation',\n",
       " 'cuba',\n",
       " 'freedomfighters',\n",
       " 'irsscandal',\n",
       " 'tcot',\n",
       " 'deportations',\n",
       " 'marchonwashington',\n",
       " 'mlk',\n",
       " 'mow50',\n",
       " 'az',\n",
       " 'afghanistan',\n",
       " 'notreadyforprimetime',\n",
       " 'endalz',\n",
       " 'keystone',\n",
       " 'timetobuild',\n",
       " '2013jambo',\n",
       " 'farmbill',\n",
       " 'stem',\n",
       " 'cir',\n",
       " 'costofinaction',\n",
       " 'vol',\n",
       " 'bringbackourmarine',\n",
       " 'pjnet',\n",
       " 'grandforks',\n",
       " 'fha',\n",
       " 'tx',\n",
       " 'path2cures',\n",
       " 'obamacare',\n",
       " 'thankateacher',\n",
       " 'aca',\n",
       " 'ff',\n",
       " 'skillsact',\n",
       " 'letthemusicflow',\n",
       " 'thankyouveterans',\n",
       " 'tbt',\n",
       " 'budget',\n",
       " 'tribeopener',\n",
       " 'oh16',\n",
       " 'veteransday',\n",
       " 'cte',\n",
       " 'wyohistory',\n",
       " 'imwithmary',\n",
       " 'mo',\n",
       " 'women',\n",
       " 'gop',\n",
       " 'vawa',\n",
       " 'gettested',\n",
       " 'nhtd',\n",
       " 'irs',\n",
       " '5pts4jobs',\n",
       " 'syria',\n",
       " 'irs',\n",
       " 'taxday',\n",
       " 'mn03',\n",
       " 'time4taxreform',\n",
       " 'omdp4nm',\n",
       " 'lascruces',\n",
       " 'do',\n",
       " 'whywemarch',\n",
       " 'cuba',\n",
       " 'chokepoint',\n",
       " 'justvote',\n",
       " 'skillsact',\n",
       " 'nsa',\n",
       " 'fairviewpark',\n",
       " 'cuyahoga',\n",
       " 'oh16',\n",
       " 'fl25',\n",
       " 'kauai',\n",
       " 'tulsiinyourtown',\n",
       " 'benghazi',\n",
       " 'hres36',\n",
       " 'ny22',\n",
       " 'obamacare',\n",
       " 'abetterway',\n",
       " 'diwali',\n",
       " 'petcoke',\n",
       " 'potus',\n",
       " 'congress',\n",
       " 'cir',\n",
       " 'immigrationaction',\n",
       " ...]"
      ]
     },
     "execution_count": 134,
     "metadata": {},
     "output_type": "execute_result"
    }
   ],
   "source": [
    "[item for sublist in content['hashtags'] for item in sublist]"
   ]
  },
  {
   "cell_type": "markdown",
   "metadata": {},
   "source": [
    "**Who mentioned the most in one tweet?**"
   ]
  },
  {
   "cell_type": "code",
   "execution_count": 146,
   "metadata": {},
   "outputs": [
    {
     "data": {
      "text/plain": [
       "[[0        [nowthisnews]\n",
       "  1                   []\n",
       "  2                   []\n",
       "  3       [senatorleahy]\n",
       "  4             [amazon]\n",
       "               ...      \n",
       "  4995                []\n",
       "  4996                []\n",
       "  4997                []\n",
       "  4998                []\n",
       "  4999                []\n",
       "  Name: mentions-str, Length: 5000, dtype: object]]"
      ]
     },
     "execution_count": 146,
     "metadata": {},
     "output_type": "execute_result"
    }
   ],
   "source": [
    "mentions = [[content[\"mentions-str\"]]]\n",
    "mentions\n"
   ]
  },
  {
   "cell_type": "markdown",
   "metadata": {},
   "source": [
    "**Looks like `YOUR ANSWER` mentioned nine accounts in one tweet. What is the content of the tweet? Use 'text-lower' column**"
   ]
  },
  {
   "cell_type": "code",
   "execution_count": null,
   "metadata": {},
   "outputs": [],
   "source": [
    "#YOUR CODE HERE"
   ]
  },
  {
   "cell_type": "markdown",
   "metadata": {},
   "source": [
    "**Who used hashtags the most in one tweet?**"
   ]
  },
  {
   "cell_type": "code",
   "execution_count": null,
   "metadata": {},
   "outputs": [],
   "source": [
    "#YOUR CODE HERE"
   ]
  },
  {
   "cell_type": "markdown",
   "metadata": {},
   "source": [
    "**Looks like `YOUR ANSWER` used eight hastags in one tweet. What is the content of the tweet that used the most hashtags? Use 'text-lower' column**"
   ]
  },
  {
   "cell_type": "code",
   "execution_count": null,
   "metadata": {},
   "outputs": [],
   "source": [
    "#YOUR CODE HERE"
   ]
  },
  {
   "cell_type": "markdown",
   "metadata": {},
   "source": [
    "**In the 'from' column, the name of the politician comes with 'From: ' in front of the name and whether the politician is Representative or Senator. Let's clean this.**"
   ]
  },
  {
   "cell_type": "markdown",
   "metadata": {},
   "source": [
    "**First, clean the 'From: ' in the 'from' column.**"
   ]
  },
  {
   "cell_type": "code",
   "execution_count": null,
   "metadata": {},
   "outputs": [],
   "source": [
    "#YOUR CODE HERE"
   ]
  },
  {
   "cell_type": "markdown",
   "metadata": {},
   "source": [
    "**Second, extract where they are from (the name of the State) and create a new column called 'state'.**"
   ]
  },
  {
   "cell_type": "code",
   "execution_count": null,
   "metadata": {},
   "outputs": [],
   "source": [
    "#YOUR CODE HERE"
   ]
  },
  {
   "cell_type": "markdown",
   "metadata": {},
   "source": [
    "**Third, extract the name of the politician and create a new column called 'politician'.**"
   ]
  },
  {
   "cell_type": "code",
   "execution_count": null,
   "metadata": {},
   "outputs": [],
   "source": [
    "#YOUR CODE HERE"
   ]
  }
 ],
 "metadata": {
  "kernelspec": {
   "display_name": "py3.10",
   "language": "python",
   "name": "python3"
  },
  "language_info": {
   "codemirror_mode": {
    "name": "ipython",
    "version": 3
   },
   "file_extension": ".py",
   "mimetype": "text/x-python",
   "name": "python",
   "nbconvert_exporter": "python",
   "pygments_lexer": "ipython3",
   "version": "3.12.1"
  }
 },
 "nbformat": 4,
 "nbformat_minor": 2
}
