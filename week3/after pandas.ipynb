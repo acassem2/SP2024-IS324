import pandas as pd
from nltk.tokenize import word_tokenize
from nltk.tokenize import TweetTokenizer
from nltk.corpus import stopwords
from nltk.util import ngrams

data = data=pd.read_csv('Political-media-DFE.csv', encoding='latin1')
data.columns