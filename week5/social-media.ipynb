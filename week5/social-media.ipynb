{
 "cells": [
  {
   "cell_type": "code",
   "execution_count": 9,
   "metadata": {},
   "outputs": [],
   "source": [
    "import pandas as pd\n",
    "import re\n",
    "pd.options.mode.chained_assignment = None  # default='warn'\n"
   ]
  },
  {
   "cell_type": "code",
   "execution_count": 2,
   "metadata": {},
   "outputs": [],
   "source": [
    "data=pd.read_csv('../week3/Political-media-DFE.csv', encoding='latin1')"
   ]
  },
  {
   "cell_type": "code",
   "execution_count": 3,
   "metadata": {},
   "outputs": [
    {
     "data": {
      "text/plain": [
       "Index(['_unit_id', '_golden', '_unit_state', '_trusted_judgments',\n",
       "       '_last_judgment_at', 'audience', 'audience:confidence', 'bias',\n",
       "       'bias:confidence', 'message', 'message:confidence', 'orig__golden',\n",
       "       'audience_gold', 'bias_gold', 'bioid', 'embed', 'id', 'label',\n",
       "       'message_gold', 'source', 'text'],\n",
       "      dtype='object')"
      ]
     },
     "execution_count": 3,
     "metadata": {},
     "output_type": "execute_result"
    }
   ],
   "source": [
    "data.columns"
   ]
  },
  {
   "cell_type": "markdown",
   "metadata": {},
   "source": [
    "> * Subset the DataFrame to have `label`, `source`, and `text` columns"
   ]
  },
  {
   "cell_type": "code",
   "execution_count": 4,
   "metadata": {},
   "outputs": [],
   "source": [
    "df=data[['label', 'source', 'text']]"
   ]
  },
  {
   "cell_type": "code",
   "execution_count": 5,
   "metadata": {},
   "outputs": [
    {
     "data": {
      "text/plain": [
       "(5000, 3)"
      ]
     },
     "execution_count": 5,
     "metadata": {},
     "output_type": "execute_result"
    }
   ],
   "source": [
    "df.shape"
   ]
  },
  {
   "cell_type": "markdown",
   "metadata": {},
   "source": [
    "> * Q. How many unique users are there in the dataset? (check the `label` column)"
   ]
  },
  {
   "cell_type": "code",
   "execution_count": 6,
   "metadata": {},
   "outputs": [
    {
     "data": {
      "text/plain": [
       "505"
      ]
     },
     "execution_count": 6,
     "metadata": {},
     "output_type": "execute_result"
    }
   ],
   "source": [
    "df['label'].nunique()"
   ]
  },
  {
   "cell_type": "markdown",
   "metadata": {},
   "source": [
    "> * Let's print the first 5 rows of the DataFrame"
   ]
  },
  {
   "cell_type": "code",
   "execution_count": 7,
   "metadata": {},
   "outputs": [
    {
     "data": {
      "text/html": [
       "<div>\n",
       "<style scoped>\n",
       "    .dataframe tbody tr th:only-of-type {\n",
       "        vertical-align: middle;\n",
       "    }\n",
       "\n",
       "    .dataframe tbody tr th {\n",
       "        vertical-align: top;\n",
       "    }\n",
       "\n",
       "    .dataframe thead th {\n",
       "        text-align: right;\n",
       "    }\n",
       "</style>\n",
       "<table border=\"1\" class=\"dataframe\">\n",
       "  <thead>\n",
       "    <tr style=\"text-align: right;\">\n",
       "      <th></th>\n",
       "      <th>label</th>\n",
       "      <th>source</th>\n",
       "      <th>text</th>\n",
       "    </tr>\n",
       "  </thead>\n",
       "  <tbody>\n",
       "    <tr>\n",
       "      <th>0</th>\n",
       "      <td>From: Trey Radel (Representative from Florida)</td>\n",
       "      <td>twitter</td>\n",
       "      <td>RT @nowthisnews: Rep. Trey Radel (R- #FL) slam...</td>\n",
       "    </tr>\n",
       "    <tr>\n",
       "      <th>1</th>\n",
       "      <td>From: Mitch McConnell (Senator from Kentucky)</td>\n",
       "      <td>twitter</td>\n",
       "      <td>VIDEO - #Obamacare:  Full of Higher Costs and ...</td>\n",
       "    </tr>\n",
       "    <tr>\n",
       "      <th>2</th>\n",
       "      <td>From: Kurt Schrader (Representative from Oregon)</td>\n",
       "      <td>twitter</td>\n",
       "      <td>Please join me today in remembering our fallen...</td>\n",
       "    </tr>\n",
       "    <tr>\n",
       "      <th>3</th>\n",
       "      <td>From: Michael Crapo (Senator from Idaho)</td>\n",
       "      <td>twitter</td>\n",
       "      <td>RT @SenatorLeahy: 1st step toward Senate debat...</td>\n",
       "    </tr>\n",
       "    <tr>\n",
       "      <th>4</th>\n",
       "      <td>From: Mark Udall (Senator from Colorado)</td>\n",
       "      <td>twitter</td>\n",
       "      <td>.@amazon delivery #drones show need to update ...</td>\n",
       "    </tr>\n",
       "  </tbody>\n",
       "</table>\n",
       "</div>"
      ],
      "text/plain": [
       "                                              label   source  \\\n",
       "0    From: Trey Radel (Representative from Florida)  twitter   \n",
       "1     From: Mitch McConnell (Senator from Kentucky)  twitter   \n",
       "2  From: Kurt Schrader (Representative from Oregon)  twitter   \n",
       "3          From: Michael Crapo (Senator from Idaho)  twitter   \n",
       "4          From: Mark Udall (Senator from Colorado)  twitter   \n",
       "\n",
       "                                                text  \n",
       "0  RT @nowthisnews: Rep. Trey Radel (R- #FL) slam...  \n",
       "1  VIDEO - #Obamacare:  Full of Higher Costs and ...  \n",
       "2  Please join me today in remembering our fallen...  \n",
       "3  RT @SenatorLeahy: 1st step toward Senate debat...  \n",
       "4  .@amazon delivery #drones show need to update ...  "
      ]
     },
     "execution_count": 7,
     "metadata": {},
     "output_type": "execute_result"
    }
   ],
   "source": [
    "df.head(5)"
   ]
  },
  {
   "cell_type": "markdown",
   "metadata": {},
   "source": [
    "> * Let's extract the name of the user from the `label` column and create a new column called `username` in the DataFrame"
   ]
  },
  {
   "cell_type": "code",
   "execution_count": 10,
   "metadata": {},
   "outputs": [],
   "source": [
    "pattern=re.compile(r'(.+?)\\s*\\(')\n",
    "df['username']=df['label'].str.replace('From: ', '').str.findall(pattern).str[0]"
   ]
  },
  {
   "cell_type": "markdown",
   "metadata": {},
   "source": [
    ">* Let's convert the usernames to lowercase"
   ]
  },
  {
   "cell_type": "code",
   "execution_count": 11,
   "metadata": {},
   "outputs": [],
   "source": [
    "df['username']=df['username'].str.lower()"
   ]
  },
  {
   "cell_type": "code",
   "execution_count": 12,
   "metadata": {},
   "outputs": [
    {
     "data": {
      "text/plain": [
       "0            trey radel\n",
       "1       mitch mcconnell\n",
       "2         kurt schrader\n",
       "3         michael crapo\n",
       "4            mark udall\n",
       "             ...       \n",
       "4995           ted yoho\n",
       "4996           ted yoho\n",
       "4997           ted yoho\n",
       "4998           ted yoho\n",
       "4999           ted yoho\n",
       "Name: username, Length: 5000, dtype: object"
      ]
     },
     "execution_count": 12,
     "metadata": {},
     "output_type": "execute_result"
    }
   ],
   "source": [
    "df['username']"
   ]
  },
  {
   "cell_type": "code",
   "execution_count": 13,
   "metadata": {},
   "outputs": [],
   "source": [
    "df.reset_index(drop=True, inplace=True)"
   ]
  },
  {
   "cell_type": "markdown",
   "metadata": {},
   "source": [
    "> * Let's extract the mentions from the `text` column and create a new column `mention` with the mentions."
   ]
  },
  {
   "cell_type": "code",
   "execution_count": 61,
   "metadata": {},
   "outputs": [],
   "source": [
    "pattern = re.compile(r\"@[a-zA-Z0-9]+\")\n",
    "df['mention']=df['text'].apply(lambda x: pattern.findall(x))\n",
    "df['mention']=df['mention'].apply(lambda x: [y.lower() for y in x])"
   ]
  },
  {
   "cell_type": "markdown",
   "metadata": {},
   "source": [
    ">* We also don't want to forget to convert the text into lowercase."
   ]
  },
  {
   "cell_type": "code",
   "execution_count": 62,
   "metadata": {},
   "outputs": [],
   "source": [
    "df['text']=df['text'].str.lower()"
   ]
  },
  {
   "cell_type": "code",
   "execution_count": 63,
   "metadata": {},
   "outputs": [
    {
     "data": {
      "text/html": [
       "<div>\n",
       "<style scoped>\n",
       "    .dataframe tbody tr th:only-of-type {\n",
       "        vertical-align: middle;\n",
       "    }\n",
       "\n",
       "    .dataframe tbody tr th {\n",
       "        vertical-align: top;\n",
       "    }\n",
       "\n",
       "    .dataframe thead th {\n",
       "        text-align: right;\n",
       "    }\n",
       "</style>\n",
       "<table border=\"1\" class=\"dataframe\">\n",
       "  <thead>\n",
       "    <tr style=\"text-align: right;\">\n",
       "      <th></th>\n",
       "      <th>label</th>\n",
       "      <th>source</th>\n",
       "      <th>text</th>\n",
       "      <th>username</th>\n",
       "      <th>mention</th>\n",
       "      <th>title</th>\n",
       "      <th>state</th>\n",
       "    </tr>\n",
       "  </thead>\n",
       "  <tbody>\n",
       "    <tr>\n",
       "      <th>0</th>\n",
       "      <td>From: Trey Radel (Representative from Florida)</td>\n",
       "      <td>twitter</td>\n",
       "      <td>rt @nowthisnews: rep. trey radel (r- #fl) slam...</td>\n",
       "      <td>trey radel</td>\n",
       "      <td>[@nowthisnews]</td>\n",
       "      <td>Representative</td>\n",
       "      <td>Florida</td>\n",
       "    </tr>\n",
       "    <tr>\n",
       "      <th>1</th>\n",
       "      <td>From: Mitch McConnell (Senator from Kentucky)</td>\n",
       "      <td>twitter</td>\n",
       "      <td>video - #obamacare:  full of higher costs and ...</td>\n",
       "      <td>mitch mcconnell</td>\n",
       "      <td>[]</td>\n",
       "      <td>Senator</td>\n",
       "      <td>Kentucky</td>\n",
       "    </tr>\n",
       "    <tr>\n",
       "      <th>2</th>\n",
       "      <td>From: Kurt Schrader (Representative from Oregon)</td>\n",
       "      <td>twitter</td>\n",
       "      <td>please join me today in remembering our fallen...</td>\n",
       "      <td>kurt schrader</td>\n",
       "      <td>[]</td>\n",
       "      <td>Representative</td>\n",
       "      <td>Oregon</td>\n",
       "    </tr>\n",
       "    <tr>\n",
       "      <th>3</th>\n",
       "      <td>From: Michael Crapo (Senator from Idaho)</td>\n",
       "      <td>twitter</td>\n",
       "      <td>rt @senatorleahy: 1st step toward senate debat...</td>\n",
       "      <td>michael crapo</td>\n",
       "      <td>[@senatorleahy]</td>\n",
       "      <td>Senator</td>\n",
       "      <td>Idaho</td>\n",
       "    </tr>\n",
       "    <tr>\n",
       "      <th>4</th>\n",
       "      <td>From: Mark Udall (Senator from Colorado)</td>\n",
       "      <td>twitter</td>\n",
       "      <td>.@amazon delivery #drones show need to update ...</td>\n",
       "      <td>mark udall</td>\n",
       "      <td>[@amazon]</td>\n",
       "      <td>Senator</td>\n",
       "      <td>Colorado</td>\n",
       "    </tr>\n",
       "  </tbody>\n",
       "</table>\n",
       "</div>"
      ],
      "text/plain": [
       "                                              label   source  \\\n",
       "0    From: Trey Radel (Representative from Florida)  twitter   \n",
       "1     From: Mitch McConnell (Senator from Kentucky)  twitter   \n",
       "2  From: Kurt Schrader (Representative from Oregon)  twitter   \n",
       "3          From: Michael Crapo (Senator from Idaho)  twitter   \n",
       "4          From: Mark Udall (Senator from Colorado)  twitter   \n",
       "\n",
       "                                                text         username  \\\n",
       "0  rt @nowthisnews: rep. trey radel (r- #fl) slam...       trey radel   \n",
       "1  video - #obamacare:  full of higher costs and ...  mitch mcconnell   \n",
       "2  please join me today in remembering our fallen...    kurt schrader   \n",
       "3  rt @senatorleahy: 1st step toward senate debat...    michael crapo   \n",
       "4  .@amazon delivery #drones show need to update ...       mark udall   \n",
       "\n",
       "           mention           title     state  \n",
       "0   [@nowthisnews]  Representative   Florida  \n",
       "1               []         Senator  Kentucky  \n",
       "2               []  Representative    Oregon  \n",
       "3  [@senatorleahy]         Senator     Idaho  \n",
       "4        [@amazon]         Senator  Colorado  "
      ]
     },
     "execution_count": 63,
     "metadata": {},
     "output_type": "execute_result"
    }
   ],
   "source": [
    "df.head(5)"
   ]
  },
  {
   "cell_type": "markdown",
   "metadata": {},
   "source": [
    "> * Let's build edges between the users who have mentioned.\n",
    "> * To do so, we will use the `mentions` column and iterate over the rows to create edges between the users in the `mention` column."
   ]
  },
  {
   "cell_type": "code",
   "execution_count": 64,
   "metadata": {},
   "outputs": [],
   "source": [
    "#first we need to iterate through the mention column and then we need to iterate through usernames column\n",
    "#and we need to create a tuple of the username and the mention\n",
    "\n",
    "edges=[]\n",
    "for idx, val in df.iterrows():\n",
    "    if len(val['mention']) == 0: #when there are no mentions, we skip the iteration\n",
    "        continue\n",
    "    elif len(val['mention']) > 0: #when there are mentions, we iterate through the mentions\n",
    "        for mention in val['mention']: \n",
    "            edges.append((val['username'].lower(), mention.strip('@').lower())) \n",
    "            #we append the tuple of the username and the mention to the edges list\n",
    "            #lower() is used to convert the username to lowercase\n",
    "            #strip() is used to remove the @ from the mention"
   ]
  },
  {
   "cell_type": "code",
   "execution_count": 65,
   "metadata": {},
   "outputs": [
    {
     "data": {
      "text/plain": [
       "[('trey radel', 'nowthisnews'),\n",
       " ('michael crapo', 'senatorleahy'),\n",
       " ('mark udall', 'amazon'),\n",
       " ('heidi heitkamp', 'usdotfra'),\n",
       " ('frederica wilson', 'bbcworld'),\n",
       " ('gregg harper', 'mha'),\n",
       " ('gregg harper', 'genevrapittman'),\n",
       " ('gregg harper', 'medcitynews'),\n",
       " ('john dingell', 'skitchp'),\n",
       " ('kirsten gillibrand', 'corybooker')]"
      ]
     },
     "execution_count": 65,
     "metadata": {},
     "output_type": "execute_result"
    }
   ],
   "source": [
    "edges[:10]"
   ]
  },
  {
   "cell_type": "code",
   "execution_count": 66,
   "metadata": {},
   "outputs": [
    {
     "data": {
      "text/plain": [
       "1843"
      ]
     },
     "execution_count": 66,
     "metadata": {},
     "output_type": "execute_result"
    }
   ],
   "source": [
    "len(edges)"
   ]
  },
  {
   "cell_type": "code",
   "execution_count": 67,
   "metadata": {},
   "outputs": [
    {
     "data": {
      "text/plain": [
       "[('trey radel', 'nowthisnews'),\n",
       " ('michael crapo', 'senatorleahy'),\n",
       " ('mark udall', 'amazon'),\n",
       " ('heidi heitkamp', 'usdotfra'),\n",
       " ('frederica wilson', 'bbcworld'),\n",
       " ('gregg harper', 'mha'),\n",
       " ('gregg harper', 'genevrapittman'),\n",
       " ('gregg harper', 'medcitynews'),\n",
       " ('john dingell', 'skitchp'),\n",
       " ('kirsten gillibrand', 'corybooker')]"
      ]
     },
     "execution_count": 67,
     "metadata": {},
     "output_type": "execute_result"
    }
   ],
   "source": [
    "edges[:10]"
   ]
  },
  {
   "cell_type": "markdown",
   "metadata": {},
   "source": [
    "> * Let's count the degree centrality of each user and create a dictionary called `degree` for degree centrality."
   ]
  },
  {
   "cell_type": "markdown",
   "metadata": {},
   "source": [
    ">* First, you iterate through the unique users and count the number of edges that are connected to the user."
   ]
  },
  {
   "cell_type": "code",
   "execution_count": 68,
   "metadata": {},
   "outputs": [],
   "source": [
    "degree={}\n",
    "for element in df['username'].unique():\n",
    "    count = 0\n",
    "    for edge in edges:\n",
    "        if element in edge:\n",
    "            count += 1\n",
    "    degree[element]=count\n"
   ]
  },
  {
   "cell_type": "markdown",
   "metadata": {},
   "source": [
    ">* Let's check whether it captured the degree by looking at 'trey radel' instance."
   ]
  },
  {
   "cell_type": "code",
   "execution_count": 69,
   "metadata": {},
   "outputs": [
    {
     "data": {
      "text/plain": [
       "5"
      ]
     },
     "execution_count": 69,
     "metadata": {},
     "output_type": "execute_result"
    }
   ],
   "source": [
    "degree['trey radel']"
   ]
  },
  {
   "cell_type": "code",
   "execution_count": 70,
   "metadata": {},
   "outputs": [
    {
     "name": "stdout",
     "output_type": "stream",
     "text": [
      "('trey radel', 'nowthisnews')\n",
      "('trey radel', 'markdotdo')\n",
      "('trey radel', 'treyradel')\n",
      "('trey radel', 'morrow')\n",
      "('trey radel', 'redmillennial')\n"
     ]
    }
   ],
   "source": [
    "for edge in edges:\n",
    "    if 'trey radel' in edge:\n",
    "        print(edge)"
   ]
  },
  {
   "cell_type": "markdown",
   "metadata": {},
   "source": [
    "> * We have five degree for 'trey radel'. Let's divide the degree by the number of unique users -1 to calculate degree centrality."
   ]
  },
  {
   "cell_type": "markdown",
   "metadata": {},
   "source": [
    "<img src=\"../week5/degree-centrality.png\" width=1000px height=200px />"
   ]
  },
  {
   "cell_type": "markdown",
   "metadata": {},
   "source": [
    "> * How do we want to find the number of nodes in the graph?"
   ]
  },
  {
   "cell_type": "code",
   "execution_count": 71,
   "metadata": {},
   "outputs": [
    {
     "data": {
      "text/plain": [
       "0.009940357852882704"
      ]
     },
     "execution_count": 71,
     "metadata": {},
     "output_type": "execute_result"
    }
   ],
   "source": [
    "#first, we try the number of unique usernames in df.T\n",
    "degree['trey radel']/(len(df['username'].unique())-1)"
   ]
  },
  {
   "cell_type": "markdown",
   "metadata": {},
   "source": [
    "> * But this is incorrect answer. Why?"
   ]
  },
  {
   "cell_type": "code",
   "execution_count": 72,
   "metadata": {},
   "outputs": [],
   "source": [
    "import networkx as nx\n",
    "G=nx.Graph()\n",
    "G.add_edges_from(edges)\n"
   ]
  },
  {
   "cell_type": "code",
   "execution_count": 73,
   "metadata": {},
   "outputs": [
    {
     "data": {
      "text/plain": [
       "0.0027731558513588465"
      ]
     },
     "execution_count": 73,
     "metadata": {},
     "output_type": "execute_result"
    }
   ],
   "source": [
    "nx.degree_centrality(G)['trey radel']"
   ]
  },
  {
   "cell_type": "markdown",
   "metadata": {},
   "source": [
    "> * As we talked before, the number of nodes in the graph will be larger than the number of unique users. Because we have to consider the users who have mentioned in the dataset but not in the `label` column."
   ]
  },
  {
   "cell_type": "markdown",
   "metadata": {},
   "source": [
    ">* So, we have to find the number of unique users in the edge list. "
   ]
  },
  {
   "cell_type": "code",
   "execution_count": 74,
   "metadata": {},
   "outputs": [
    {
     "data": {
      "text/plain": [
       "0.0027731558513588465"
      ]
     },
     "execution_count": 74,
     "metadata": {},
     "output_type": "execute_result"
    }
   ],
   "source": [
    "degree['trey radel']/(len(set([element for tuple in edges for element in tuple]))-1)"
   ]
  },
  {
   "cell_type": "markdown",
   "metadata": {},
   "source": [
    "> * Now we know how to calculate the degree centrality. Let's iterate through the `degree` dictionary and divide the degree by the number of unique users in the edge list."
   ]
  },
  {
   "cell_type": "code",
   "execution_count": 75,
   "metadata": {},
   "outputs": [],
   "source": [
    "for key, val in degree.items():\n",
    "    degree[key]=val/(len(set([element for tuple in edges for element in tuple]))-1)"
   ]
  },
  {
   "cell_type": "code",
   "execution_count": 76,
   "metadata": {},
   "outputs": [
    {
     "data": {
      "text/plain": [
       "0.0027731558513588465"
      ]
     },
     "execution_count": 76,
     "metadata": {},
     "output_type": "execute_result"
    }
   ],
   "source": [
    "degree['trey radel']"
   ]
  },
  {
   "cell_type": "markdown",
   "metadata": {},
   "source": [
    ">* Q. What can be other attributes for the nodes?"
   ]
  },
  {
   "cell_type": "markdown",
   "metadata": {},
   "source": [
    ">* There is an information about whether the political leader is a Representative or a Senator.\n",
    ">* Let's use RegEx to extract that and create a dictionary called `title`."
   ]
  },
  {
   "cell_type": "code",
   "execution_count": 77,
   "metadata": {},
   "outputs": [
    {
     "data": {
      "text/plain": [
       "0         From: Trey Radel (Representative from Florida)\n",
       "1          From: Mitch McConnell (Senator from Kentucky)\n",
       "2       From: Kurt Schrader (Representative from Oregon)\n",
       "3               From: Michael Crapo (Senator from Idaho)\n",
       "4               From: Mark Udall (Senator from Colorado)\n",
       "                              ...                       \n",
       "4995        From: Ted Yoho (Representative from Florida)\n",
       "4996        From: Ted Yoho (Representative from Florida)\n",
       "4997        From: Ted Yoho (Representative from Florida)\n",
       "4998        From: Ted Yoho (Representative from Florida)\n",
       "4999        From: Ted Yoho (Representative from Florida)\n",
       "Name: label, Length: 5000, dtype: object"
      ]
     },
     "execution_count": 77,
     "metadata": {},
     "output_type": "execute_result"
    }
   ],
   "source": [
    "df['label']"
   ]
  },
  {
   "cell_type": "code",
   "execution_count": 78,
   "metadata": {},
   "outputs": [],
   "source": [
    "pattern=re.compile(\"Representative|Senator\")\n",
    "df['title']=df['label'].str.findall(pattern).str[0].str.strip('(')"
   ]
  },
  {
   "cell_type": "code",
   "execution_count": 79,
   "metadata": {},
   "outputs": [
    {
     "data": {
      "text/plain": [
       "title\n",
       "Representative    4025\n",
       "Senator            975\n",
       "Name: count, dtype: int64"
      ]
     },
     "execution_count": 79,
     "metadata": {},
     "output_type": "execute_result"
    }
   ],
   "source": [
    "df['title'].value_counts()"
   ]
  },
  {
   "cell_type": "code",
   "execution_count": 80,
   "metadata": {},
   "outputs": [],
   "source": [
    "title={}\n",
    "for idx, row in df.iterrows():\n",
    "    title[row['username']]=row['title']"
   ]
  },
  {
   "cell_type": "markdown",
   "metadata": {},
   "source": [
    ">* There is another information about which State the political leader is from.\n",
    ">* Let's use RegEx to extract that and create a dictionary called `state`."
   ]
  },
  {
   "cell_type": "markdown",
   "metadata": {},
   "source": [
    ">* We are changing the value of Representative and Senator to 'o' and 'x' to use it as a node shape."
   ]
  },
  {
   "cell_type": "code",
   "execution_count": 81,
   "metadata": {},
   "outputs": [],
   "source": [
    "title_shape = {key: 'o' if value == 'Representative' else 'x' for key, value in title.items()}"
   ]
  },
  {
   "cell_type": "code",
   "execution_count": 82,
   "metadata": {},
   "outputs": [],
   "source": [
    "pattern=re.compile(r'from\\s.*')\n",
    "df['state']=df['label'].str.findall(pattern).str[0].str.replace('from','').str.replace(')', '').str.strip()"
   ]
  },
  {
   "cell_type": "code",
   "execution_count": 83,
   "metadata": {},
   "outputs": [],
   "source": [
    "state={}\n",
    "for idx, row in df.iterrows():\n",
    "    state[row['username']]=row['state']\n"
   ]
  },
  {
   "cell_type": "code",
   "execution_count": 84,
   "metadata": {},
   "outputs": [
    {
     "data": {
      "text/plain": [
       "state\n",
       "Texas             494\n",
       "California        486\n",
       "Florida           298\n",
       "New York          224\n",
       "Ohio              183\n",
       "Illinois          183\n",
       "Pennsylvania      177\n",
       "Arizona           144\n",
       "New Jersey        137\n",
       "North Carolina    134\n",
       "Name: count, dtype: int64"
      ]
     },
     "execution_count": 84,
     "metadata": {},
     "output_type": "execute_result"
    }
   ],
   "source": [
    "df['state'].value_counts()[:10]"
   ]
  },
  {
   "cell_type": "code",
   "execution_count": 85,
   "metadata": {},
   "outputs": [],
   "source": [
    "import random\n",
    "import seaborn as sns\n",
    "# Get the unique values from the state dictionary\n",
    "unique_states = list(set(state.values()))\n",
    "\n",
    "# Generate a color palette using seaborn\n",
    "color_palette = sns.color_palette(\"hls\", len(unique_states))\n",
    "\n",
    "# Create a dictionary to map each unique state to a color\n",
    "state_colors_dict = {key: color_palette[i] for i, key in enumerate(unique_states)}\n"
   ]
  },
  {
   "cell_type": "code",
   "execution_count": 86,
   "metadata": {},
   "outputs": [
    {
     "data": {
      "text/html": [
       "<svg  width=\"2805\" height=\"55\"><rect x=\"0\" y=\"0\" width=\"55\" height=\"55\" style=\"fill:#db5f57;stroke-width:2;stroke:rgb(255,255,255)\"/><rect x=\"55\" y=\"0\" width=\"55\" height=\"55\" style=\"fill:#db6e57;stroke-width:2;stroke:rgb(255,255,255)\"/><rect x=\"110\" y=\"0\" width=\"55\" height=\"55\" style=\"fill:#db7e57;stroke-width:2;stroke:rgb(255,255,255)\"/><rect x=\"165\" y=\"0\" width=\"55\" height=\"55\" style=\"fill:#db8d57;stroke-width:2;stroke:rgb(255,255,255)\"/><rect x=\"220\" y=\"0\" width=\"55\" height=\"55\" style=\"fill:#db9d57;stroke-width:2;stroke:rgb(255,255,255)\"/><rect x=\"275\" y=\"0\" width=\"55\" height=\"55\" style=\"fill:#dbad57;stroke-width:2;stroke:rgb(255,255,255)\"/><rect x=\"330\" y=\"0\" width=\"55\" height=\"55\" style=\"fill:#dbbc57;stroke-width:2;stroke:rgb(255,255,255)\"/><rect x=\"385\" y=\"0\" width=\"55\" height=\"55\" style=\"fill:#dbcc57;stroke-width:2;stroke:rgb(255,255,255)\"/><rect x=\"440\" y=\"0\" width=\"55\" height=\"55\" style=\"fill:#dbdb57;stroke-width:2;stroke:rgb(255,255,255)\"/><rect x=\"495\" y=\"0\" width=\"55\" height=\"55\" style=\"fill:#ccdb57;stroke-width:2;stroke:rgb(255,255,255)\"/><rect x=\"550\" y=\"0\" width=\"55\" height=\"55\" style=\"fill:#bcdb57;stroke-width:2;stroke:rgb(255,255,255)\"/><rect x=\"605\" y=\"0\" width=\"55\" height=\"55\" style=\"fill:#acdb57;stroke-width:2;stroke:rgb(255,255,255)\"/><rect x=\"660\" y=\"0\" width=\"55\" height=\"55\" style=\"fill:#9ddb57;stroke-width:2;stroke:rgb(255,255,255)\"/><rect x=\"715\" y=\"0\" width=\"55\" height=\"55\" style=\"fill:#8ddb57;stroke-width:2;stroke:rgb(255,255,255)\"/><rect x=\"770\" y=\"0\" width=\"55\" height=\"55\" style=\"fill:#7edb57;stroke-width:2;stroke:rgb(255,255,255)\"/><rect x=\"825\" y=\"0\" width=\"55\" height=\"55\" style=\"fill:#6edb57;stroke-width:2;stroke:rgb(255,255,255)\"/><rect x=\"880\" y=\"0\" width=\"55\" height=\"55\" style=\"fill:#5edb57;stroke-width:2;stroke:rgb(255,255,255)\"/><rect x=\"935\" y=\"0\" width=\"55\" height=\"55\" style=\"fill:#57db5f;stroke-width:2;stroke:rgb(255,255,255)\"/><rect x=\"990\" y=\"0\" width=\"55\" height=\"55\" style=\"fill:#57db6e;stroke-width:2;stroke:rgb(255,255,255)\"/><rect x=\"1045\" y=\"0\" width=\"55\" height=\"55\" style=\"fill:#57db7e;stroke-width:2;stroke:rgb(255,255,255)\"/><rect x=\"1100\" y=\"0\" width=\"55\" height=\"55\" style=\"fill:#57db8d;stroke-width:2;stroke:rgb(255,255,255)\"/><rect x=\"1155\" y=\"0\" width=\"55\" height=\"55\" style=\"fill:#57db9d;stroke-width:2;stroke:rgb(255,255,255)\"/><rect x=\"1210\" y=\"0\" width=\"55\" height=\"55\" style=\"fill:#57dbad;stroke-width:2;stroke:rgb(255,255,255)\"/><rect x=\"1265\" y=\"0\" width=\"55\" height=\"55\" style=\"fill:#57dbbc;stroke-width:2;stroke:rgb(255,255,255)\"/><rect x=\"1320\" y=\"0\" width=\"55\" height=\"55\" style=\"fill:#57dbcc;stroke-width:2;stroke:rgb(255,255,255)\"/><rect x=\"1375\" y=\"0\" width=\"55\" height=\"55\" style=\"fill:#57dbdb;stroke-width:2;stroke:rgb(255,255,255)\"/><rect x=\"1430\" y=\"0\" width=\"55\" height=\"55\" style=\"fill:#57ccdb;stroke-width:2;stroke:rgb(255,255,255)\"/><rect x=\"1485\" y=\"0\" width=\"55\" height=\"55\" style=\"fill:#57bcdb;stroke-width:2;stroke:rgb(255,255,255)\"/><rect x=\"1540\" y=\"0\" width=\"55\" height=\"55\" style=\"fill:#57acdb;stroke-width:2;stroke:rgb(255,255,255)\"/><rect x=\"1595\" y=\"0\" width=\"55\" height=\"55\" style=\"fill:#579ddb;stroke-width:2;stroke:rgb(255,255,255)\"/><rect x=\"1650\" y=\"0\" width=\"55\" height=\"55\" style=\"fill:#578ddb;stroke-width:2;stroke:rgb(255,255,255)\"/><rect x=\"1705\" y=\"0\" width=\"55\" height=\"55\" style=\"fill:#577edb;stroke-width:2;stroke:rgb(255,255,255)\"/><rect x=\"1760\" y=\"0\" width=\"55\" height=\"55\" style=\"fill:#576edb;stroke-width:2;stroke:rgb(255,255,255)\"/><rect x=\"1815\" y=\"0\" width=\"55\" height=\"55\" style=\"fill:#575edb;stroke-width:2;stroke:rgb(255,255,255)\"/><rect x=\"1870\" y=\"0\" width=\"55\" height=\"55\" style=\"fill:#5f57db;stroke-width:2;stroke:rgb(255,255,255)\"/><rect x=\"1925\" y=\"0\" width=\"55\" height=\"55\" style=\"fill:#6e57db;stroke-width:2;stroke:rgb(255,255,255)\"/><rect x=\"1980\" y=\"0\" width=\"55\" height=\"55\" style=\"fill:#7e57db;stroke-width:2;stroke:rgb(255,255,255)\"/><rect x=\"2035\" y=\"0\" width=\"55\" height=\"55\" style=\"fill:#8d57db;stroke-width:2;stroke:rgb(255,255,255)\"/><rect x=\"2090\" y=\"0\" width=\"55\" height=\"55\" style=\"fill:#9d57db;stroke-width:2;stroke:rgb(255,255,255)\"/><rect x=\"2145\" y=\"0\" width=\"55\" height=\"55\" style=\"fill:#ad57db;stroke-width:2;stroke:rgb(255,255,255)\"/><rect x=\"2200\" y=\"0\" width=\"55\" height=\"55\" style=\"fill:#bc57db;stroke-width:2;stroke:rgb(255,255,255)\"/><rect x=\"2255\" y=\"0\" width=\"55\" height=\"55\" style=\"fill:#cc57db;stroke-width:2;stroke:rgb(255,255,255)\"/><rect x=\"2310\" y=\"0\" width=\"55\" height=\"55\" style=\"fill:#db57db;stroke-width:2;stroke:rgb(255,255,255)\"/><rect x=\"2365\" y=\"0\" width=\"55\" height=\"55\" style=\"fill:#db57cc;stroke-width:2;stroke:rgb(255,255,255)\"/><rect x=\"2420\" y=\"0\" width=\"55\" height=\"55\" style=\"fill:#db57bc;stroke-width:2;stroke:rgb(255,255,255)\"/><rect x=\"2475\" y=\"0\" width=\"55\" height=\"55\" style=\"fill:#db57ac;stroke-width:2;stroke:rgb(255,255,255)\"/><rect x=\"2530\" y=\"0\" width=\"55\" height=\"55\" style=\"fill:#db579d;stroke-width:2;stroke:rgb(255,255,255)\"/><rect x=\"2585\" y=\"0\" width=\"55\" height=\"55\" style=\"fill:#db578d;stroke-width:2;stroke:rgb(255,255,255)\"/><rect x=\"2640\" y=\"0\" width=\"55\" height=\"55\" style=\"fill:#db577e;stroke-width:2;stroke:rgb(255,255,255)\"/><rect x=\"2695\" y=\"0\" width=\"55\" height=\"55\" style=\"fill:#db576e;stroke-width:2;stroke:rgb(255,255,255)\"/><rect x=\"2750\" y=\"0\" width=\"55\" height=\"55\" style=\"fill:#db575e;stroke-width:2;stroke:rgb(255,255,255)\"/></svg>"
      ],
      "text/plain": [
       "[(0.86, 0.3712, 0.33999999999999997),\n",
       " (0.86, 0.43237647058823525, 0.33999999999999997),\n",
       " (0.86, 0.4935529411764705, 0.33999999999999997),\n",
       " (0.86, 0.5547294117647059, 0.33999999999999997),\n",
       " (0.86, 0.6159058823529411, 0.33999999999999997),\n",
       " (0.86, 0.6770823529411765, 0.33999999999999997),\n",
       " (0.86, 0.7382588235294117, 0.33999999999999997),\n",
       " (0.86, 0.7994352941176471, 0.33999999999999997),\n",
       " (0.8593882352941175, 0.86, 0.33999999999999997),\n",
       " (0.7982117647058823, 0.86, 0.33999999999999997),\n",
       " (0.7370352941176468, 0.86, 0.33999999999999997),\n",
       " (0.6758588235294114, 0.86, 0.33999999999999997),\n",
       " (0.6146823529411763, 0.86, 0.33999999999999997),\n",
       " (0.5535058823529413, 0.86, 0.33999999999999997),\n",
       " (0.4923294117647055, 0.86, 0.33999999999999997),\n",
       " (0.4311529411764704, 0.86, 0.33999999999999997),\n",
       " (0.36997647058823535, 0.86, 0.33999999999999997),\n",
       " (0.33999999999999997, 0.86, 0.3712),\n",
       " (0.33999999999999997, 0.86, 0.43237647058823525),\n",
       " (0.33999999999999997, 0.86, 0.49355294117647064),\n",
       " (0.33999999999999997, 0.86, 0.5547294117647059),\n",
       " (0.33999999999999997, 0.86, 0.6159058823529412),\n",
       " (0.33999999999999997, 0.86, 0.6770823529411767),\n",
       " (0.33999999999999997, 0.86, 0.7382588235294119),\n",
       " (0.33999999999999997, 0.86, 0.7994352941176471),\n",
       " (0.33999999999999997, 0.8593882352941177, 0.86),\n",
       " (0.33999999999999997, 0.7982117647058823, 0.86),\n",
       " (0.33999999999999997, 0.7370352941176468, 0.86),\n",
       " (0.33999999999999997, 0.6758588235294114, 0.86),\n",
       " (0.33999999999999997, 0.6146823529411763, 0.86),\n",
       " (0.33999999999999997, 0.553505882352941, 0.86),\n",
       " (0.33999999999999997, 0.49232941176470585, 0.86),\n",
       " (0.33999999999999997, 0.4311529411764704, 0.86),\n",
       " (0.33999999999999997, 0.369976470588235, 0.86),\n",
       " (0.3712, 0.33999999999999997, 0.86),\n",
       " (0.4323764705882351, 0.33999999999999997, 0.86),\n",
       " (0.49355294117647014, 0.33999999999999997, 0.86),\n",
       " (0.5547294117647059, 0.33999999999999997, 0.86),\n",
       " (0.6159058823529411, 0.33999999999999997, 0.86),\n",
       " (0.677082352941176, 0.33999999999999997, 0.86),\n",
       " (0.7382588235294119, 0.33999999999999997, 0.86),\n",
       " (0.799435294117647, 0.33999999999999997, 0.86),\n",
       " (0.86, 0.33999999999999997, 0.8593882352941175),\n",
       " (0.86, 0.33999999999999997, 0.7982117647058823),\n",
       " (0.86, 0.33999999999999997, 0.7370352941176466),\n",
       " (0.86, 0.33999999999999997, 0.6758588235294114),\n",
       " (0.86, 0.33999999999999997, 0.6146823529411763),\n",
       " (0.86, 0.33999999999999997, 0.5535058823529413),\n",
       " (0.86, 0.33999999999999997, 0.4923294117647055),\n",
       " (0.86, 0.33999999999999997, 0.4311529411764704),\n",
       " (0.86, 0.33999999999999997, 0.36997647058823535)]"
      ]
     },
     "execution_count": 86,
     "metadata": {},
     "output_type": "execute_result"
    }
   ],
   "source": [
    "color_palette"
   ]
  },
  {
   "cell_type": "code",
   "execution_count": 87,
   "metadata": {},
   "outputs": [
    {
     "data": {
      "text/plain": [
       "(0.86, 0.33999999999999997, 0.7982117647058823)"
      ]
     },
     "execution_count": 87,
     "metadata": {},
     "output_type": "execute_result"
    }
   ],
   "source": [
    "state_colors_dict['Florida']"
   ]
  },
  {
   "cell_type": "code",
   "execution_count": 88,
   "metadata": {},
   "outputs": [
    {
     "data": {
      "text/html": [
       "<div>\n",
       "<style scoped>\n",
       "    .dataframe tbody tr th:only-of-type {\n",
       "        vertical-align: middle;\n",
       "    }\n",
       "\n",
       "    .dataframe tbody tr th {\n",
       "        vertical-align: top;\n",
       "    }\n",
       "\n",
       "    .dataframe thead th {\n",
       "        text-align: right;\n",
       "    }\n",
       "</style>\n",
       "<table border=\"1\" class=\"dataframe\">\n",
       "  <thead>\n",
       "    <tr style=\"text-align: right;\">\n",
       "      <th></th>\n",
       "      <th>label</th>\n",
       "      <th>source</th>\n",
       "      <th>text</th>\n",
       "      <th>username</th>\n",
       "      <th>mention</th>\n",
       "      <th>title</th>\n",
       "      <th>state</th>\n",
       "    </tr>\n",
       "  </thead>\n",
       "  <tbody>\n",
       "    <tr>\n",
       "      <th>0</th>\n",
       "      <td>From: Trey Radel (Representative from Florida)</td>\n",
       "      <td>twitter</td>\n",
       "      <td>rt @nowthisnews: rep. trey radel (r- #fl) slam...</td>\n",
       "      <td>trey radel</td>\n",
       "      <td>[@nowthisnews]</td>\n",
       "      <td>Representative</td>\n",
       "      <td>Florida</td>\n",
       "    </tr>\n",
       "    <tr>\n",
       "      <th>625</th>\n",
       "      <td>From: Trey Radel (Representative from Florida)</td>\n",
       "      <td>twitter</td>\n",
       "      <td>ûï@markdotdo: @treyradel dig the new tumblr t...</td>\n",
       "      <td>trey radel</td>\n",
       "      <td>[@markdotdo, @treyradel]</td>\n",
       "      <td>Representative</td>\n",
       "      <td>Florida</td>\n",
       "    </tr>\n",
       "    <tr>\n",
       "      <th>707</th>\n",
       "      <td>From: Trey Radel (Representative from Florida)</td>\n",
       "      <td>twitter</td>\n",
       "      <td>@morrow_brett ha! ur the man! u text one night...</td>\n",
       "      <td>trey radel</td>\n",
       "      <td>[@morrow]</td>\n",
       "      <td>Representative</td>\n",
       "      <td>Florida</td>\n",
       "    </tr>\n",
       "    <tr>\n",
       "      <th>959</th>\n",
       "      <td>From: Trey Radel (Representative from Florida)</td>\n",
       "      <td>twitter</td>\n",
       "      <td>why does keeping troops out of #syria matter? ...</td>\n",
       "      <td>trey radel</td>\n",
       "      <td>[]</td>\n",
       "      <td>Representative</td>\n",
       "      <td>Florida</td>\n",
       "    </tr>\n",
       "    <tr>\n",
       "      <th>1768</th>\n",
       "      <td>From: Trey Radel (Representative from Florida)</td>\n",
       "      <td>twitter</td>\n",
       "      <td>#obamacareinthreewords - protected privacy? lol</td>\n",
       "      <td>trey radel</td>\n",
       "      <td>[]</td>\n",
       "      <td>Representative</td>\n",
       "      <td>Florida</td>\n",
       "    </tr>\n",
       "    <tr>\n",
       "      <th>1885</th>\n",
       "      <td>From: Trey Radel (Representative from Florida)</td>\n",
       "      <td>twitter</td>\n",
       "      <td>now following @redmillennial hoping to involve...</td>\n",
       "      <td>trey radel</td>\n",
       "      <td>[@redmillennial]</td>\n",
       "      <td>Representative</td>\n",
       "      <td>Florida</td>\n",
       "    </tr>\n",
       "    <tr>\n",
       "      <th>2422</th>\n",
       "      <td>From: Trey Radel (Representative from Florida)</td>\n",
       "      <td>twitter</td>\n",
       "      <td>transportation sec. announced faa can transfer...</td>\n",
       "      <td>trey radel</td>\n",
       "      <td>[]</td>\n",
       "      <td>Representative</td>\n",
       "      <td>Florida</td>\n",
       "    </tr>\n",
       "  </tbody>\n",
       "</table>\n",
       "</div>"
      ],
      "text/plain": [
       "                                               label   source  \\\n",
       "0     From: Trey Radel (Representative from Florida)  twitter   \n",
       "625   From: Trey Radel (Representative from Florida)  twitter   \n",
       "707   From: Trey Radel (Representative from Florida)  twitter   \n",
       "959   From: Trey Radel (Representative from Florida)  twitter   \n",
       "1768  From: Trey Radel (Representative from Florida)  twitter   \n",
       "1885  From: Trey Radel (Representative from Florida)  twitter   \n",
       "2422  From: Trey Radel (Representative from Florida)  twitter   \n",
       "\n",
       "                                                   text    username  \\\n",
       "0     rt @nowthisnews: rep. trey radel (r- #fl) slam...  trey radel   \n",
       "625   ûï@markdotdo: @treyradel dig the new tumblr t...  trey radel   \n",
       "707   @morrow_brett ha! ur the man! u text one night...  trey radel   \n",
       "959   why does keeping troops out of #syria matter? ...  trey radel   \n",
       "1768    #obamacareinthreewords - protected privacy? lol  trey radel   \n",
       "1885  now following @redmillennial hoping to involve...  trey radel   \n",
       "2422  transportation sec. announced faa can transfer...  trey radel   \n",
       "\n",
       "                       mention           title    state  \n",
       "0               [@nowthisnews]  Representative  Florida  \n",
       "625   [@markdotdo, @treyradel]  Representative  Florida  \n",
       "707                  [@morrow]  Representative  Florida  \n",
       "959                         []  Representative  Florida  \n",
       "1768                        []  Representative  Florida  \n",
       "1885          [@redmillennial]  Representative  Florida  \n",
       "2422                        []  Representative  Florida  "
      ]
     },
     "execution_count": 88,
     "metadata": {},
     "output_type": "execute_result"
    }
   ],
   "source": [
    "df[df['username']=='trey radel']"
   ]
  },
  {
   "cell_type": "code",
   "execution_count": 89,
   "metadata": {},
   "outputs": [],
   "source": [
    "from collections import defaultdict\n",
    "default_dict=defaultdict(lambda: None, state)\n",
    "for key, value in state.items():\n",
    "    if value in state_colors_dict.keys():\n",
    "        default_dict[key]=state_colors_dict.get(value)\n",
    "color_mapped=dict(default_dict)"
   ]
  },
  {
   "cell_type": "code",
   "execution_count": 90,
   "metadata": {},
   "outputs": [
    {
     "data": {
      "text/plain": [
       "(0.86, 0.33999999999999997, 0.7982117647058823)"
      ]
     },
     "execution_count": 90,
     "metadata": {},
     "output_type": "execute_result"
    }
   ],
   "source": [
    "color_mapped['trey radel']"
   ]
  },
  {
   "cell_type": "markdown",
   "metadata": {},
   "source": [
    ">* Practice"
   ]
  },
  {
   "cell_type": "code",
   "execution_count": 91,
   "metadata": {},
   "outputs": [],
   "source": [
    "data=pd.read_csv('subset-2021-01-11-voter_fraud.csv')"
   ]
  },
  {
   "cell_type": "markdown",
   "metadata": {},
   "source": [
    ">* Let's see what it has for column names."
   ]
  },
  {
   "cell_type": "code",
   "execution_count": 50,
   "metadata": {},
   "outputs": [
    {
     "data": {
      "text/plain": [
       "Index(['article', 'body', 'bodywithurls', 'comments', 'createdAt',\n",
       "       'createdAtformatted', 'creator', 'datatype', 'depth', 'depthRaw',\n",
       "       ...\n",
       "       'urls.15.createdAt', 'urls.15.domain', 'urls.15.id', 'urls.15.long',\n",
       "       'urls.15.metadata.length', 'urls.15.metadata.mimeType',\n",
       "       'urls.15.metadata.site', 'urls.15.modified', 'urls.15.short',\n",
       "       'urls.15.state'],\n",
       "      dtype='object', length=420)"
      ]
     },
     "execution_count": 50,
     "metadata": {},
     "output_type": "execute_result"
    }
   ],
   "source": [
    "data.columns"
   ]
  },
  {
   "cell_type": "markdown",
   "metadata": {},
   "source": [
    ">* Let's subset the data to have only `bodywithurls`, `username`, `followers`, and `following` columns."
   ]
  },
  {
   "cell_type": "code",
   "execution_count": 51,
   "metadata": {},
   "outputs": [],
   "source": [
    "df_fraud = data[[\"bodywithurls\", \"username\", \"followers\", \"following\"]]"
   ]
  },
  {
   "cell_type": "markdown",
   "metadata": {},
   "source": [
    ">* Q. How many unique users are there in the dataset?"
   ]
  },
  {
   "cell_type": "code",
   "execution_count": 52,
   "metadata": {},
   "outputs": [
    {
     "data": {
      "text/plain": [
       "bodywithurls    65\n",
       "username        58\n",
       "followers       49\n",
       "following       52\n",
       "dtype: int64"
      ]
     },
     "execution_count": 52,
     "metadata": {},
     "output_type": "execute_result"
    }
   ],
   "source": [
    "df_fraud.nunique()"
   ]
  },
  {
   "cell_type": "markdown",
   "metadata": {},
   "source": [
    ">* Q. Print the first 5 rows of the DataFrame."
   ]
  },
  {
   "cell_type": "code",
   "execution_count": 53,
   "metadata": {},
   "outputs": [
    {
     "data": {
      "text/html": [
       "<div>\n",
       "<style scoped>\n",
       "    .dataframe tbody tr th:only-of-type {\n",
       "        vertical-align: middle;\n",
       "    }\n",
       "\n",
       "    .dataframe tbody tr th {\n",
       "        vertical-align: top;\n",
       "    }\n",
       "\n",
       "    .dataframe thead th {\n",
       "        text-align: right;\n",
       "    }\n",
       "</style>\n",
       "<table border=\"1\" class=\"dataframe\">\n",
       "  <thead>\n",
       "    <tr style=\"text-align: right;\">\n",
       "      <th></th>\n",
       "      <th>bodywithurls</th>\n",
       "      <th>username</th>\n",
       "      <th>followers</th>\n",
       "      <th>following</th>\n",
       "    </tr>\n",
       "  </thead>\n",
       "  <tbody>\n",
       "    <tr>\n",
       "      <th>0</th>\n",
       "      <td>Folks may be our last posts. Pogilosi just ask...</td>\n",
       "      <td>Terryb158</td>\n",
       "      <td>3500</td>\n",
       "      <td>5500</td>\n",
       "    </tr>\n",
       "    <tr>\n",
       "      <th>1</th>\n",
       "      <td>Oh notre they want to investigate something. L...</td>\n",
       "      <td>AlanBond7</td>\n",
       "      <td>100</td>\n",
       "      <td>243</td>\n",
       "    </tr>\n",
       "    <tr>\n",
       "      <th>2</th>\n",
       "      <td>White trash pieces of shit who are going to be...</td>\n",
       "      <td>Tifdog11</td>\n",
       "      <td>37</td>\n",
       "      <td>42</td>\n",
       "    </tr>\n",
       "    <tr>\n",
       "      <th>3</th>\n",
       "      <td>He has never lived in a totalitarian country; ...</td>\n",
       "      <td>AlexaImmigrant</td>\n",
       "      <td>0</td>\n",
       "      <td>9</td>\n",
       "    </tr>\n",
       "    <tr>\n",
       "      <th>4</th>\n",
       "      <td>White trash pieces of shit who are going to be...</td>\n",
       "      <td>Tifdog11</td>\n",
       "      <td>37</td>\n",
       "      <td>42</td>\n",
       "    </tr>\n",
       "  </tbody>\n",
       "</table>\n",
       "</div>"
      ],
      "text/plain": [
       "                                        bodywithurls        username  \\\n",
       "0  Folks may be our last posts. Pogilosi just ask...       Terryb158   \n",
       "1  Oh notre they want to investigate something. L...       AlanBond7   \n",
       "2  White trash pieces of shit who are going to be...        Tifdog11   \n",
       "3  He has never lived in a totalitarian country; ...  AlexaImmigrant   \n",
       "4  White trash pieces of shit who are going to be...        Tifdog11   \n",
       "\n",
       "   followers  following  \n",
       "0       3500       5500  \n",
       "1        100        243  \n",
       "2         37         42  \n",
       "3          0          9  \n",
       "4         37         42  "
      ]
     },
     "execution_count": 53,
     "metadata": {},
     "output_type": "execute_result"
    }
   ],
   "source": [
    "df_fraud.head(5)"
   ]
  },
  {
   "cell_type": "markdown",
   "metadata": {},
   "source": [
    ">* Q. In the result of the first 5 rows of the DataFrame, do you see any duplicates?"
   ]
  },
  {
   "cell_type": "markdown",
   "metadata": {},
   "source": [
    "Yes there are duplicates"
   ]
  },
  {
   "cell_type": "markdown",
   "metadata": {},
   "source": [
    "> * Looks like there are duplicates in the dataset. Let's remove the duplicates."
   ]
  },
  {
   "cell_type": "code",
   "execution_count": 55,
   "metadata": {},
   "outputs": [],
   "source": [
    "df_fraud_new = df_fraud.drop_duplicates()"
   ]
  },
  {
   "cell_type": "markdown",
   "metadata": {},
   "source": [
    "> * Q. How many rows and columns are there in the dataset after removing the duplicates?"
   ]
  },
  {
   "cell_type": "code",
   "execution_count": 59,
   "metadata": {},
   "outputs": [
    {
     "data": {
      "text/plain": [
       "bodywithurls    65\n",
       "username        58\n",
       "followers       49\n",
       "following       52\n",
       "dtype: int64"
      ]
     },
     "execution_count": 59,
     "metadata": {},
     "output_type": "execute_result"
    }
   ],
   "source": [
    "df_fraud_new.columns\n",
    "\n",
    "df_fraud_new.nunique()"
   ]
  },
  {
   "cell_type": "markdown",
   "metadata": {},
   "source": [
    ">* Once we remove the duplicates, let's reset the index of the DataFrame."
   ]
  },
  {
   "cell_type": "code",
   "execution_count": 130,
   "metadata": {},
   "outputs": [
    {
     "data": {
      "text/html": [
       "<div>\n",
       "<style scoped>\n",
       "    .dataframe tbody tr th:only-of-type {\n",
       "        vertical-align: middle;\n",
       "    }\n",
       "\n",
       "    .dataframe tbody tr th {\n",
       "        vertical-align: top;\n",
       "    }\n",
       "\n",
       "    .dataframe thead th {\n",
       "        text-align: right;\n",
       "    }\n",
       "</style>\n",
       "<table border=\"1\" class=\"dataframe\">\n",
       "  <thead>\n",
       "    <tr style=\"text-align: right;\">\n",
       "      <th></th>\n",
       "      <th>bodywithurls</th>\n",
       "      <th>username</th>\n",
       "      <th>followers</th>\n",
       "      <th>following</th>\n",
       "      <th>mentions</th>\n",
       "    </tr>\n",
       "  </thead>\n",
       "  <tbody>\n",
       "    <tr>\n",
       "      <th>0</th>\n",
       "      <td>Folks may be our last posts. Pogilosi just ask...</td>\n",
       "      <td>Terryb158</td>\n",
       "      <td>3500</td>\n",
       "      <td>5500</td>\n",
       "      <td>[]</td>\n",
       "    </tr>\n",
       "    <tr>\n",
       "      <th>1</th>\n",
       "      <td>Oh notre they want to investigate something. L...</td>\n",
       "      <td>AlanBond7</td>\n",
       "      <td>100</td>\n",
       "      <td>243</td>\n",
       "      <td>[]</td>\n",
       "    </tr>\n",
       "    <tr>\n",
       "      <th>2</th>\n",
       "      <td>White trash pieces of shit who are going to be...</td>\n",
       "      <td>Tifdog11</td>\n",
       "      <td>37</td>\n",
       "      <td>42</td>\n",
       "      <td>[]</td>\n",
       "    </tr>\n",
       "    <tr>\n",
       "      <th>3</th>\n",
       "      <td>He has never lived in a totalitarian country; ...</td>\n",
       "      <td>AlexaImmigrant</td>\n",
       "      <td>0</td>\n",
       "      <td>9</td>\n",
       "      <td>[]</td>\n",
       "    </tr>\n",
       "    <tr>\n",
       "      <th>4</th>\n",
       "      <td>@sidneypowell @erictrump\\r\\n@laraleatrump @lin...</td>\n",
       "      <td>Lovewell100</td>\n",
       "      <td>48</td>\n",
       "      <td>148</td>\n",
       "      <td>[@sidneypowell, @erictrump, @laraleatrump, @li...</td>\n",
       "    </tr>\n",
       "    <tr>\n",
       "      <th>...</th>\n",
       "      <td>...</td>\n",
       "      <td>...</td>\n",
       "      <td>...</td>\n",
       "      <td>...</td>\n",
       "      <td>...</td>\n",
       "    </tr>\n",
       "    <tr>\n",
       "      <th>60</th>\n",
       "      <td>Oh now they want to investigate something. Let...</td>\n",
       "      <td>AlanBond7</td>\n",
       "      <td>100</td>\n",
       "      <td>243</td>\n",
       "      <td>[]</td>\n",
       "    </tr>\n",
       "    <tr>\n",
       "      <th>61</th>\n",
       "      <td>GRAHAM\\r\\nHe begged us for money on Hannity an...</td>\n",
       "      <td>Millsfarms</td>\n",
       "      <td>3</td>\n",
       "      <td>23</td>\n",
       "      <td>[]</td>\n",
       "    </tr>\n",
       "    <tr>\n",
       "      <th>62</th>\n",
       "      <td>Neither is election fraud.\\r\\n</td>\n",
       "      <td>xfitnesscoach</td>\n",
       "      <td>7</td>\n",
       "      <td>44</td>\n",
       "      <td>[]</td>\n",
       "    </tr>\n",
       "    <tr>\n",
       "      <th>63</th>\n",
       "      <td>Investigation of fraudulent voting practices, ...</td>\n",
       "      <td>Bobbfishen</td>\n",
       "      <td>147</td>\n",
       "      <td>100</td>\n",
       "      <td>[]</td>\n",
       "    </tr>\n",
       "    <tr>\n",
       "      <th>64</th>\n",
       "      <td>Why did Nunes recuse himself on the election f...</td>\n",
       "      <td>BarryOKenyan</td>\n",
       "      <td>107</td>\n",
       "      <td>33</td>\n",
       "      <td>[]</td>\n",
       "    </tr>\n",
       "  </tbody>\n",
       "</table>\n",
       "<p>65 rows × 5 columns</p>\n",
       "</div>"
      ],
      "text/plain": [
       "                                         bodywithurls        username  \\\n",
       "0   Folks may be our last posts. Pogilosi just ask...       Terryb158   \n",
       "1   Oh notre they want to investigate something. L...       AlanBond7   \n",
       "2   White trash pieces of shit who are going to be...        Tifdog11   \n",
       "3   He has never lived in a totalitarian country; ...  AlexaImmigrant   \n",
       "4   @sidneypowell @erictrump\\r\\n@laraleatrump @lin...     Lovewell100   \n",
       "..                                                ...             ...   \n",
       "60  Oh now they want to investigate something. Let...       AlanBond7   \n",
       "61  GRAHAM\\r\\nHe begged us for money on Hannity an...      Millsfarms   \n",
       "62                     Neither is election fraud.\\r\\n   xfitnesscoach   \n",
       "63  Investigation of fraudulent voting practices, ...      Bobbfishen   \n",
       "64  Why did Nunes recuse himself on the election f...    BarryOKenyan   \n",
       "\n",
       "    followers  following                                           mentions  \n",
       "0        3500       5500                                                 []  \n",
       "1         100        243                                                 []  \n",
       "2          37         42                                                 []  \n",
       "3           0          9                                                 []  \n",
       "4          48        148  [@sidneypowell, @erictrump, @laraleatrump, @li...  \n",
       "..        ...        ...                                                ...  \n",
       "60        100        243                                                 []  \n",
       "61          3         23                                                 []  \n",
       "62          7         44                                                 []  \n",
       "63        147        100                                                 []  \n",
       "64        107         33                                                 []  \n",
       "\n",
       "[65 rows x 5 columns]"
      ]
     },
     "execution_count": 130,
     "metadata": {},
     "output_type": "execute_result"
    }
   ],
   "source": [
    "df_fraud_new.reset_index(drop=True)"
   ]
  },
  {
   "cell_type": "markdown",
   "metadata": {},
   "source": [
    "> * Let's extract the mentions from the `bodywithurls` column and create a new column `mentions` with the mentions."
   ]
  },
  {
   "cell_type": "code",
   "execution_count": 131,
   "metadata": {},
   "outputs": [
    {
     "data": {
      "text/plain": [
       "0                                                    []\n",
       "1                                                    []\n",
       "2                                                    []\n",
       "3                                                    []\n",
       "5     [@sidneypowell, @erictrump, @laraleatrump, @li...\n",
       "                            ...                        \n",
       "85                                                   []\n",
       "86                                                   []\n",
       "87                                                   []\n",
       "88                                                   []\n",
       "89                                                   []\n",
       "Name: mentions, Length: 65, dtype: object"
      ]
     },
     "execution_count": 131,
     "metadata": {},
     "output_type": "execute_result"
    }
   ],
   "source": [
    "#YOUR CODE HERE\n",
    "pattern = re.compile(r\"@[a-zA-Z0-9]+\")\n",
    "df_fraud_new[\"mentions\"] = df_fraud_new[\"bodywithurls\"].apply(lambda x: pattern.findall(x))\n",
    "df_fraud_new[\"mentions\"] = df_fraud_new[\"mentions\"].apply(lambda x: [y.lower() for y in x])\n",
    "df_fraud_new[\"mentions\"]\n"
   ]
  },
  {
   "cell_type": "markdown",
   "metadata": {},
   "source": [
    ">* Q. Which account has mentioned the most number of users?"
   ]
  },
  {
   "cell_type": "code",
   "execution_count": 140,
   "metadata": {},
   "outputs": [
    {
     "data": {
      "text/plain": [
       "bodywithurls    Oh notre they want to investigate something. L...\n",
       "username                                                AlanBond7\n",
       "followers                                                     100\n",
       "following                                                     243\n",
       "mentions                                                       []\n",
       "Name: 1, dtype: object"
      ]
     },
     "execution_count": 140,
     "metadata": {},
     "output_type": "execute_result"
    }
   ],
   "source": [
    "var = df_fraud_new[\"mentions\"].apply(lambda x: len(x)).sort_values(ascending=False).index[0]\n",
    "var\n",
    "df_fraud_new.iloc[50]\n",
    "df_fraud_new.iloc[51]\n",
    "df_fraud_new.iloc[1]"
   ]
  },
  {
   "cell_type": "markdown",
   "metadata": {},
   "source": [
    ">* Q. Who are mentioned by that account?"
   ]
  },
  {
   "cell_type": "code",
   "execution_count": 133,
   "metadata": {},
   "outputs": [
    {
     "data": {
      "text/plain": [
       "bodywithurls    Also Dan i am sure you are not aware of this.....\n",
       "username                                         ihavehadenough43\n",
       "followers                                                     293\n",
       "following                                                     551\n",
       "mentions                                                       []\n",
       "Name: 73, dtype: object"
      ]
     },
     "execution_count": 133,
     "metadata": {},
     "output_type": "execute_result"
    }
   ],
   "source": [
    "#df_fraud_new[\"bodywithurls\"].iloc[df_fraud_new[\"mentions\"].apply(lambda x: len(x)).sort_values(ascending=False)].index[0]\n",
    "#df_fraud_new[df_fraud_new[\"username\"] == name]\n",
    "df_fraud_new.iloc[var]"
   ]
  },
  {
   "cell_type": "markdown",
   "metadata": {},
   "source": [
    "> * Let's build edges between the users who have mentioned.\n",
    "> * To do so, we will use the `mentions` column and iterate over the rows to create edges between the users in the `mention` column."
   ]
  },
  {
   "cell_type": "code",
   "execution_count": null,
   "metadata": {},
   "outputs": [],
   "source": [
    "#YOUR CODE HERE"
   ]
  },
  {
   "cell_type": "markdown",
   "metadata": {},
   "source": [
    ">* How many edges are there in the data?"
   ]
  },
  {
   "cell_type": "code",
   "execution_count": null,
   "metadata": {},
   "outputs": [],
   "source": [
    "#YOUR CODE HERE"
   ]
  }
 ],
 "metadata": {
  "kernelspec": {
   "display_name": "py3.10",
   "language": "python",
   "name": "python3"
  },
  "language_info": {
   "codemirror_mode": {
    "name": "ipython",
    "version": 3
   },
   "file_extension": ".py",
   "mimetype": "text/x-python",
   "name": "python",
   "nbconvert_exporter": "python",
   "pygments_lexer": "ipython3",
   "version": "3.12.2"
  }
 },
 "nbformat": 4,
 "nbformat_minor": 2
}
