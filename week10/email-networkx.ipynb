{
 "cells": [
  {
   "cell_type": "code",
   "execution_count": 1,
   "metadata": {},
   "outputs": [],
   "source": [
    "import pandas as pd\n",
    "import re\n",
    "import networkx as nx"
   ]
  },
  {
   "cell_type": "markdown",
   "metadata": {},
   "source": [
    ">* We will use the data from week 6, which we used the feather format to store the data. We will use it to build a graph and analyze it."
   ]
  },
  {
   "cell_type": "code",
   "execution_count": 2,
   "metadata": {},
   "outputs": [],
   "source": [
    "data=pd.read_feather('../week6/sample-feather.feather')"
   ]
  },
  {
   "cell_type": "markdown",
   "metadata": {},
   "source": [
    ">* Let's check the columns"
   ]
  },
  {
   "cell_type": "code",
   "execution_count": 3,
   "metadata": {},
   "outputs": [
    {
     "data": {
      "text/plain": [
       "Index(['thread_id', 'thread_name', 'body', 'account', 'url', 'date',\n",
       "       'longevity'],\n",
       "      dtype='object')"
      ]
     },
     "execution_count": 3,
     "metadata": {},
     "output_type": "execute_result"
    }
   ],
   "source": [
    "data.columns"
   ]
  },
  {
   "cell_type": "markdown",
   "metadata": {},
   "source": [
    ">* In `data` dataframe, we have six columns, each representing as follows:\n",
    "    \n",
    "    * `thread_id` : unique id for each thread\n",
    "    * `thread_name` : the first subject of the email\n",
    "    * `body` : the content of the email \n",
    "    * `account` : the email account of the sender \n",
    "    * `url` : the url of the email\n",
    "    * `date` : the date of the email "
   ]
  },
  {
   "cell_type": "code",
   "execution_count": 4,
   "metadata": {},
   "outputs": [
    {
     "data": {
      "text/html": [
       "<div>\n",
       "<style scoped>\n",
       "    .dataframe tbody tr th:only-of-type {\n",
       "        vertical-align: middle;\n",
       "    }\n",
       "\n",
       "    .dataframe tbody tr th {\n",
       "        vertical-align: top;\n",
       "    }\n",
       "\n",
       "    .dataframe thead th {\n",
       "        text-align: right;\n",
       "    }\n",
       "</style>\n",
       "<table border=\"1\" class=\"dataframe\">\n",
       "  <thead>\n",
       "    <tr style=\"text-align: right;\">\n",
       "      <th></th>\n",
       "      <th>thread_id</th>\n",
       "      <th>thread_name</th>\n",
       "      <th>body</th>\n",
       "      <th>account</th>\n",
       "      <th>url</th>\n",
       "      <th>date</th>\n",
       "      <th>longevity</th>\n",
       "    </tr>\n",
       "  </thead>\n",
       "  <tbody>\n",
       "    <tr>\n",
       "      <th>0</th>\n",
       "      <td>5608</td>\n",
       "      <td>Tool-to-log-all-messages-targeting-a-given-window</td>\n",
       "      <td>[Hello all, Does someone here know of a tool t...</td>\n",
       "      <td>[webmaster, jtwauthier, soronel.haetir]</td>\n",
       "      <td>[https://www.freelists.org/post/program-l/Tool...</td>\n",
       "      <td>[2016-01-19T10:12:01.000000000, 2016-01-19T15:...</td>\n",
       "      <td>0 days 06:12:00</td>\n",
       "    </tr>\n",
       "    <tr>\n",
       "      <th>1</th>\n",
       "      <td>6826</td>\n",
       "      <td>html5js-newby</td>\n",
       "      <td>[HI All, I'm trying to create a demo for aira ...</td>\n",
       "      <td>[blindwiz, taksantong, blindwiz]</td>\n",
       "      <td>[https://www.freelists.org/post/program-l/html...</td>\n",
       "      <td>[2019-02-20T07:34:07.000000000, 2019-02-20T17:...</td>\n",
       "      <td>0 days 13:54:20</td>\n",
       "    </tr>\n",
       "    <tr>\n",
       "      <th>2</th>\n",
       "      <td>4209</td>\n",
       "      <td>Searching-in-dataTables-vbnet</td>\n",
       "      <td>[Hi all. A dataTable is the registers of one t...</td>\n",
       "      <td>[pmorales, ofbgmail, pmorales, ofbgmail, pmora...</td>\n",
       "      <td>[https://www.freelists.org/post/program-l/Sear...</td>\n",
       "      <td>[2013-09-02T23:01:35.000000000, 2013-09-03T15:...</td>\n",
       "      <td>5 days 17:13:11</td>\n",
       "    </tr>\n",
       "    <tr>\n",
       "      <th>3</th>\n",
       "      <td>2119</td>\n",
       "      <td>Ot-looking-for-an-app</td>\n",
       "      <td>[Hello, I've got an assignment for management ...</td>\n",
       "      <td>[compgeek13, justind, wunderg]</td>\n",
       "      <td>[https://www.freelists.org/post/program-l/Ot-l...</td>\n",
       "      <td>[2008-11-11T00:52:32.000000000, 2008-11-11T13:...</td>\n",
       "      <td>0 days 14:42:00</td>\n",
       "    </tr>\n",
       "    <tr>\n",
       "      <th>4</th>\n",
       "      <td>2906</td>\n",
       "      <td>Learn-Python-The-Hard-Way-Second-Edition</td>\n",
       "      <td>[Hi, For those interested, Learn Python Hard W...</td>\n",
       "      <td>[james.homme, jr]</td>\n",
       "      <td>[https://www.freelists.org/post/program-l/Lear...</td>\n",
       "      <td>[2011-12-05T12:45:48.000000000, 2011-12-05T16:...</td>\n",
       "      <td>0 days 04:05:30</td>\n",
       "    </tr>\n",
       "  </tbody>\n",
       "</table>\n",
       "</div>"
      ],
      "text/plain": [
       "   thread_id                                        thread_name  \\\n",
       "0       5608  Tool-to-log-all-messages-targeting-a-given-window   \n",
       "1       6826                                      html5js-newby   \n",
       "2       4209                      Searching-in-dataTables-vbnet   \n",
       "3       2119                              Ot-looking-for-an-app   \n",
       "4       2906           Learn-Python-The-Hard-Way-Second-Edition   \n",
       "\n",
       "                                                body  \\\n",
       "0  [Hello all, Does someone here know of a tool t...   \n",
       "1  [HI All, I'm trying to create a demo for aira ...   \n",
       "2  [Hi all. A dataTable is the registers of one t...   \n",
       "3  [Hello, I've got an assignment for management ...   \n",
       "4  [Hi, For those interested, Learn Python Hard W...   \n",
       "\n",
       "                                             account  \\\n",
       "0            [webmaster, jtwauthier, soronel.haetir]   \n",
       "1                   [blindwiz, taksantong, blindwiz]   \n",
       "2  [pmorales, ofbgmail, pmorales, ofbgmail, pmora...   \n",
       "3                     [compgeek13, justind, wunderg]   \n",
       "4                                  [james.homme, jr]   \n",
       "\n",
       "                                                 url  \\\n",
       "0  [https://www.freelists.org/post/program-l/Tool...   \n",
       "1  [https://www.freelists.org/post/program-l/html...   \n",
       "2  [https://www.freelists.org/post/program-l/Sear...   \n",
       "3  [https://www.freelists.org/post/program-l/Ot-l...   \n",
       "4  [https://www.freelists.org/post/program-l/Lear...   \n",
       "\n",
       "                                                date       longevity  \n",
       "0  [2016-01-19T10:12:01.000000000, 2016-01-19T15:... 0 days 06:12:00  \n",
       "1  [2019-02-20T07:34:07.000000000, 2019-02-20T17:... 0 days 13:54:20  \n",
       "2  [2013-09-02T23:01:35.000000000, 2013-09-03T15:... 5 days 17:13:11  \n",
       "3  [2008-11-11T00:52:32.000000000, 2008-11-11T13:... 0 days 14:42:00  \n",
       "4  [2011-12-05T12:45:48.000000000, 2011-12-05T16:... 0 days 04:05:30  "
      ]
     },
     "execution_count": 4,
     "metadata": {},
     "output_type": "execute_result"
    }
   ],
   "source": [
    "data.head(5)"
   ]
  },
  {
   "cell_type": "markdown",
   "metadata": {},
   "source": [
    "> * Let's build edges between the users in the `account` column."
   ]
  },
  {
   "cell_type": "code",
   "execution_count": 5,
   "metadata": {},
   "outputs": [],
   "source": [
    "#We will need a combination of all the accounts in the 'account' column to create the edges of the graph\n",
    "#We will use itertools.combinations to create the combination\n",
    "\n",
    "import itertools\n",
    "edges=[]\n",
    "for idx, val in data['account'].items():\n",
    "    edges.extend(list(itertools.combinations(val, 2)))"
   ]
  },
  {
   "cell_type": "code",
   "execution_count": 6,
   "metadata": {},
   "outputs": [
    {
     "data": {
      "text/plain": [
       "[('webmaster', 'jtwauthier'),\n",
       " ('webmaster', 'soronel.haetir'),\n",
       " ('jtwauthier', 'soronel.haetir'),\n",
       " ('blindwiz', 'taksantong'),\n",
       " ('blindwiz', 'blindwiz')]"
      ]
     },
     "execution_count": 6,
     "metadata": {},
     "output_type": "execute_result"
    }
   ],
   "source": [
    "edges[:5]"
   ]
  },
  {
   "cell_type": "markdown",
   "metadata": {},
   "source": [
    ">* Let's get rid of the self-loops."
   ]
  },
  {
   "cell_type": "code",
   "execution_count": 7,
   "metadata": {},
   "outputs": [],
   "source": [
    "edges_loop = [edge for edge in edges if edge[0] != edge[1]]"
   ]
  },
  {
   "cell_type": "code",
   "execution_count": 8,
   "metadata": {},
   "outputs": [
    {
     "data": {
      "text/plain": [
       "[('webmaster', 'jtwauthier'),\n",
       " ('webmaster', 'soronel.haetir'),\n",
       " ('jtwauthier', 'soronel.haetir'),\n",
       " ('blindwiz', 'taksantong'),\n",
       " ('taksantong', 'blindwiz')]"
      ]
     },
     "execution_count": 8,
     "metadata": {},
     "output_type": "execute_result"
    }
   ],
   "source": [
    "edges_loop[:5]"
   ]
  },
  {
   "cell_type": "markdown",
   "metadata": {},
   "source": [
    ">* We will generate an empty graph object `G` and populate the graph with the edges."
   ]
  },
  {
   "cell_type": "code",
   "execution_count": 9,
   "metadata": {},
   "outputs": [],
   "source": [
    "G=nx.Graph()"
   ]
  },
  {
   "cell_type": "code",
   "execution_count": 10,
   "metadata": {},
   "outputs": [],
   "source": [
    "G.add_edges_from(edges_loop)"
   ]
  },
  {
   "cell_type": "markdown",
   "metadata": {},
   "source": [
    ">* When you add edges, the graph object will add the nodes automatically."
   ]
  },
  {
   "cell_type": "code",
   "execution_count": 11,
   "metadata": {},
   "outputs": [
    {
     "data": {
      "text/plain": [
       "140"
      ]
     },
     "execution_count": 11,
     "metadata": {},
     "output_type": "execute_result"
    }
   ],
   "source": [
    "len(list(G.nodes))"
   ]
  },
  {
   "cell_type": "markdown",
   "metadata": {},
   "source": [
    ">* Thus far, we calculated the degree of the nodes by hardcoding the values. But we can use the built-in function of networkx to calculate various centrality measures."
   ]
  },
  {
   "cell_type": "markdown",
   "metadata": {},
   "source": [
    ">* Degree centrality: The number of edges that are connected to the node.\n",
    ">* Betweenness centrality: The number of times the node acts as a bridge along the shortest path between two other nodes.\n",
    ">* Closeness centrality: The average length of the shortest path between the node and all other nodes."
   ]
  },
  {
   "cell_type": "markdown",
   "metadata": {},
   "source": [
    ">* Degree centrality: Node connectivity, local influence\n",
    ">* Betweenness centrality: Bridging roles, broker\n",
    ">* Closeness centrality: Proximity to other nodes, efficient communication"
   ]
  },
  {
   "cell_type": "code",
   "execution_count": 12,
   "metadata": {},
   "outputs": [
    {
     "data": {
      "text/plain": [
       "0.17266187050359713"
      ]
     },
     "execution_count": 12,
     "metadata": {},
     "output_type": "execute_result"
    }
   ],
   "source": [
    "nx.degree_centrality(G)['webmaster'] #degree centrality"
   ]
  },
  {
   "cell_type": "code",
   "execution_count": 13,
   "metadata": {},
   "outputs": [
    {
     "data": {
      "text/plain": [
       "0.028790642170402562"
      ]
     },
     "execution_count": 13,
     "metadata": {},
     "output_type": "execute_result"
    }
   ],
   "source": [
    "nx.betweenness_centrality(G)['webmaster'] #betweenness centrality\n",
    "#e-06 means 10^-6 or 0.000001"
   ]
  },
  {
   "cell_type": "code",
   "execution_count": 14,
   "metadata": {},
   "outputs": [
    {
     "data": {
      "text/plain": [
       "0.4527687296416938"
      ]
     },
     "execution_count": 14,
     "metadata": {},
     "output_type": "execute_result"
    }
   ],
   "source": [
    "nx.closeness_centrality(G)['webmaster'] #closeness centrality"
   ]
  },
  {
   "cell_type": "markdown",
   "metadata": {},
   "source": [
    ">* Q. Who are the top 5 usernames who have the highest degree centrality?"
   ]
  },
  {
   "cell_type": "code",
   "execution_count": 15,
   "metadata": {},
   "outputs": [
    {
     "data": {
      "text/plain": [
       "[('jacobk', 0.30935251798561153),\n",
       " ('compgeek13', 0.2949640287769784),\n",
       " ('travis', 0.2517985611510791),\n",
       " ('florianbeijers', 0.23741007194244607),\n",
       " ('soronel.haetir', 0.22302158273381295)]"
      ]
     },
     "execution_count": 15,
     "metadata": {},
     "output_type": "execute_result"
    }
   ],
   "source": [
    "sorted(nx.degree_centrality(G).items(), key=lambda x:x[1], reverse=True)[:5]"
   ]
  },
  {
   "cell_type": "markdown",
   "metadata": {},
   "source": [
    ">* Let's put the degree centrality score as a node attribute called `degree`.\n",
    ">* To do so, we use the `nx.set_node_attributes` method."
   ]
  },
  {
   "cell_type": "code",
   "execution_count": 16,
   "metadata": {},
   "outputs": [],
   "source": [
    "nx.set_node_attributes(G, nx.degree_centrality(G), 'degree')"
   ]
  },
  {
   "cell_type": "markdown",
   "metadata": {},
   "source": [
    ">* Q. Who are the top 5 usernames who have the highest betweenness centrality?"
   ]
  },
  {
   "cell_type": "code",
   "execution_count": 17,
   "metadata": {},
   "outputs": [
    {
     "data": {
      "text/plain": [
       "[('jacobk', 0.16864972604002265),\n",
       " ('compgeek13', 0.16515285378497213),\n",
       " ('soronel.haetir', 0.13470213623000243),\n",
       " ('travis', 0.13201814940116208),\n",
       " ('dzhovani.chemishanov', 0.12660085241275623)]"
      ]
     },
     "execution_count": 17,
     "metadata": {},
     "output_type": "execute_result"
    }
   ],
   "source": [
    "sorted(nx.betweenness_centrality(G).items(), key=lambda x:x[1], reverse=True)[:5]"
   ]
  },
  {
   "cell_type": "markdown",
   "metadata": {},
   "source": [
    ">* Let's put the betweenness centrality score as a node attribute called `betweenness`.\n",
    ">* To do so, we use the `nx.set_node_attributes` method."
   ]
  },
  {
   "cell_type": "code",
   "execution_count": 18,
   "metadata": {},
   "outputs": [],
   "source": [
    "nx.set_node_attributes(G, nx.betweenness_centrality(G), 'betweenness')"
   ]
  },
  {
   "cell_type": "markdown",
   "metadata": {},
   "source": [
    ">* Q. Who are the top 5 usernames who have the highest closeness centrality?"
   ]
  },
  {
   "cell_type": "code",
   "execution_count": 19,
   "metadata": {},
   "outputs": [
    {
     "data": {
      "text/plain": [
       "[('compgeek13', 0.5387596899224806),\n",
       " ('jacobk', 0.5305343511450382),\n",
       " ('travis', 0.5148148148148148),\n",
       " ('dzhovani.chemishanov', 0.486013986013986),\n",
       " ('soronel.haetir', 0.4843205574912892)]"
      ]
     },
     "execution_count": 19,
     "metadata": {},
     "output_type": "execute_result"
    }
   ],
   "source": [
    "sorted(nx.closeness_centrality(G).items(), key=lambda x:x[1], reverse=True)[:5]"
   ]
  },
  {
   "cell_type": "markdown",
   "metadata": {},
   "source": [
    ">* Let's put the closeness centrality score as a node attribute called `closeness`.\n",
    ">* To do so, we use the `nx.set_node_attributes` method."
   ]
  },
  {
   "cell_type": "code",
   "execution_count": 20,
   "metadata": {},
   "outputs": [],
   "source": [
    "nx.set_node_attributes(G, nx.closeness_centrality(G), 'closeness')"
   ]
  },
  {
   "cell_type": "code",
   "execution_count": 21,
   "metadata": {},
   "outputs": [
    {
     "data": {
      "text/plain": [
       "{'degree': 0.2517985611510791,\n",
       " 'betweenness': 0.13201814940116208,\n",
       " 'closeness': 0.5148148148148148}"
      ]
     },
     "execution_count": 21,
     "metadata": {},
     "output_type": "execute_result"
    }
   ],
   "source": [
    "G.nodes['travis']"
   ]
  },
  {
   "cell_type": "markdown",
   "metadata": {},
   "source": [
    ">* Let's have another node attribute called `role`.\n",
    ">* If the user initiated the email conversation thread, we will assign the value `asker`.\n",
    ">* If the user replied to the email conversation thread, we will assign the value `answerer`.\n",
    ">* No matter `asker` replied to the email conversation thread later, we will still assign the value `asker`."
   ]
  },
  {
   "cell_type": "code",
   "execution_count": 22,
   "metadata": {},
   "outputs": [],
   "source": [
    "asker=data['account'].apply(lambda x: x[0]) # find the first element in the column 'account'."
   ]
  },
  {
   "cell_type": "code",
   "execution_count": 23,
   "metadata": {},
   "outputs": [
    {
     "data": {
      "text/plain": [
       "59"
      ]
     },
     "execution_count": 23,
     "metadata": {},
     "output_type": "execute_result"
    }
   ],
   "source": [
    "len(set(asker)) #there are 59 unique accounts whose role is 'asker'"
   ]
  },
  {
   "cell_type": "code",
   "execution_count": 24,
   "metadata": {},
   "outputs": [],
   "source": [
    "role={}\n",
    "for val in [i for sublist in data['account'] for i in sublist]:\n",
    "    if val in set(asker):\n",
    "        role[val]='asker'\n",
    "    else:\n",
    "        role[val]='answerer'"
   ]
  },
  {
   "cell_type": "code",
   "execution_count": 25,
   "metadata": {},
   "outputs": [],
   "source": [
    "nx.set_node_attributes(G, role, 'role')"
   ]
  },
  {
   "cell_type": "code",
   "execution_count": 26,
   "metadata": {},
   "outputs": [
    {
     "data": {
      "text/plain": [
       "{'degree': 0.2517985611510791,\n",
       " 'betweenness': 0.13201814940116208,\n",
       " 'closeness': 0.5148148148148148,\n",
       " 'role': 'answerer'}"
      ]
     },
     "execution_count": 26,
     "metadata": {},
     "output_type": "execute_result"
    }
   ],
   "source": [
    "G.nodes['travis']"
   ]
  },
  {
   "cell_type": "markdown",
   "metadata": {},
   "source": [
    ">* Homophily is the tendency of individuals to associate and bond with similar others.\n",
    ">* We can measure homophily by comparing the number of edges between nodes of the same type to the number of edges between nodes of different types.\n",
    ">* One of popular ways to measure the node-level homophily is to calculate the E-I index proposed by Krackhardt and Stern (1988).\n",
    ">* https://doi.org/10.2307/2786835"
   ]
  },
  {
   "cell_type": "markdown",
   "metadata": {},
   "source": [
    "<img src=\"../week8/ei-index.png\" width=500px height=500px />"
   ]
  },
  {
   "cell_type": "markdown",
   "metadata": {},
   "source": [
    ">* Unfortunately, networkx does not have a built-in function to calculate the E-I index.\n",
    ">* We will make a function to calculate the E-I index."
   ]
  },
  {
   "cell_type": "code",
   "execution_count": 27,
   "metadata": {},
   "outputs": [],
   "source": [
    "def ego_EI_idx(graph_object):\n",
    "    EI_dic = {}\n",
    "    for k in graph_object.nodes:\n",
    "        external = 0\n",
    "        internal = 0\n",
    "        try:\n",
    "            for i in graph_object.edges(k):\n",
    "                if graph_object.nodes[i[1]]['role'] == graph_object.nodes[k]['role']:\n",
    "                    internal += 1\n",
    "                else:\n",
    "                    external += 1\n",
    "        except ZeroDivisionError:\n",
    "            pass\n",
    "        if external + internal != 0:\n",
    "            EI_dic[k] = (external - internal) / (external + internal)\n",
    "        else:\n",
    "            EI_dic[k] = 0\n",
    "    nx.set_node_attributes(graph_object, EI_dic, name=\"ei_idx\")"
   ]
  },
  {
   "cell_type": "code",
   "execution_count": 28,
   "metadata": {},
   "outputs": [],
   "source": [
    "ego_EI_idx(G)"
   ]
  },
  {
   "cell_type": "code",
   "execution_count": 29,
   "metadata": {},
   "outputs": [
    {
     "data": {
      "text/plain": [
       "{'degree': 0.17266187050359713,\n",
       " 'betweenness': 0.028790642170402562,\n",
       " 'closeness': 0.4527687296416938,\n",
       " 'role': 'asker',\n",
       " 'ei_idx': 0.25}"
      ]
     },
     "execution_count": 29,
     "metadata": {},
     "output_type": "execute_result"
    }
   ],
   "source": [
    "G.nodes['webmaster']"
   ]
  },
  {
   "cell_type": "markdown",
   "metadata": {},
   "source": [
    ">* In order to calculate the graph-level homophily, there is another method called `assortativity coefficient`.\n",
    ">* The assortativity coefficient is a measure used to quantify the degree to which nodes in a network tend to be connected to other nodes that are similar or dissimilar.\n",
    "> * 1: Perfect assortative\n",
    "> * -1: Perfect disassortative"
   ]
  },
  {
   "cell_type": "code",
   "execution_count": 30,
   "metadata": {},
   "outputs": [
    {
     "data": {
      "text/plain": [
       "-0.08650555283928164"
      ]
     },
     "execution_count": 30,
     "metadata": {},
     "output_type": "execute_result"
    }
   ],
   "source": [
    "nx.attribute_assortativity_coefficient(G, 'role')"
   ]
  },
  {
   "cell_type": "markdown",
   "metadata": {},
   "source": [
    ">* If we want to measure the level of clustering in the network, we can use (1) transitivity and (2) clustering coefficient.\n",
    ">* `Transitivity` is the ratio of triangles to triplets in the network.\n",
    ">* `Clustering coefficient` is the clustering coefficient of the node.\n",
    ">* `Average clustering` is the average clustering coefficient of all the nodes in the network (Graph-level clustering)."
   ]
  },
  {
   "cell_type": "markdown",
   "metadata": {},
   "source": [
    "> * Why do we look at `triangles` in the network?\n",
    ">* https://faculty.ucr.edu/~hanneman/nettext/C8_Embedding.html\n",
    ">* https://bryangraham.github.io/econometrics/downloads/working_papers/DynamicNetworks/Homophily_and_Transitivity_April2016.pdf"
   ]
  },
  {
   "cell_type": "markdown",
   "metadata": {},
   "source": [
    "<img src=\"../week8/transitivity.png\" width=3500px height=80px />"
   ]
  },
  {
   "cell_type": "markdown",
   "metadata": {},
   "source": [
    "<img src=\"../week8/transitivity-figure.png\" width=800px height=300px />"
   ]
  },
  {
   "cell_type": "markdown",
   "metadata": {},
   "source": [
    "<img src=\"../week8/transitivity-1.png\" width=700px height=70px />"
   ]
  },
  {
   "cell_type": "markdown",
   "metadata": {},
   "source": [
    "<img src=\"../week8/transitivity-2.png\" width=700px height=120px />"
   ]
  },
  {
   "cell_type": "markdown",
   "metadata": {},
   "source": [
    "<img src=\"../week8/transitivity-3.png\" width=700px height=120px />"
   ]
  },
  {
   "cell_type": "markdown",
   "metadata": {},
   "source": [
    "<img src=\"../week8/triadic_closure.png\" width=300px height=700px />"
   ]
  },
  {
   "cell_type": "code",
   "execution_count": 31,
   "metadata": {},
   "outputs": [
    {
     "data": {
      "text/plain": [
       "0.4461376773515502"
      ]
     },
     "execution_count": 31,
     "metadata": {},
     "output_type": "execute_result"
    }
   ],
   "source": [
    "nx.transitivity(G) #transitivity "
   ]
  },
  {
   "cell_type": "markdown",
   "metadata": {},
   "source": [
    "<img src=\"../week8/transitivity-metric.png\" width=300px height=100px />"
   ]
  },
  {
   "cell_type": "code",
   "execution_count": 32,
   "metadata": {},
   "outputs": [
    {
     "data": {
      "text/plain": [
       "{'webmaster': 0.4528985507246377,\n",
       " 'jtwauthier': 1.0,\n",
       " 'soronel.haetir': 0.18494623655913978,\n",
       " 'blindwiz': 0.6691176470588235,\n",
       " 'taksantong': 0.24761904761904763,\n",
       " 'pmorales': 0.3333333333333333,\n",
       " 'ofbgmail': 0.4642857142857143,\n",
       " 'sonfire11': 0.31666666666666665,\n",
       " 'compgeek13': 0.2329268292682927,\n",
       " 'justind': 0.4444444444444444,\n",
       " 'wunderg': 1.0,\n",
       " 'james.homme': 0.3611111111111111,\n",
       " 'jr': 0,\n",
       " 'pablocmd2014': 1.0,\n",
       " 'tshelly': 0.6833333333333333,\n",
       " 'd.engebretson': 0.5,\n",
       " 'stefika': 0.34065934065934067,\n",
       " 'hunter.t.joz': 0.6785714285714286,\n",
       " 'dzhovani.chemishanov': 0.1827956989247312,\n",
       " 'jacobk': 0.21040974529346623,\n",
       " 'bhavya.shah125': 1.0,\n",
       " 'ah.shaikh97': 0.4909090909090909,\n",
       " 'anton.malykh': 0.5714285714285714,\n",
       " 'fawaz.ar94': 1.0,\n",
       " 'cmusic789': 0.5523809523809524,\n",
       " 'vortex37': 0.4,\n",
       " 'ntsiklauri2': 1.0,\n",
       " 'jacob': 0.3732193732193732,\n",
       " 'markalong64': 0.3611111111111111,\n",
       " 'richard_bartholomew': 1.0,\n",
       " 'mailpgrupos': 1.0,\n",
       " 'rawoolgrove': 0.3439153439153439,\n",
       " 'foxwarrior09': 1.0,\n",
       " 'nomad42': 0.3,\n",
       " 'george': 0.26143790849673204,\n",
       " 'david.lant': 0.3416666666666667,\n",
       " 'jamal.mazrui': 0.47619047619047616,\n",
       " 'florianbeijers': 0.3977272727272727,\n",
       " 's0201608': 0.5357142857142857,\n",
       " 'matt.campbell': 1.0,\n",
       " 'alok.lists': 0.7166666666666667,\n",
       " 'hoanggiang1994': 0.4,\n",
       " 'kevinchao89': 1.0,\n",
       " 'minor0403': 1.0,\n",
       " 'andre': 0.4,\n",
       " 'hihohaia': 0,\n",
       " 'alfredoh14': 1.0,\n",
       " 'brh': 1.0,\n",
       " 'nibinpaulmathew': 1.0,\n",
       " 'michael.e.walker3': 0.7833333333333333,\n",
       " 'q': 1.0,\n",
       " 'travis': 0.2689075630252101,\n",
       " 'ian.sharpe': 0.5714285714285714,\n",
       " 'lubos.pintes': 0.6666666666666666,\n",
       " 'harmony.neil': 1.0,\n",
       " 'p.lebaudour': 1.0,\n",
       " 'jhomme': 0.5021645021645021,\n",
       " 'dhf360': 1.0,\n",
       " 'dave.mehler': 0,\n",
       " 'akash.galaxy07': 0.6666666666666666,\n",
       " 'joseph.lee22590': 0.5,\n",
       " 'simranchawla1803': 1.0,\n",
       " 'jardatalearningcenter': 0,\n",
       " 'abletec': 0.16666666666666666,\n",
       " 'essence64': 0.6666666666666666,\n",
       " 'sjysky': 0,\n",
       " 'lauraeaves': 1.0,\n",
       " 'webmaster_deweer': 0,\n",
       " 'james.corbett': 0.22058823529411764,\n",
       " 'davidct1209': 1.0,\n",
       " 'kperry': 0.19444444444444445,\n",
       " 'm10fayed': 1.0,\n",
       " 'wdg31415': 0.6666666666666666,\n",
       " 'ertay': 1.0,\n",
       " 'jfine2358': 1.0,\n",
       " 'joeldodson': 0.6727272727272727,\n",
       " 'mcsedmak': 1.0,\n",
       " 'gerald.g.weichbrodt': 1.0,\n",
       " 'tim.burgess': 0.6666666666666666,\n",
       " 'john.boyer': 1.0,\n",
       " 'mailinglists': 1.0,\n",
       " 'ntienchelsea': 0,\n",
       " 'water.swift': 1.0,\n",
       " 'shooley2': 1.0,\n",
       " 'lucasradaelli': 1.0,\n",
       " 'tspivey': 0.8857142857142857,\n",
       " 'jamyad7': 0.4630541871921182,\n",
       " 'james': 1.0,\n",
       " 'daremc86': 1.0,\n",
       " 'trouble1': 0.7058823529411765,\n",
       " 'dleavens': 1.0,\n",
       " 'mfox32322': 0.6470588235294118,\n",
       " 'spg1111': 0.5,\n",
       " 'gcarella': 1.0,\n",
       " 'birkir.gunnarsson': 0.3333333333333333,\n",
       " 'marvkin': 0.35714285714285715,\n",
       " 'ccn': 1.0,\n",
       " 'gabe.castellanos': 1.0,\n",
       " 'mehgcap': 0,\n",
       " 'isforums': 1.0,\n",
       " 'dkreynolds': 0.7333333333333333,\n",
       " 'rodneyh': 1.0,\n",
       " 'tyler8860': 1.0,\n",
       " 'kerneels': 0.7619047619047619,\n",
       " 'readtobuild': 0,\n",
       " 'ai5hf': 0.45454545454545453,\n",
       " 'clau9274': 0.3333333333333333,\n",
       " 'lavachri': 1.0,\n",
       " 'singhminar': 1.0,\n",
       " 'danteg': 0.7523809523809524,\n",
       " 'lenron93': 1.0,\n",
       " 'lras': 1.0,\n",
       " 'yusufsarigoz': 0.7,\n",
       " 'sharkboy_torino': 1.0,\n",
       " 'mesut.kokalan': 1.0,\n",
       " 'gmelconian619': 1.0,\n",
       " 'brandonboy13': 1.0,\n",
       " 'meisamamini21': 1.0,\n",
       " 'luckycivic': 1.0,\n",
       " 'hamidreza.abroshan': 1.0,\n",
       " 'karl-otto': 1.0,\n",
       " 'dgl': 1.0,\n",
       " 'leaves1': 1.0,\n",
       " 'will-pearson': 0.7333333333333333,\n",
       " 'mike': 1.0,\n",
       " 'paulius.leveris': 1.0,\n",
       " 'mailtoloco2011': 0,\n",
       " 'letori.etori6': 1.0,\n",
       " 'taylorarndt99': 1.0,\n",
       " 'pranav.lal': 1.0,\n",
       " 'jaffar.sidek10': 1.0,\n",
       " 'driemer.riemer': 0,\n",
       " 'suliman.mohammad': 1.0,\n",
       " 'evelyn.faix1': 1.0,\n",
       " 'falinn.onda': 1.0,\n",
       " 'tuannamduong': 1.0,\n",
       " 'richardbmcdonald': 1.0,\n",
       " 'parham90': 1.0,\n",
       " 'iz4apu': 1.0,\n",
       " 'cearbhall.omeadhra': 0}"
      ]
     },
     "execution_count": 32,
     "metadata": {},
     "output_type": "execute_result"
    }
   ],
   "source": [
    "nx.clustering(G) #clustering coefficient"
   ]
  },
  {
   "cell_type": "markdown",
   "metadata": {},
   "source": [
    "<img src=\"../week8/clustering-metric.png\" width=500px height=100px />"
   ]
  },
  {
   "cell_type": "code",
   "execution_count": 33,
   "metadata": {},
   "outputs": [
    {
     "data": {
      "text/plain": [
       "0.6914292698455845"
      ]
     },
     "execution_count": 33,
     "metadata": {},
     "output_type": "execute_result"
    }
   ],
   "source": [
    "nx.average_clustering(G) #average clustering coefficient"
   ]
  },
  {
   "cell_type": "markdown",
   "metadata": {},
   "source": [
    ">* Louvain community detection algorithm is a method to detect the communities in the network.\n",
    ">* First, it iteratively optimizes the modularity score of the network by moving nodes between communities.\n",
    ">* Modularity:a measure of the structure of networks or graphs which measures the strength of division of a network into modules (also called groups, clusters or communities).\n",
    ">* Second, it stops when the modularity score cannot be increased further.\n",
    ">* Third, it returns the communities as the output."
   ]
  },
  {
   "cell_type": "markdown",
   "metadata": {},
   "source": [
    "<img src=\"../week8/louvain_community.png\" width=700px height=300px />"
   ]
  },
  {
   "cell_type": "markdown",
   "metadata": {},
   "source": [
    ">* `pip install community`\n",
    ">* `pip install python-louvain`"
   ]
  },
  {
   "cell_type": "code",
   "execution_count": 34,
   "metadata": {},
   "outputs": [
    {
     "data": {
      "text/plain": [
       "7"
      ]
     },
     "execution_count": 34,
     "metadata": {},
     "output_type": "execute_result"
    }
   ],
   "source": [
    "import community.community_louvain\n",
    "len(nx.community.louvain_communities(G)) #community detection"
   ]
  }
 ],
 "metadata": {
  "kernelspec": {
   "display_name": "py3.10",
   "language": "python",
   "name": "python3"
  },
  "language_info": {
   "codemirror_mode": {
    "name": "ipython",
    "version": 3
   },
   "file_extension": ".py",
   "mimetype": "text/x-python",
   "name": "python",
   "nbconvert_exporter": "python",
   "pygments_lexer": "ipython3",
   "version": "3.10.9"
  }
 },
 "nbformat": 4,
 "nbformat_minor": 2
}
