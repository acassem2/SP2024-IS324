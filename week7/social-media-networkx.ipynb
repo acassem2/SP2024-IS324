{
 "cells": [
  {
   "cell_type": "code",
   "execution_count": 1,
   "metadata": {},
   "outputs": [],
   "source": [
    "import pandas as pd\n",
    "import re\n",
    "import networkx as nx"
   ]
  },
  {
   "cell_type": "markdown",
   "metadata": {},
   "source": [
    ">* We are going back to week 5 when we analyzed social media data to build edges between users. We will use the data from week 3, which is collected from Politician's Twitter and Facebook accounts. We will use the data to build a social network graph and analyze the network."
   ]
  },
  {
   "cell_type": "code",
   "execution_count": 2,
   "metadata": {},
   "outputs": [],
   "source": [
    "data=pd.read_csv('../week3/Political-media-DFE.csv', encoding='latin1')"
   ]
  },
  {
   "cell_type": "code",
   "execution_count": 3,
   "metadata": {},
   "outputs": [
    {
     "data": {
      "text/plain": [
       "Index(['_unit_id', '_golden', '_unit_state', '_trusted_judgments',\n",
       "       '_last_judgment_at', 'audience', 'audience:confidence', 'bias',\n",
       "       'bias:confidence', 'message', 'message:confidence', 'orig__golden',\n",
       "       'audience_gold', 'bias_gold', 'bioid', 'embed', 'id', 'label',\n",
       "       'message_gold', 'source', 'text'],\n",
       "      dtype='object')"
      ]
     },
     "execution_count": 3,
     "metadata": {},
     "output_type": "execute_result"
    }
   ],
   "source": [
    "data.columns"
   ]
  },
  {
   "cell_type": "markdown",
   "metadata": {},
   "source": [
    ">* Let's subset the DataFrame to have `label`, `source`, and `text` columns"
   ]
  },
  {
   "cell_type": "code",
   "execution_count": 4,
   "metadata": {},
   "outputs": [],
   "source": [
    "df=data[['label', 'source', 'text']]"
   ]
  },
  {
   "cell_type": "markdown",
   "metadata": {},
   "source": [
    ">* With this DataFrame, we want to extract the name of the user from the `label` column and create a new column called `username` in the DataFrame."
   ]
  },
  {
   "cell_type": "code",
   "execution_count": 5,
   "metadata": {},
   "outputs": [
    {
     "name": "stderr",
     "output_type": "stream",
     "text": [
      "/var/folders/3_/r8z51q092v566bd_r0g_zj640000gn/T/ipykernel_3489/1246208881.py:2: SettingWithCopyWarning: \n",
      "A value is trying to be set on a copy of a slice from a DataFrame.\n",
      "Try using .loc[row_indexer,col_indexer] = value instead\n",
      "\n",
      "See the caveats in the documentation: https://pandas.pydata.org/pandas-docs/stable/user_guide/indexing.html#returning-a-view-versus-a-copy\n",
      "  df['username']=df['label'].str.replace('From: ', '').str.findall(pattern).str[0]\n"
     ]
    }
   ],
   "source": [
    "pattern=re.compile(r'(.+?)\\s*\\(')\n",
    "df['username']=df['label'].str.replace('From: ', '').str.findall(pattern).str[0]"
   ]
  },
  {
   "cell_type": "markdown",
   "metadata": {},
   "source": [
    ">* Let's lowercase the `username` column"
   ]
  },
  {
   "cell_type": "code",
   "execution_count": 6,
   "metadata": {},
   "outputs": [
    {
     "name": "stderr",
     "output_type": "stream",
     "text": [
      "/var/folders/3_/r8z51q092v566bd_r0g_zj640000gn/T/ipykernel_3489/3231511176.py:1: SettingWithCopyWarning: \n",
      "A value is trying to be set on a copy of a slice from a DataFrame.\n",
      "Try using .loc[row_indexer,col_indexer] = value instead\n",
      "\n",
      "See the caveats in the documentation: https://pandas.pydata.org/pandas-docs/stable/user_guide/indexing.html#returning-a-view-versus-a-copy\n",
      "  df['username']=df['username'].str.lower()\n"
     ]
    }
   ],
   "source": [
    "df['username']=df['username'].str.lower()"
   ]
  },
  {
   "cell_type": "markdown",
   "metadata": {},
   "source": [
    "> * Let's extract the mentions from the `text` column and create a new column `mention` with the mentions."
   ]
  },
  {
   "cell_type": "code",
   "execution_count": 7,
   "metadata": {},
   "outputs": [
    {
     "name": "stderr",
     "output_type": "stream",
     "text": [
      "/var/folders/3_/r8z51q092v566bd_r0g_zj640000gn/T/ipykernel_3489/704253825.py:2: SettingWithCopyWarning: \n",
      "A value is trying to be set on a copy of a slice from a DataFrame.\n",
      "Try using .loc[row_indexer,col_indexer] = value instead\n",
      "\n",
      "See the caveats in the documentation: https://pandas.pydata.org/pandas-docs/stable/user_guide/indexing.html#returning-a-view-versus-a-copy\n",
      "  df['mention']=df['text'].apply(lambda x: pattern.findall(x))\n",
      "/var/folders/3_/r8z51q092v566bd_r0g_zj640000gn/T/ipykernel_3489/704253825.py:3: SettingWithCopyWarning: \n",
      "A value is trying to be set on a copy of a slice from a DataFrame.\n",
      "Try using .loc[row_indexer,col_indexer] = value instead\n",
      "\n",
      "See the caveats in the documentation: https://pandas.pydata.org/pandas-docs/stable/user_guide/indexing.html#returning-a-view-versus-a-copy\n",
      "  df['mention']=df['mention'].apply(lambda x: [y.lower() for y in x])\n"
     ]
    }
   ],
   "source": [
    "pattern = re.compile(r'@[a-zA-Z0-9]+')\n",
    "df['mention']=df['text'].apply(lambda x: pattern.findall(x))\n",
    "df['mention']=df['mention'].apply(lambda x: [y.lower() for y in x])"
   ]
  },
  {
   "cell_type": "markdown",
   "metadata": {},
   "source": [
    ">* We also don't want to forget to convert the text into lowercase."
   ]
  },
  {
   "cell_type": "code",
   "execution_count": 8,
   "metadata": {},
   "outputs": [
    {
     "name": "stderr",
     "output_type": "stream",
     "text": [
      "/var/folders/3_/r8z51q092v566bd_r0g_zj640000gn/T/ipykernel_3489/473300915.py:1: SettingWithCopyWarning: \n",
      "A value is trying to be set on a copy of a slice from a DataFrame.\n",
      "Try using .loc[row_indexer,col_indexer] = value instead\n",
      "\n",
      "See the caveats in the documentation: https://pandas.pydata.org/pandas-docs/stable/user_guide/indexing.html#returning-a-view-versus-a-copy\n",
      "  df['text']=df['text'].str.lower()\n"
     ]
    }
   ],
   "source": [
    "df['text']=df['text'].str.lower()"
   ]
  },
  {
   "cell_type": "code",
   "execution_count": 9,
   "metadata": {},
   "outputs": [
    {
     "data": {
      "text/html": [
       "<div>\n",
       "<style scoped>\n",
       "    .dataframe tbody tr th:only-of-type {\n",
       "        vertical-align: middle;\n",
       "    }\n",
       "\n",
       "    .dataframe tbody tr th {\n",
       "        vertical-align: top;\n",
       "    }\n",
       "\n",
       "    .dataframe thead th {\n",
       "        text-align: right;\n",
       "    }\n",
       "</style>\n",
       "<table border=\"1\" class=\"dataframe\">\n",
       "  <thead>\n",
       "    <tr style=\"text-align: right;\">\n",
       "      <th></th>\n",
       "      <th>label</th>\n",
       "      <th>source</th>\n",
       "      <th>text</th>\n",
       "      <th>username</th>\n",
       "      <th>mention</th>\n",
       "    </tr>\n",
       "  </thead>\n",
       "  <tbody>\n",
       "    <tr>\n",
       "      <th>0</th>\n",
       "      <td>From: Trey Radel (Representative from Florida)</td>\n",
       "      <td>twitter</td>\n",
       "      <td>rt @nowthisnews: rep. trey radel (r- #fl) slam...</td>\n",
       "      <td>trey radel</td>\n",
       "      <td>[@nowthisnews]</td>\n",
       "    </tr>\n",
       "    <tr>\n",
       "      <th>1</th>\n",
       "      <td>From: Mitch McConnell (Senator from Kentucky)</td>\n",
       "      <td>twitter</td>\n",
       "      <td>video - #obamacare:  full of higher costs and ...</td>\n",
       "      <td>mitch mcconnell</td>\n",
       "      <td>[]</td>\n",
       "    </tr>\n",
       "    <tr>\n",
       "      <th>2</th>\n",
       "      <td>From: Kurt Schrader (Representative from Oregon)</td>\n",
       "      <td>twitter</td>\n",
       "      <td>please join me today in remembering our fallen...</td>\n",
       "      <td>kurt schrader</td>\n",
       "      <td>[]</td>\n",
       "    </tr>\n",
       "    <tr>\n",
       "      <th>3</th>\n",
       "      <td>From: Michael Crapo (Senator from Idaho)</td>\n",
       "      <td>twitter</td>\n",
       "      <td>rt @senatorleahy: 1st step toward senate debat...</td>\n",
       "      <td>michael crapo</td>\n",
       "      <td>[@senatorleahy]</td>\n",
       "    </tr>\n",
       "    <tr>\n",
       "      <th>4</th>\n",
       "      <td>From: Mark Udall (Senator from Colorado)</td>\n",
       "      <td>twitter</td>\n",
       "      <td>.@amazon delivery #drones show need to update ...</td>\n",
       "      <td>mark udall</td>\n",
       "      <td>[@amazon]</td>\n",
       "    </tr>\n",
       "  </tbody>\n",
       "</table>\n",
       "</div>"
      ],
      "text/plain": [
       "                                              label   source  \\\n",
       "0    From: Trey Radel (Representative from Florida)  twitter   \n",
       "1     From: Mitch McConnell (Senator from Kentucky)  twitter   \n",
       "2  From: Kurt Schrader (Representative from Oregon)  twitter   \n",
       "3          From: Michael Crapo (Senator from Idaho)  twitter   \n",
       "4          From: Mark Udall (Senator from Colorado)  twitter   \n",
       "\n",
       "                                                text         username  \\\n",
       "0  rt @nowthisnews: rep. trey radel (r- #fl) slam...       trey radel   \n",
       "1  video - #obamacare:  full of higher costs and ...  mitch mcconnell   \n",
       "2  please join me today in remembering our fallen...    kurt schrader   \n",
       "3  rt @senatorleahy: 1st step toward senate debat...    michael crapo   \n",
       "4  .@amazon delivery #drones show need to update ...       mark udall   \n",
       "\n",
       "           mention  \n",
       "0   [@nowthisnews]  \n",
       "1               []  \n",
       "2               []  \n",
       "3  [@senatorleahy]  \n",
       "4        [@amazon]  "
      ]
     },
     "execution_count": 9,
     "metadata": {},
     "output_type": "execute_result"
    }
   ],
   "source": [
    "df.head(5)"
   ]
  },
  {
   "cell_type": "markdown",
   "metadata": {},
   "source": [
    "> * Let's build edges between the users who have mentioned.\n",
    "> * To do so, we will use the `mention` column and iterate over the rows to create edges between the users in the `mention` column."
   ]
  },
  {
   "cell_type": "markdown",
   "metadata": {},
   "source": [
    ">* There is an information about whether the political leader is a Representative or a Senator.\n",
    ">* Let's use RegEx to extract that and create a dictionary called `title`."
   ]
  },
  {
   "cell_type": "code",
   "execution_count": 10,
   "metadata": {},
   "outputs": [
    {
     "name": "stderr",
     "output_type": "stream",
     "text": [
      "/var/folders/3_/r8z51q092v566bd_r0g_zj640000gn/T/ipykernel_3489/738137026.py:2: SettingWithCopyWarning: \n",
      "A value is trying to be set on a copy of a slice from a DataFrame.\n",
      "Try using .loc[row_indexer,col_indexer] = value instead\n",
      "\n",
      "See the caveats in the documentation: https://pandas.pydata.org/pandas-docs/stable/user_guide/indexing.html#returning-a-view-versus-a-copy\n",
      "  df['title']=df['label'].str.findall(pattern).str[0].str.strip('(')\n"
     ]
    }
   ],
   "source": [
    "pattern=re.compile(r'\\([A-Za-z]*')\n",
    "df['title']=df['label'].str.findall(pattern).str[0].str.strip('(')"
   ]
  },
  {
   "cell_type": "code",
   "execution_count": 11,
   "metadata": {},
   "outputs": [],
   "source": [
    "title={}\n",
    "for idx, row in df.iterrows():\n",
    "    title[row['username']]=row['title']"
   ]
  },
  {
   "cell_type": "code",
   "execution_count": 12,
   "metadata": {},
   "outputs": [],
   "source": [
    "title_shape = {key: 'o' if value == 'Representative' else 'x' for key, value in title.items()}"
   ]
  },
  {
   "cell_type": "markdown",
   "metadata": {},
   "source": [
    ">* There is another information about which State the political leader is from.\n",
    ">* Let's use RegEx to extract that and create a dictionary called `state`.\n",
    ">* We are changing the value of Representative and Senator to 'o' and 'x' to use it as a node shape."
   ]
  },
  {
   "cell_type": "code",
   "execution_count": 13,
   "metadata": {},
   "outputs": [
    {
     "name": "stderr",
     "output_type": "stream",
     "text": [
      "/var/folders/3_/r8z51q092v566bd_r0g_zj640000gn/T/ipykernel_3489/1849310204.py:2: SettingWithCopyWarning: \n",
      "A value is trying to be set on a copy of a slice from a DataFrame.\n",
      "Try using .loc[row_indexer,col_indexer] = value instead\n",
      "\n",
      "See the caveats in the documentation: https://pandas.pydata.org/pandas-docs/stable/user_guide/indexing.html#returning-a-view-versus-a-copy\n",
      "  df['state']=df['label'].str.findall(pattern).str[0].str.replace('from','').str.replace(')', '').str.strip()\n"
     ]
    }
   ],
   "source": [
    "pattern=re.compile(r'from\\s.*')\n",
    "df['state']=df['label'].str.findall(pattern).str[0].str.replace('from','').str.replace(')', '').str.strip()"
   ]
  },
  {
   "cell_type": "code",
   "execution_count": 14,
   "metadata": {},
   "outputs": [],
   "source": [
    "state={}\n",
    "for idx, row in df.iterrows():\n",
    "    state[row['username']]=row['state']"
   ]
  },
  {
   "cell_type": "code",
   "execution_count": 15,
   "metadata": {},
   "outputs": [],
   "source": [
    "import random\n",
    "import seaborn as sns\n",
    "# Get the unique values from the state dictionary\n",
    "unique_states = list(set(state.values()))\n",
    "\n",
    "# Generate a color palette using seaborn\n",
    "color_palette = sns.color_palette(\"hls\", len(unique_states))\n",
    "\n",
    "# Create a dictionary to map each unique state to a color\n",
    "state_colors_dict = {key: color_palette[i] for i, key in enumerate(unique_states)}"
   ]
  },
  {
   "cell_type": "code",
   "execution_count": 16,
   "metadata": {},
   "outputs": [
    {
     "data": {
      "text/html": [
       "<div>\n",
       "<style scoped>\n",
       "    .dataframe tbody tr th:only-of-type {\n",
       "        vertical-align: middle;\n",
       "    }\n",
       "\n",
       "    .dataframe tbody tr th {\n",
       "        vertical-align: top;\n",
       "    }\n",
       "\n",
       "    .dataframe thead th {\n",
       "        text-align: right;\n",
       "    }\n",
       "</style>\n",
       "<table border=\"1\" class=\"dataframe\">\n",
       "  <thead>\n",
       "    <tr style=\"text-align: right;\">\n",
       "      <th></th>\n",
       "      <th>label</th>\n",
       "      <th>source</th>\n",
       "      <th>text</th>\n",
       "      <th>username</th>\n",
       "      <th>mention</th>\n",
       "      <th>title</th>\n",
       "      <th>state</th>\n",
       "    </tr>\n",
       "  </thead>\n",
       "  <tbody>\n",
       "    <tr>\n",
       "      <th>0</th>\n",
       "      <td>From: Trey Radel (Representative from Florida)</td>\n",
       "      <td>twitter</td>\n",
       "      <td>rt @nowthisnews: rep. trey radel (r- #fl) slam...</td>\n",
       "      <td>trey radel</td>\n",
       "      <td>[@nowthisnews]</td>\n",
       "      <td>Representative</td>\n",
       "      <td>Florida</td>\n",
       "    </tr>\n",
       "    <tr>\n",
       "      <th>625</th>\n",
       "      <td>From: Trey Radel (Representative from Florida)</td>\n",
       "      <td>twitter</td>\n",
       "      <td>ûï@markdotdo: @treyradel dig the new tumblr t...</td>\n",
       "      <td>trey radel</td>\n",
       "      <td>[@markdotdo, @treyradel]</td>\n",
       "      <td>Representative</td>\n",
       "      <td>Florida</td>\n",
       "    </tr>\n",
       "    <tr>\n",
       "      <th>707</th>\n",
       "      <td>From: Trey Radel (Representative from Florida)</td>\n",
       "      <td>twitter</td>\n",
       "      <td>@morrow_brett ha! ur the man! u text one night...</td>\n",
       "      <td>trey radel</td>\n",
       "      <td>[@morrow]</td>\n",
       "      <td>Representative</td>\n",
       "      <td>Florida</td>\n",
       "    </tr>\n",
       "    <tr>\n",
       "      <th>959</th>\n",
       "      <td>From: Trey Radel (Representative from Florida)</td>\n",
       "      <td>twitter</td>\n",
       "      <td>why does keeping troops out of #syria matter? ...</td>\n",
       "      <td>trey radel</td>\n",
       "      <td>[]</td>\n",
       "      <td>Representative</td>\n",
       "      <td>Florida</td>\n",
       "    </tr>\n",
       "    <tr>\n",
       "      <th>1768</th>\n",
       "      <td>From: Trey Radel (Representative from Florida)</td>\n",
       "      <td>twitter</td>\n",
       "      <td>#obamacareinthreewords - protected privacy? lol</td>\n",
       "      <td>trey radel</td>\n",
       "      <td>[]</td>\n",
       "      <td>Representative</td>\n",
       "      <td>Florida</td>\n",
       "    </tr>\n",
       "    <tr>\n",
       "      <th>1885</th>\n",
       "      <td>From: Trey Radel (Representative from Florida)</td>\n",
       "      <td>twitter</td>\n",
       "      <td>now following @redmillennial hoping to involve...</td>\n",
       "      <td>trey radel</td>\n",
       "      <td>[@redmillennial]</td>\n",
       "      <td>Representative</td>\n",
       "      <td>Florida</td>\n",
       "    </tr>\n",
       "    <tr>\n",
       "      <th>2422</th>\n",
       "      <td>From: Trey Radel (Representative from Florida)</td>\n",
       "      <td>twitter</td>\n",
       "      <td>transportation sec. announced faa can transfer...</td>\n",
       "      <td>trey radel</td>\n",
       "      <td>[]</td>\n",
       "      <td>Representative</td>\n",
       "      <td>Florida</td>\n",
       "    </tr>\n",
       "  </tbody>\n",
       "</table>\n",
       "</div>"
      ],
      "text/plain": [
       "                                               label   source  \\\n",
       "0     From: Trey Radel (Representative from Florida)  twitter   \n",
       "625   From: Trey Radel (Representative from Florida)  twitter   \n",
       "707   From: Trey Radel (Representative from Florida)  twitter   \n",
       "959   From: Trey Radel (Representative from Florida)  twitter   \n",
       "1768  From: Trey Radel (Representative from Florida)  twitter   \n",
       "1885  From: Trey Radel (Representative from Florida)  twitter   \n",
       "2422  From: Trey Radel (Representative from Florida)  twitter   \n",
       "\n",
       "                                                   text    username  \\\n",
       "0     rt @nowthisnews: rep. trey radel (r- #fl) slam...  trey radel   \n",
       "625   ûï@markdotdo: @treyradel dig the new tumblr t...  trey radel   \n",
       "707   @morrow_brett ha! ur the man! u text one night...  trey radel   \n",
       "959   why does keeping troops out of #syria matter? ...  trey radel   \n",
       "1768    #obamacareinthreewords - protected privacy? lol  trey radel   \n",
       "1885  now following @redmillennial hoping to involve...  trey radel   \n",
       "2422  transportation sec. announced faa can transfer...  trey radel   \n",
       "\n",
       "                       mention           title    state  \n",
       "0               [@nowthisnews]  Representative  Florida  \n",
       "625   [@markdotdo, @treyradel]  Representative  Florida  \n",
       "707                  [@morrow]  Representative  Florida  \n",
       "959                         []  Representative  Florida  \n",
       "1768                        []  Representative  Florida  \n",
       "1885          [@redmillennial]  Representative  Florida  \n",
       "2422                        []  Representative  Florida  "
      ]
     },
     "execution_count": 16,
     "metadata": {},
     "output_type": "execute_result"
    }
   ],
   "source": [
    "df[df['username']=='trey radel']"
   ]
  },
  {
   "cell_type": "code",
   "execution_count": 17,
   "metadata": {},
   "outputs": [],
   "source": [
    "from collections import defaultdict\n",
    "default_dict=defaultdict(lambda: None, state)\n",
    "for key, value in state.items():\n",
    "    if value in state_colors_dict.keys():\n",
    "        default_dict[key]=state_colors_dict.get(value)\n",
    "color_mapped=dict(default_dict)"
   ]
  },
  {
   "cell_type": "code",
   "execution_count": 18,
   "metadata": {},
   "outputs": [
    {
     "data": {
      "text/html": [
       "<svg  width=\"2805\" height=\"55\"><rect x=\"0\" y=\"0\" width=\"55\" height=\"55\" style=\"fill:#db5f57;stroke-width:2;stroke:rgb(255,255,255)\"/><rect x=\"55\" y=\"0\" width=\"55\" height=\"55\" style=\"fill:#db6e57;stroke-width:2;stroke:rgb(255,255,255)\"/><rect x=\"110\" y=\"0\" width=\"55\" height=\"55\" style=\"fill:#db7e57;stroke-width:2;stroke:rgb(255,255,255)\"/><rect x=\"165\" y=\"0\" width=\"55\" height=\"55\" style=\"fill:#db8d57;stroke-width:2;stroke:rgb(255,255,255)\"/><rect x=\"220\" y=\"0\" width=\"55\" height=\"55\" style=\"fill:#db9d57;stroke-width:2;stroke:rgb(255,255,255)\"/><rect x=\"275\" y=\"0\" width=\"55\" height=\"55\" style=\"fill:#dbad57;stroke-width:2;stroke:rgb(255,255,255)\"/><rect x=\"330\" y=\"0\" width=\"55\" height=\"55\" style=\"fill:#dbbc57;stroke-width:2;stroke:rgb(255,255,255)\"/><rect x=\"385\" y=\"0\" width=\"55\" height=\"55\" style=\"fill:#dbcc57;stroke-width:2;stroke:rgb(255,255,255)\"/><rect x=\"440\" y=\"0\" width=\"55\" height=\"55\" style=\"fill:#dbdb57;stroke-width:2;stroke:rgb(255,255,255)\"/><rect x=\"495\" y=\"0\" width=\"55\" height=\"55\" style=\"fill:#ccdb57;stroke-width:2;stroke:rgb(255,255,255)\"/><rect x=\"550\" y=\"0\" width=\"55\" height=\"55\" style=\"fill:#bcdb57;stroke-width:2;stroke:rgb(255,255,255)\"/><rect x=\"605\" y=\"0\" width=\"55\" height=\"55\" style=\"fill:#acdb57;stroke-width:2;stroke:rgb(255,255,255)\"/><rect x=\"660\" y=\"0\" width=\"55\" height=\"55\" style=\"fill:#9ddb57;stroke-width:2;stroke:rgb(255,255,255)\"/><rect x=\"715\" y=\"0\" width=\"55\" height=\"55\" style=\"fill:#8ddb57;stroke-width:2;stroke:rgb(255,255,255)\"/><rect x=\"770\" y=\"0\" width=\"55\" height=\"55\" style=\"fill:#7edb57;stroke-width:2;stroke:rgb(255,255,255)\"/><rect x=\"825\" y=\"0\" width=\"55\" height=\"55\" style=\"fill:#6edb57;stroke-width:2;stroke:rgb(255,255,255)\"/><rect x=\"880\" y=\"0\" width=\"55\" height=\"55\" style=\"fill:#5edb57;stroke-width:2;stroke:rgb(255,255,255)\"/><rect x=\"935\" y=\"0\" width=\"55\" height=\"55\" style=\"fill:#57db5f;stroke-width:2;stroke:rgb(255,255,255)\"/><rect x=\"990\" y=\"0\" width=\"55\" height=\"55\" style=\"fill:#57db6e;stroke-width:2;stroke:rgb(255,255,255)\"/><rect x=\"1045\" y=\"0\" width=\"55\" height=\"55\" style=\"fill:#57db7e;stroke-width:2;stroke:rgb(255,255,255)\"/><rect x=\"1100\" y=\"0\" width=\"55\" height=\"55\" style=\"fill:#57db8d;stroke-width:2;stroke:rgb(255,255,255)\"/><rect x=\"1155\" y=\"0\" width=\"55\" height=\"55\" style=\"fill:#57db9d;stroke-width:2;stroke:rgb(255,255,255)\"/><rect x=\"1210\" y=\"0\" width=\"55\" height=\"55\" style=\"fill:#57dbad;stroke-width:2;stroke:rgb(255,255,255)\"/><rect x=\"1265\" y=\"0\" width=\"55\" height=\"55\" style=\"fill:#57dbbc;stroke-width:2;stroke:rgb(255,255,255)\"/><rect x=\"1320\" y=\"0\" width=\"55\" height=\"55\" style=\"fill:#57dbcc;stroke-width:2;stroke:rgb(255,255,255)\"/><rect x=\"1375\" y=\"0\" width=\"55\" height=\"55\" style=\"fill:#57dbdb;stroke-width:2;stroke:rgb(255,255,255)\"/><rect x=\"1430\" y=\"0\" width=\"55\" height=\"55\" style=\"fill:#57ccdb;stroke-width:2;stroke:rgb(255,255,255)\"/><rect x=\"1485\" y=\"0\" width=\"55\" height=\"55\" style=\"fill:#57bcdb;stroke-width:2;stroke:rgb(255,255,255)\"/><rect x=\"1540\" y=\"0\" width=\"55\" height=\"55\" style=\"fill:#57acdb;stroke-width:2;stroke:rgb(255,255,255)\"/><rect x=\"1595\" y=\"0\" width=\"55\" height=\"55\" style=\"fill:#579ddb;stroke-width:2;stroke:rgb(255,255,255)\"/><rect x=\"1650\" y=\"0\" width=\"55\" height=\"55\" style=\"fill:#578ddb;stroke-width:2;stroke:rgb(255,255,255)\"/><rect x=\"1705\" y=\"0\" width=\"55\" height=\"55\" style=\"fill:#577edb;stroke-width:2;stroke:rgb(255,255,255)\"/><rect x=\"1760\" y=\"0\" width=\"55\" height=\"55\" style=\"fill:#576edb;stroke-width:2;stroke:rgb(255,255,255)\"/><rect x=\"1815\" y=\"0\" width=\"55\" height=\"55\" style=\"fill:#575edb;stroke-width:2;stroke:rgb(255,255,255)\"/><rect x=\"1870\" y=\"0\" width=\"55\" height=\"55\" style=\"fill:#5f57db;stroke-width:2;stroke:rgb(255,255,255)\"/><rect x=\"1925\" y=\"0\" width=\"55\" height=\"55\" style=\"fill:#6e57db;stroke-width:2;stroke:rgb(255,255,255)\"/><rect x=\"1980\" y=\"0\" width=\"55\" height=\"55\" style=\"fill:#7e57db;stroke-width:2;stroke:rgb(255,255,255)\"/><rect x=\"2035\" y=\"0\" width=\"55\" height=\"55\" style=\"fill:#8d57db;stroke-width:2;stroke:rgb(255,255,255)\"/><rect x=\"2090\" y=\"0\" width=\"55\" height=\"55\" style=\"fill:#9d57db;stroke-width:2;stroke:rgb(255,255,255)\"/><rect x=\"2145\" y=\"0\" width=\"55\" height=\"55\" style=\"fill:#ad57db;stroke-width:2;stroke:rgb(255,255,255)\"/><rect x=\"2200\" y=\"0\" width=\"55\" height=\"55\" style=\"fill:#bc57db;stroke-width:2;stroke:rgb(255,255,255)\"/><rect x=\"2255\" y=\"0\" width=\"55\" height=\"55\" style=\"fill:#cc57db;stroke-width:2;stroke:rgb(255,255,255)\"/><rect x=\"2310\" y=\"0\" width=\"55\" height=\"55\" style=\"fill:#db57db;stroke-width:2;stroke:rgb(255,255,255)\"/><rect x=\"2365\" y=\"0\" width=\"55\" height=\"55\" style=\"fill:#db57cc;stroke-width:2;stroke:rgb(255,255,255)\"/><rect x=\"2420\" y=\"0\" width=\"55\" height=\"55\" style=\"fill:#db57bc;stroke-width:2;stroke:rgb(255,255,255)\"/><rect x=\"2475\" y=\"0\" width=\"55\" height=\"55\" style=\"fill:#db57ac;stroke-width:2;stroke:rgb(255,255,255)\"/><rect x=\"2530\" y=\"0\" width=\"55\" height=\"55\" style=\"fill:#db579d;stroke-width:2;stroke:rgb(255,255,255)\"/><rect x=\"2585\" y=\"0\" width=\"55\" height=\"55\" style=\"fill:#db578d;stroke-width:2;stroke:rgb(255,255,255)\"/><rect x=\"2640\" y=\"0\" width=\"55\" height=\"55\" style=\"fill:#db577e;stroke-width:2;stroke:rgb(255,255,255)\"/><rect x=\"2695\" y=\"0\" width=\"55\" height=\"55\" style=\"fill:#db576e;stroke-width:2;stroke:rgb(255,255,255)\"/><rect x=\"2750\" y=\"0\" width=\"55\" height=\"55\" style=\"fill:#db575e;stroke-width:2;stroke:rgb(255,255,255)\"/></svg>"
      ],
      "text/plain": [
       "[(0.86, 0.3712, 0.33999999999999997),\n",
       " (0.86, 0.43237647058823525, 0.33999999999999997),\n",
       " (0.86, 0.4935529411764705, 0.33999999999999997),\n",
       " (0.86, 0.5547294117647059, 0.33999999999999997),\n",
       " (0.86, 0.6159058823529411, 0.33999999999999997),\n",
       " (0.86, 0.6770823529411765, 0.33999999999999997),\n",
       " (0.86, 0.7382588235294117, 0.33999999999999997),\n",
       " (0.86, 0.7994352941176471, 0.33999999999999997),\n",
       " (0.8593882352941175, 0.86, 0.33999999999999997),\n",
       " (0.7982117647058823, 0.86, 0.33999999999999997),\n",
       " (0.7370352941176468, 0.86, 0.33999999999999997),\n",
       " (0.6758588235294114, 0.86, 0.33999999999999997),\n",
       " (0.6146823529411763, 0.86, 0.33999999999999997),\n",
       " (0.5535058823529413, 0.86, 0.33999999999999997),\n",
       " (0.4923294117647055, 0.86, 0.33999999999999997),\n",
       " (0.4311529411764704, 0.86, 0.33999999999999997),\n",
       " (0.36997647058823535, 0.86, 0.33999999999999997),\n",
       " (0.33999999999999997, 0.86, 0.3712),\n",
       " (0.33999999999999997, 0.86, 0.43237647058823525),\n",
       " (0.33999999999999997, 0.86, 0.49355294117647064),\n",
       " (0.33999999999999997, 0.86, 0.5547294117647059),\n",
       " (0.33999999999999997, 0.86, 0.6159058823529412),\n",
       " (0.33999999999999997, 0.86, 0.6770823529411767),\n",
       " (0.33999999999999997, 0.86, 0.7382588235294119),\n",
       " (0.33999999999999997, 0.86, 0.7994352941176471),\n",
       " (0.33999999999999997, 0.8593882352941177, 0.86),\n",
       " (0.33999999999999997, 0.7982117647058823, 0.86),\n",
       " (0.33999999999999997, 0.7370352941176468, 0.86),\n",
       " (0.33999999999999997, 0.6758588235294114, 0.86),\n",
       " (0.33999999999999997, 0.6146823529411763, 0.86),\n",
       " (0.33999999999999997, 0.553505882352941, 0.86),\n",
       " (0.33999999999999997, 0.49232941176470585, 0.86),\n",
       " (0.33999999999999997, 0.4311529411764704, 0.86),\n",
       " (0.33999999999999997, 0.369976470588235, 0.86),\n",
       " (0.3712, 0.33999999999999997, 0.86),\n",
       " (0.4323764705882351, 0.33999999999999997, 0.86),\n",
       " (0.49355294117647014, 0.33999999999999997, 0.86),\n",
       " (0.5547294117647059, 0.33999999999999997, 0.86),\n",
       " (0.6159058823529411, 0.33999999999999997, 0.86),\n",
       " (0.677082352941176, 0.33999999999999997, 0.86),\n",
       " (0.7382588235294119, 0.33999999999999997, 0.86),\n",
       " (0.799435294117647, 0.33999999999999997, 0.86),\n",
       " (0.86, 0.33999999999999997, 0.8593882352941175),\n",
       " (0.86, 0.33999999999999997, 0.7982117647058823),\n",
       " (0.86, 0.33999999999999997, 0.7370352941176466),\n",
       " (0.86, 0.33999999999999997, 0.6758588235294114),\n",
       " (0.86, 0.33999999999999997, 0.6146823529411763),\n",
       " (0.86, 0.33999999999999997, 0.5535058823529413),\n",
       " (0.86, 0.33999999999999997, 0.4923294117647055),\n",
       " (0.86, 0.33999999999999997, 0.4311529411764704),\n",
       " (0.86, 0.33999999999999997, 0.36997647058823535)]"
      ]
     },
     "execution_count": 18,
     "metadata": {},
     "output_type": "execute_result"
    }
   ],
   "source": [
    "color_palette"
   ]
  },
  {
   "cell_type": "code",
   "execution_count": 19,
   "metadata": {},
   "outputs": [
    {
     "data": {
      "text/plain": [
       "(0.86, 0.33999999999999997, 0.4311529411764704)"
      ]
     },
     "execution_count": 19,
     "metadata": {},
     "output_type": "execute_result"
    }
   ],
   "source": [
    "color_mapped['trey radel']"
   ]
  },
  {
   "cell_type": "code",
   "execution_count": 20,
   "metadata": {},
   "outputs": [],
   "source": [
    "#first we need to iterate through the mention column and then we need to iterate through usernames column\n",
    "#and we need to create a tuple of the username and the mention\n",
    "\n",
    "edges=[]\n",
    "for idx, val in df.iterrows():\n",
    "    if len(val['mention']) == 0: #when there are no mentions, we skip the iteration\n",
    "        continue\n",
    "    elif len(val['mention']) > 0: #when there are mentions, we iterate through the mentions\n",
    "        for mention in val['mention']: \n",
    "            edges.append((val['username'].lower(), mention.strip('@').lower())) \n",
    "            #we append the tuple of the username and the mention to the edges list\n",
    "            #lower() is used to convert the username to lowercase\n",
    "            #strip() is used to remove the @ from the mention"
   ]
  },
  {
   "cell_type": "code",
   "execution_count": 21,
   "metadata": {},
   "outputs": [
    {
     "data": {
      "text/plain": [
       "[('trey radel', 'nowthisnews'),\n",
       " ('michael crapo', 'senatorleahy'),\n",
       " ('mark udall', 'amazon'),\n",
       " ('heidi heitkamp', 'usdotfra'),\n",
       " ('frederica wilson', 'bbcworld'),\n",
       " ('gregg harper', 'mha'),\n",
       " ('gregg harper', 'genevrapittman'),\n",
       " ('gregg harper', 'medcitynews'),\n",
       " ('john dingell', 'skitchp'),\n",
       " ('kirsten gillibrand', 'corybooker')]"
      ]
     },
     "execution_count": 21,
     "metadata": {},
     "output_type": "execute_result"
    }
   ],
   "source": [
    "edges[:10]"
   ]
  },
  {
   "cell_type": "code",
   "execution_count": 22,
   "metadata": {},
   "outputs": [
    {
     "data": {
      "text/plain": [
       "1843"
      ]
     },
     "execution_count": 22,
     "metadata": {},
     "output_type": "execute_result"
    }
   ],
   "source": [
    "len(edges)"
   ]
  },
  {
   "cell_type": "markdown",
   "metadata": {},
   "source": [
    ">* We will generate an empty graph object `G` and populate the graph with the edges."
   ]
  },
  {
   "cell_type": "code",
   "execution_count": 23,
   "metadata": {},
   "outputs": [],
   "source": [
    "G = nx.Graph()"
   ]
  },
  {
   "cell_type": "code",
   "execution_count": 24,
   "metadata": {},
   "outputs": [],
   "source": [
    "G.add_edges_from(edges)"
   ]
  },
  {
   "cell_type": "markdown",
   "metadata": {},
   "source": [
    ">* When you add edges, the graph object will add the nodes automatically."
   ]
  },
  {
   "cell_type": "code",
   "execution_count": 25,
   "metadata": {},
   "outputs": [
    {
     "data": {
      "text/plain": [
       "1804"
      ]
     },
     "execution_count": 25,
     "metadata": {},
     "output_type": "execute_result"
    }
   ],
   "source": [
    "len(list(G.nodes))"
   ]
  },
  {
   "cell_type": "markdown",
   "metadata": {},
   "source": [
    ">* Let's add node attributes.\n",
    ">* We will add the `title` attributes to the node."
   ]
  },
  {
   "cell_type": "code",
   "execution_count": 26,
   "metadata": {},
   "outputs": [
    {
     "data": {
      "text/plain": [
       "0            trey radel\n",
       "1       mitch mcconnell\n",
       "2         kurt schrader\n",
       "3         michael crapo\n",
       "4            mark udall\n",
       "             ...       \n",
       "4995           ted yoho\n",
       "4996           ted yoho\n",
       "4997           ted yoho\n",
       "4998           ted yoho\n",
       "4999           ted yoho\n",
       "Name: username, Length: 5000, dtype: object"
      ]
     },
     "execution_count": 26,
     "metadata": {},
     "output_type": "execute_result"
    }
   ],
   "source": [
    "df['username']"
   ]
  },
  {
   "cell_type": "code",
   "execution_count": 27,
   "metadata": {},
   "outputs": [
    {
     "data": {
      "text/plain": [
       "0       Representative\n",
       "1              Senator\n",
       "2       Representative\n",
       "3              Senator\n",
       "4              Senator\n",
       "             ...      \n",
       "4995    Representative\n",
       "4996    Representative\n",
       "4997    Representative\n",
       "4998    Representative\n",
       "4999    Representative\n",
       "Name: title, Length: 5000, dtype: object"
      ]
     },
     "execution_count": 27,
     "metadata": {},
     "output_type": "execute_result"
    }
   ],
   "source": [
    "df['title']"
   ]
  },
  {
   "cell_type": "markdown",
   "metadata": {},
   "source": [
    ">* We want to try iterating over the `G` object to assign the title as the value of the key `title`.\n",
    ">* But this will return you an error with the message: `index 0 is out of bounds for axis 0 with size 0`\n",
    ">* Let's think why this is happening\n",
    ">* Q. Why is this happening?"
   ]
  },
  {
   "cell_type": "code",
   "execution_count": 28,
   "metadata": {},
   "outputs": [
    {
     "ename": "IndexError",
     "evalue": "index 0 is out of bounds for axis 0 with size 0",
     "output_type": "error",
     "traceback": [
      "\u001b[0;31m---------------------------------------------------------------------------\u001b[0m",
      "\u001b[0;31mIndexError\u001b[0m                                Traceback (most recent call last)",
      "Cell \u001b[0;32mIn[28], line 4\u001b[0m\n\u001b[1;32m      1\u001b[0m \u001b[38;5;66;03m#You will get an error from this code.\u001b[39;00m\n\u001b[1;32m      2\u001b[0m \u001b[38;5;66;03m#Can you think why this error is happening?\u001b[39;00m\n\u001b[1;32m      3\u001b[0m \u001b[38;5;28;01mfor\u001b[39;00m node \u001b[38;5;129;01min\u001b[39;00m G\u001b[38;5;241m.\u001b[39mnodes():\n\u001b[0;32m----> 4\u001b[0m     G\u001b[38;5;241m.\u001b[39mnodes[node][\u001b[38;5;124m'\u001b[39m\u001b[38;5;124mtitle\u001b[39m\u001b[38;5;124m'\u001b[39m]\u001b[38;5;241m=\u001b[39m\u001b[43mdf\u001b[49m\u001b[43m[\u001b[49m\u001b[43mdf\u001b[49m\u001b[43m[\u001b[49m\u001b[38;5;124;43m'\u001b[39;49m\u001b[38;5;124;43musername\u001b[39;49m\u001b[38;5;124;43m'\u001b[39;49m\u001b[43m]\u001b[49m\u001b[38;5;241;43m==\u001b[39;49m\u001b[43mnode\u001b[49m\u001b[43m]\u001b[49m\u001b[43m[\u001b[49m\u001b[38;5;124;43m'\u001b[39;49m\u001b[38;5;124;43mtitle\u001b[39;49m\u001b[38;5;124;43m'\u001b[39;49m\u001b[43m]\u001b[49m\u001b[38;5;241;43m.\u001b[39;49m\u001b[43munique\u001b[49m\u001b[43m(\u001b[49m\u001b[43m)\u001b[49m\u001b[43m[\u001b[49m\u001b[38;5;241;43m0\u001b[39;49m\u001b[43m]\u001b[49m\n",
      "\u001b[0;31mIndexError\u001b[0m: index 0 is out of bounds for axis 0 with size 0"
     ]
    }
   ],
   "source": [
    "#You will get an error from this code.\n",
    "#Can you think why this error is happening?\n",
    "for node in G.nodes():\n",
    "    G.nodes[node]['title']=df[df['username']==node]['title'].unique()[0]"
   ]
  },
  {
   "cell_type": "markdown",
   "metadata": {},
   "source": [
    ">* It is becuase nodes in the graph contains the nodes that are not in the `df['username']`\n",
    ">* As nodes include the nodes that have been mentioned but not in the `df['username']`, we need to proceess the nodes that are not in `df['username']`."
   ]
  },
  {
   "cell_type": "code",
   "execution_count": 29,
   "metadata": {},
   "outputs": [],
   "source": [
    "for node in G.nodes():\n",
    "    if node in df['username'].values: #check if the node is in the username column\n",
    "        G.nodes[node]['title']=df[df['username']==node]['title'].unique()[0]\n",
    "    else: #if the node is not in the username column, we assign the title attribute as Unknown\n",
    "        G.nodes[node]['title']='Unknown'"
   ]
  },
  {
   "cell_type": "code",
   "execution_count": 30,
   "metadata": {},
   "outputs": [
    {
     "data": {
      "text/plain": [
       "{'title': 'Unknown'}"
      ]
     },
     "execution_count": 30,
     "metadata": {},
     "output_type": "execute_result"
    }
   ],
   "source": [
    "G.nodes['nowthisnews']"
   ]
  },
  {
   "cell_type": "markdown",
   "metadata": {},
   "source": [
    ">* We will add the `state` attributes to the node.\n",
    ">* Similarly, we will add `Unknown` to the nodes that are not in the `df['username']`."
   ]
  },
  {
   "cell_type": "code",
   "execution_count": 31,
   "metadata": {},
   "outputs": [],
   "source": [
    "for node in G.nodes():\n",
    "    if node in df['username'].values:\n",
    "        G.nodes[node]['state']=df[df['username']==node]['state'].unique()[0]\n",
    "    else:\n",
    "        G.nodes[node]['state']='Unknown'"
   ]
  },
  {
   "cell_type": "code",
   "execution_count": 32,
   "metadata": {},
   "outputs": [
    {
     "data": {
      "text/plain": [
       "{'title': 'Unknown', 'state': 'Unknown'}"
      ]
     },
     "execution_count": 32,
     "metadata": {},
     "output_type": "execute_result"
    }
   ],
   "source": [
    "G.nodes['nowthisnews']"
   ]
  },
  {
   "cell_type": "code",
   "execution_count": 33,
   "metadata": {},
   "outputs": [
    {
     "data": {
      "text/plain": [
       "{'title': 'Representative', 'state': 'Florida'}"
      ]
     },
     "execution_count": 33,
     "metadata": {},
     "output_type": "execute_result"
    }
   ],
   "source": [
    "G.nodes['trey radel']"
   ]
  },
  {
   "cell_type": "markdown",
   "metadata": {},
   "source": [
    ">* Now that we have a dictionary, `color_mapped` that as usernames as keys and the value for RGB as values, we can use this dictionary to add the color to the nodes."
   ]
  },
  {
   "cell_type": "code",
   "execution_count": 34,
   "metadata": {},
   "outputs": [
    {
     "data": {
      "text/plain": [
       "(0.86, 0.33999999999999997, 0.4311529411764704)"
      ]
     },
     "execution_count": 34,
     "metadata": {},
     "output_type": "execute_result"
    }
   ],
   "source": [
    "color_mapped['trey radel']"
   ]
  },
  {
   "cell_type": "code",
   "execution_count": 35,
   "metadata": {},
   "outputs": [],
   "source": [
    "for node in G.nodes():\n",
    "    if node in df['username'].values:\n",
    "        G.nodes[node]['color']=color_mapped[node]\n",
    "    else:\n",
    "        G.nodes[node]['color']=(0,0,0)"
   ]
  },
  {
   "cell_type": "markdown",
   "metadata": {},
   "source": [
    ">* Thus far, we calculated the degree of the nodes by hardcoding the values. But we can use the built-in function of networkx to calculate various centrality measures."
   ]
  },
  {
   "cell_type": "code",
   "execution_count": 36,
   "metadata": {},
   "outputs": [
    {
     "data": {
      "text/plain": [
       "0.0027731558513588465"
      ]
     },
     "execution_count": 36,
     "metadata": {},
     "output_type": "execute_result"
    }
   ],
   "source": [
    "nx.degree_centrality(G)['trey radel'] #degree centrality"
   ]
  },
  {
   "cell_type": "code",
   "execution_count": 37,
   "metadata": {},
   "outputs": [
    {
     "data": {
      "text/plain": [
       "6.155728859842057e-06"
      ]
     },
     "execution_count": 37,
     "metadata": {},
     "output_type": "execute_result"
    }
   ],
   "source": [
    "nx.betweenness_centrality(G)['trey radel'] #betweenness centrality\n",
    "#e-06 means 10^-6 or 0.000001"
   ]
  },
  {
   "cell_type": "code",
   "execution_count": 38,
   "metadata": {},
   "outputs": [
    {
     "data": {
      "text/plain": [
       "0.0027731558513588465"
      ]
     },
     "execution_count": 38,
     "metadata": {},
     "output_type": "execute_result"
    }
   ],
   "source": [
    "nx.closeness_centrality(G)['trey radel'] #closeness centrality"
   ]
  },
  {
   "cell_type": "markdown",
   "metadata": {},
   "source": [
    ">* Q. Who are the top 5 usernames who have the highest degree centrality?"
   ]
  },
  {
   "cell_type": "code",
   "execution_count": 39,
   "metadata": {},
   "outputs": [
    {
     "data": {
      "text/plain": [
       "[('ileana ros-lehtinen', 0.052135330005546314),\n",
       " ('cory booker', 0.028840820854132004),\n",
       " ('dana rohrabacher', 0.022185246810870772),\n",
       " ('john boehner', 0.011092623405435386),\n",
       " ('josì© serrano', 0.011092623405435386)]"
      ]
     },
     "execution_count": 39,
     "metadata": {},
     "output_type": "execute_result"
    }
   ],
   "source": [
    "sorted(nx.degree_centrality(G).items(), key=lambda x:x[1], reverse=True)[:5]"
   ]
  },
  {
   "cell_type": "markdown",
   "metadata": {},
   "source": [
    ">* Q. Who are the top 5 usernames who have the highest betweenness centrality?"
   ]
  },
  {
   "cell_type": "code",
   "execution_count": 40,
   "metadata": {},
   "outputs": [
    {
     "data": {
      "text/plain": [
       "[('ileana ros-lehtinen', 0.13645400605026725),\n",
       " ('washingtonpost', 0.13067008590507037),\n",
       " ('speakerboehner', 0.12029136367414547),\n",
       " ('whitehouse', 0.0801739244506154),\n",
       " ('john boehner', 0.06366273423531267)]"
      ]
     },
     "execution_count": 40,
     "metadata": {},
     "output_type": "execute_result"
    }
   ],
   "source": [
    "sorted(nx.betweenness_centrality(G).items(), key=lambda x:x[1], reverse=True)[:5]"
   ]
  },
  {
   "cell_type": "markdown",
   "metadata": {},
   "source": [
    ">* Q. Who are the top 5 usernames who have the highest closeness centrality?"
   ]
  },
  {
   "cell_type": "code",
   "execution_count": 41,
   "metadata": {},
   "outputs": [
    {
     "data": {
      "text/plain": [
       "[('washingtonpost', 0.147355811037766),\n",
       " ('whitehouse', 0.14372348581133293),\n",
       " ('ileana ros-lehtinen', 0.14220878481663352),\n",
       " ('speakerboehner', 0.14208043753791816),\n",
       " ('bill huizenga', 0.13768961352071135)]"
      ]
     },
     "execution_count": 41,
     "metadata": {},
     "output_type": "execute_result"
    }
   ],
   "source": [
    "sorted(nx.closeness_centrality(G).items(), key=lambda x:x[1], reverse=True)[:5]"
   ]
  }
 ],
 "metadata": {
  "kernelspec": {
   "display_name": "py3.10",
   "language": "python",
   "name": "python3"
  },
  "language_info": {
   "codemirror_mode": {
    "name": "ipython",
    "version": 3
   },
   "file_extension": ".py",
   "mimetype": "text/x-python",
   "name": "python",
   "nbconvert_exporter": "python",
   "pygments_lexer": "ipython3",
   "version": "3.10.9"
  }
 },
 "nbformat": 4,
 "nbformat_minor": 2
}
